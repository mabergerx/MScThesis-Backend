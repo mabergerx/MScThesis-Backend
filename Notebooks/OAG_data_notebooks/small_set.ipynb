{
 "cells": [
  {
   "cell_type": "code",
   "execution_count": null,
   "metadata": {
    "colab": {},
    "colab_type": "code",
    "id": "3WEt-YfjGQMR"
   },
   "outputs": [],
   "source": [
    "# ! gcloud init"
   ]
  },
  {
   "cell_type": "code",
   "execution_count": 33,
   "metadata": {
    "colab": {
     "base_uri": "https://localhost:8080/",
     "height": 276
    },
    "colab_type": "code",
    "id": "nxt4okbQr4fp",
    "outputId": "11663026-458d-4ba9-efd3-c6850eb3d9a7"
   },
   "outputs": [
    {
     "name": "stdout",
     "output_type": "stream",
     "text": [
      "Copying file://papers_set_with_restored_abstract.csv [Content-Type=text/csv]...\n",
      "==> NOTE: You are uploading one or more large file(s), which would run\n",
      "significantly faster if you enable parallel composite uploads. This\n",
      "feature can be enabled by editing the\n",
      "\"parallel_composite_upload_threshold\" value in your .boto\n",
      "configuration file. However, note that if you do this large files will\n",
      "be uploaded as `composite objects\n",
      "<https://cloud.google.com/storage/docs/composite-objects>`_,which\n",
      "means that any user who downloads such objects will need to have a\n",
      "compiled crcmod installed (see \"gsutil help crcmod\"). This is because\n",
      "without a compiled crcmod, computing checksums on composite objects is\n",
      "so slow that gsutil disables downloads of composite objects.\n",
      "\n",
      "|\n",
      "Operation completed over 1 objects/1.4 GiB.                                      \n"
     ]
    }
   ],
   "source": [
    "! gsutil -m cp papers_set_with_restored_abstract.csv gs://noobs-ml/sem-search/"
   ]
  },
  {
   "cell_type": "code",
   "execution_count": null,
   "metadata": {
    "colab": {},
    "colab_type": "code",
    "id": "Tb9vBGQRF3Yb"
   },
   "outputs": [],
   "source": [
    "# ! pip install sentence-transformers"
   ]
  },
  {
   "cell_type": "code",
   "execution_count": null,
   "metadata": {
    "colab": {},
    "colab_type": "code",
    "id": "blInhB83vCZP"
   },
   "outputs": [],
   "source": [
    "import pandas as pd\n",
    "import os\n",
    "import gc\n",
    "import plotly.express as px\n",
    "import ast\n",
    "from sentence_transformers import SentenceTransformer\n",
    "from sklearn.feature_extraction.text import TfidfVectorizer\n",
    "import scipy.spatial\n",
    "import json\n",
    "import re\n",
    "import numpy as np"
   ]
  },
  {
   "cell_type": "code",
   "execution_count": 11,
   "metadata": {
    "colab": {
     "base_uri": "https://localhost:8080/",
     "height": 86
    },
    "colab_type": "code",
    "id": "34Z6KpbHUeXE",
    "outputId": "2cd7c502-e882-402d-dc83-93adf6add22c"
   },
   "outputs": [
    {
     "name": "stderr",
     "output_type": "stream",
     "text": [
      "/usr/local/lib/python3.6/dist-packages/IPython/core/interactiveshell.py:2718: DtypeWarning:\n",
      "\n",
      "Columns (1,6) have mixed types.Specify dtype option on import or set low_memory=False.\n",
      "\n"
     ]
    }
   ],
   "source": [
    "full_df = pd.read_csv(\"/content/all_relevant_papers.csv\")"
   ]
  },
  {
   "cell_type": "code",
   "execution_count": null,
   "metadata": {
    "colab": {},
    "colab_type": "code",
    "id": "wM0nm8f4BgED"
   },
   "outputs": [],
   "source": [
    "all_paper_ids = set(full_df.id)"
   ]
  },
  {
   "cell_type": "code",
   "execution_count": null,
   "metadata": {
    "colab": {},
    "colab_type": "code",
    "id": "NIcHaMBlWD4d"
   },
   "outputs": [],
   "source": [
    "len_full = len(full_df)\n",
    "len_with_abstract = len(full_df.dropna(subset=[\"indexed_abstract\"]))\n",
    "len_with_refs = len(full_df.dropna(subset=[\"references\"]))\n",
    "len_with_refs_and_abstract = len(full_df.dropna(subset=[\"references\", \"indexed_abstract\"]))"
   ]
  },
  {
   "cell_type": "code",
   "execution_count": null,
   "metadata": {
    "colab": {},
    "colab_type": "code",
    "id": "JggfiImOXZX0"
   },
   "outputs": [],
   "source": [
    "stats = pd.DataFrame([{\"type\": \"full subset\", \"len\": len_full}, \n",
    "                      {\"type\": \"with abstract\", \"len\": len_with_abstract},\n",
    "                      {\"type\": \"with references\", \"len\": len_with_refs},\n",
    "                      {\"type\": \"with refs and abstract\", \"len\": len_with_refs_and_abstract}])"
   ]
  },
  {
   "cell_type": "code",
   "execution_count": 15,
   "metadata": {
    "colab": {
     "base_uri": "https://localhost:8080/",
     "height": 168
    },
    "colab_type": "code",
    "id": "feE81k6bXzyA",
    "outputId": "cd0c3a31-6e91-4744-8104-10774d3da585"
   },
   "outputs": [
    {
     "data": {
      "text/html": [
       "<div>\n",
       "<style scoped>\n",
       "    .dataframe tbody tr th:only-of-type {\n",
       "        vertical-align: middle;\n",
       "    }\n",
       "\n",
       "    .dataframe tbody tr th {\n",
       "        vertical-align: top;\n",
       "    }\n",
       "\n",
       "    .dataframe thead th {\n",
       "        text-align: right;\n",
       "    }\n",
       "</style>\n",
       "<table border=\"1\" class=\"dataframe\">\n",
       "  <thead>\n",
       "    <tr style=\"text-align: right;\">\n",
       "      <th></th>\n",
       "      <th>type</th>\n",
       "      <th>len</th>\n",
       "    </tr>\n",
       "  </thead>\n",
       "  <tbody>\n",
       "    <tr>\n",
       "      <th>0</th>\n",
       "      <td>full subset</td>\n",
       "      <td>300505</td>\n",
       "    </tr>\n",
       "    <tr>\n",
       "      <th>1</th>\n",
       "      <td>with abstract</td>\n",
       "      <td>251140</td>\n",
       "    </tr>\n",
       "    <tr>\n",
       "      <th>2</th>\n",
       "      <td>with references</td>\n",
       "      <td>221967</td>\n",
       "    </tr>\n",
       "    <tr>\n",
       "      <th>3</th>\n",
       "      <td>with refs and abstract</td>\n",
       "      <td>205340</td>\n",
       "    </tr>\n",
       "  </tbody>\n",
       "</table>\n",
       "</div>"
      ],
      "text/plain": [
       "                     type     len\n",
       "0             full subset  300505\n",
       "1           with abstract  251140\n",
       "2         with references  221967\n",
       "3  with refs and abstract  205340"
      ]
     },
     "execution_count": 15,
     "metadata": {
      "tags": []
     },
     "output_type": "execute_result"
    }
   ],
   "source": [
    "stats"
   ]
  },
  {
   "cell_type": "code",
   "execution_count": 16,
   "metadata": {
    "colab": {
     "base_uri": "https://localhost:8080/",
     "height": 542
    },
    "colab_type": "code",
    "id": "v8l_B7hpVmIu",
    "outputId": "fa05aa43-48b9-43ba-be36-56278d47986c"
   },
   "outputs": [
    {
     "data": {
      "text/html": [
       "<html>\n",
       "<head><meta charset=\"utf-8\" /></head>\n",
       "<body>\n",
       "    <div>\n",
       "            <script src=\"https://cdnjs.cloudflare.com/ajax/libs/mathjax/2.7.5/MathJax.js?config=TeX-AMS-MML_SVG\"></script><script type=\"text/javascript\">if (window.MathJax) {MathJax.Hub.Config({SVG: {font: \"STIX-Web\"}});}</script>\n",
       "                <script type=\"text/javascript\">window.PlotlyConfig = {MathJaxConfig: 'local'};</script>\n",
       "        <script src=\"https://cdn.plot.ly/plotly-latest.min.js\"></script>    \n",
       "            <div id=\"cf36bd5a-752c-4a5d-99d2-5074774a6e23\" class=\"plotly-graph-div\" style=\"height:525px; width:100%;\"></div>\n",
       "            <script type=\"text/javascript\">\n",
       "                \n",
       "                    window.PLOTLYENV=window.PLOTLYENV || {};\n",
       "                    \n",
       "                if (document.getElementById(\"cf36bd5a-752c-4a5d-99d2-5074774a6e23\")) {\n",
       "                    Plotly.newPlot(\n",
       "                        'cf36bd5a-752c-4a5d-99d2-5074774a6e23',\n",
       "                        [{\"alignmentgroup\": \"True\", \"hoverlabel\": {\"namelength\": 0}, \"hovertemplate\": \"type=%{y}<br>len=%{x}<br>text=%{text}\", \"legendgroup\": \"type=full subset\", \"marker\": {\"color\": \"#636efa\"}, \"name\": \"type=full subset\", \"offsetgroup\": \"type=full subset\", \"orientation\": \"h\", \"showlegend\": true, \"text\": [\"300505 papers  \"], \"textposition\": \"auto\", \"type\": \"bar\", \"x\": [300505], \"xaxis\": \"x\", \"y\": [\"full subset\"], \"yaxis\": \"y\"}, {\"alignmentgroup\": \"True\", \"hoverlabel\": {\"namelength\": 0}, \"hovertemplate\": \"type=%{y}<br>len=%{x}<br>text=%{text}\", \"legendgroup\": \"type=with abstract\", \"marker\": {\"color\": \"#EF553B\"}, \"name\": \"type=with abstract\", \"offsetgroup\": \"type=with abstract\", \"orientation\": \"h\", \"showlegend\": true, \"text\": [\"251140 papers  \"], \"textposition\": \"auto\", \"type\": \"bar\", \"x\": [251140], \"xaxis\": \"x\", \"y\": [\"with abstract\"], \"yaxis\": \"y\"}, {\"alignmentgroup\": \"True\", \"hoverlabel\": {\"namelength\": 0}, \"hovertemplate\": \"type=%{y}<br>len=%{x}<br>text=%{text}\", \"legendgroup\": \"type=with references\", \"marker\": {\"color\": \"#00cc96\"}, \"name\": \"type=with references\", \"offsetgroup\": \"type=with references\", \"orientation\": \"h\", \"showlegend\": true, \"text\": [\"221967 papers  \"], \"textposition\": \"auto\", \"type\": \"bar\", \"x\": [221967], \"xaxis\": \"x\", \"y\": [\"with references\"], \"yaxis\": \"y\"}, {\"alignmentgroup\": \"True\", \"hoverlabel\": {\"namelength\": 0}, \"hovertemplate\": \"type=%{y}<br>len=%{x}<br>text=%{text}\", \"legendgroup\": \"type=with refs and abstract\", \"marker\": {\"color\": \"#ab63fa\"}, \"name\": \"type=with refs and abstract\", \"offsetgroup\": \"type=with refs and abstract\", \"orientation\": \"h\", \"showlegend\": true, \"text\": [\"205340 papers  \"], \"textposition\": \"auto\", \"type\": \"bar\", \"x\": [205340], \"xaxis\": \"x\", \"y\": [\"with refs and abstract\"], \"yaxis\": \"y\"}],\n",
       "                        {\"barmode\": \"relative\", \"legend\": {\"tracegroupgap\": 0}, \"showlegend\": false, \"template\": {\"data\": {\"bar\": [{\"error_x\": {\"color\": \"#2a3f5f\"}, \"error_y\": {\"color\": \"#2a3f5f\"}, \"marker\": {\"line\": {\"color\": \"#E5ECF6\", \"width\": 0.5}}, \"type\": \"bar\"}], \"barpolar\": [{\"marker\": {\"line\": {\"color\": \"#E5ECF6\", \"width\": 0.5}}, \"type\": \"barpolar\"}], \"carpet\": [{\"aaxis\": {\"endlinecolor\": \"#2a3f5f\", \"gridcolor\": \"white\", \"linecolor\": \"white\", \"minorgridcolor\": \"white\", \"startlinecolor\": \"#2a3f5f\"}, \"baxis\": {\"endlinecolor\": \"#2a3f5f\", \"gridcolor\": \"white\", \"linecolor\": \"white\", \"minorgridcolor\": \"white\", \"startlinecolor\": \"#2a3f5f\"}, \"type\": \"carpet\"}], \"choropleth\": [{\"colorbar\": {\"outlinewidth\": 0, \"ticks\": \"\"}, \"type\": \"choropleth\"}], \"contour\": [{\"colorbar\": {\"outlinewidth\": 0, \"ticks\": \"\"}, \"colorscale\": [[0.0, \"#0d0887\"], [0.1111111111111111, \"#46039f\"], [0.2222222222222222, \"#7201a8\"], [0.3333333333333333, \"#9c179e\"], [0.4444444444444444, \"#bd3786\"], [0.5555555555555556, \"#d8576b\"], [0.6666666666666666, \"#ed7953\"], [0.7777777777777778, \"#fb9f3a\"], [0.8888888888888888, \"#fdca26\"], [1.0, \"#f0f921\"]], \"type\": \"contour\"}], \"contourcarpet\": [{\"colorbar\": {\"outlinewidth\": 0, \"ticks\": \"\"}, \"type\": \"contourcarpet\"}], \"heatmap\": [{\"colorbar\": {\"outlinewidth\": 0, \"ticks\": \"\"}, \"colorscale\": [[0.0, \"#0d0887\"], [0.1111111111111111, \"#46039f\"], [0.2222222222222222, \"#7201a8\"], [0.3333333333333333, \"#9c179e\"], [0.4444444444444444, \"#bd3786\"], [0.5555555555555556, \"#d8576b\"], [0.6666666666666666, \"#ed7953\"], [0.7777777777777778, \"#fb9f3a\"], [0.8888888888888888, \"#fdca26\"], [1.0, \"#f0f921\"]], \"type\": \"heatmap\"}], \"heatmapgl\": [{\"colorbar\": {\"outlinewidth\": 0, \"ticks\": \"\"}, \"colorscale\": [[0.0, \"#0d0887\"], [0.1111111111111111, \"#46039f\"], [0.2222222222222222, \"#7201a8\"], [0.3333333333333333, \"#9c179e\"], [0.4444444444444444, \"#bd3786\"], [0.5555555555555556, \"#d8576b\"], [0.6666666666666666, \"#ed7953\"], [0.7777777777777778, \"#fb9f3a\"], [0.8888888888888888, \"#fdca26\"], [1.0, \"#f0f921\"]], \"type\": \"heatmapgl\"}], \"histogram\": [{\"marker\": {\"colorbar\": {\"outlinewidth\": 0, \"ticks\": \"\"}}, \"type\": \"histogram\"}], \"histogram2d\": [{\"colorbar\": {\"outlinewidth\": 0, \"ticks\": \"\"}, \"colorscale\": [[0.0, \"#0d0887\"], [0.1111111111111111, \"#46039f\"], [0.2222222222222222, \"#7201a8\"], [0.3333333333333333, \"#9c179e\"], [0.4444444444444444, \"#bd3786\"], [0.5555555555555556, \"#d8576b\"], [0.6666666666666666, \"#ed7953\"], [0.7777777777777778, \"#fb9f3a\"], [0.8888888888888888, \"#fdca26\"], [1.0, \"#f0f921\"]], \"type\": \"histogram2d\"}], \"histogram2dcontour\": [{\"colorbar\": {\"outlinewidth\": 0, \"ticks\": \"\"}, \"colorscale\": [[0.0, \"#0d0887\"], [0.1111111111111111, \"#46039f\"], [0.2222222222222222, \"#7201a8\"], [0.3333333333333333, \"#9c179e\"], [0.4444444444444444, \"#bd3786\"], [0.5555555555555556, \"#d8576b\"], [0.6666666666666666, \"#ed7953\"], [0.7777777777777778, \"#fb9f3a\"], [0.8888888888888888, \"#fdca26\"], [1.0, \"#f0f921\"]], \"type\": \"histogram2dcontour\"}], \"mesh3d\": [{\"colorbar\": {\"outlinewidth\": 0, \"ticks\": \"\"}, \"type\": \"mesh3d\"}], \"parcoords\": [{\"line\": {\"colorbar\": {\"outlinewidth\": 0, \"ticks\": \"\"}}, \"type\": \"parcoords\"}], \"pie\": [{\"automargin\": true, \"type\": \"pie\"}], \"scatter\": [{\"marker\": {\"colorbar\": {\"outlinewidth\": 0, \"ticks\": \"\"}}, \"type\": \"scatter\"}], \"scatter3d\": [{\"line\": {\"colorbar\": {\"outlinewidth\": 0, \"ticks\": \"\"}}, \"marker\": {\"colorbar\": {\"outlinewidth\": 0, \"ticks\": \"\"}}, \"type\": \"scatter3d\"}], \"scattercarpet\": [{\"marker\": {\"colorbar\": {\"outlinewidth\": 0, \"ticks\": \"\"}}, \"type\": \"scattercarpet\"}], \"scattergeo\": [{\"marker\": {\"colorbar\": {\"outlinewidth\": 0, \"ticks\": \"\"}}, \"type\": \"scattergeo\"}], \"scattergl\": [{\"marker\": {\"colorbar\": {\"outlinewidth\": 0, \"ticks\": \"\"}}, \"type\": \"scattergl\"}], \"scattermapbox\": [{\"marker\": {\"colorbar\": {\"outlinewidth\": 0, \"ticks\": \"\"}}, \"type\": \"scattermapbox\"}], \"scatterpolar\": [{\"marker\": {\"colorbar\": {\"outlinewidth\": 0, \"ticks\": \"\"}}, \"type\": \"scatterpolar\"}], \"scatterpolargl\": [{\"marker\": {\"colorbar\": {\"outlinewidth\": 0, \"ticks\": \"\"}}, \"type\": \"scatterpolargl\"}], \"scatterternary\": [{\"marker\": {\"colorbar\": {\"outlinewidth\": 0, \"ticks\": \"\"}}, \"type\": \"scatterternary\"}], \"surface\": [{\"colorbar\": {\"outlinewidth\": 0, \"ticks\": \"\"}, \"colorscale\": [[0.0, \"#0d0887\"], [0.1111111111111111, \"#46039f\"], [0.2222222222222222, \"#7201a8\"], [0.3333333333333333, \"#9c179e\"], [0.4444444444444444, \"#bd3786\"], [0.5555555555555556, \"#d8576b\"], [0.6666666666666666, \"#ed7953\"], [0.7777777777777778, \"#fb9f3a\"], [0.8888888888888888, \"#fdca26\"], [1.0, \"#f0f921\"]], \"type\": \"surface\"}], \"table\": [{\"cells\": {\"fill\": {\"color\": \"#EBF0F8\"}, \"line\": {\"color\": \"white\"}}, \"header\": {\"fill\": {\"color\": \"#C8D4E3\"}, \"line\": {\"color\": \"white\"}}, \"type\": \"table\"}]}, \"layout\": {\"annotationdefaults\": {\"arrowcolor\": \"#2a3f5f\", \"arrowhead\": 0, \"arrowwidth\": 1}, \"coloraxis\": {\"colorbar\": {\"outlinewidth\": 0, \"ticks\": \"\"}}, \"colorscale\": {\"diverging\": [[0, \"#8e0152\"], [0.1, \"#c51b7d\"], [0.2, \"#de77ae\"], [0.3, \"#f1b6da\"], [0.4, \"#fde0ef\"], [0.5, \"#f7f7f7\"], [0.6, \"#e6f5d0\"], [0.7, \"#b8e186\"], [0.8, \"#7fbc41\"], [0.9, \"#4d9221\"], [1, \"#276419\"]], \"sequential\": [[0.0, \"#0d0887\"], [0.1111111111111111, \"#46039f\"], [0.2222222222222222, \"#7201a8\"], [0.3333333333333333, \"#9c179e\"], [0.4444444444444444, \"#bd3786\"], [0.5555555555555556, \"#d8576b\"], [0.6666666666666666, \"#ed7953\"], [0.7777777777777778, \"#fb9f3a\"], [0.8888888888888888, \"#fdca26\"], [1.0, \"#f0f921\"]], \"sequentialminus\": [[0.0, \"#0d0887\"], [0.1111111111111111, \"#46039f\"], [0.2222222222222222, \"#7201a8\"], [0.3333333333333333, \"#9c179e\"], [0.4444444444444444, \"#bd3786\"], [0.5555555555555556, \"#d8576b\"], [0.6666666666666666, \"#ed7953\"], [0.7777777777777778, \"#fb9f3a\"], [0.8888888888888888, \"#fdca26\"], [1.0, \"#f0f921\"]]}, \"colorway\": [\"#636efa\", \"#EF553B\", \"#00cc96\", \"#ab63fa\", \"#FFA15A\", \"#19d3f3\", \"#FF6692\", \"#B6E880\", \"#FF97FF\", \"#FECB52\"], \"font\": {\"color\": \"#2a3f5f\"}, \"geo\": {\"bgcolor\": \"white\", \"lakecolor\": \"white\", \"landcolor\": \"#E5ECF6\", \"showlakes\": true, \"showland\": true, \"subunitcolor\": \"white\"}, \"hoverlabel\": {\"align\": \"left\"}, \"hovermode\": \"closest\", \"mapbox\": {\"style\": \"light\"}, \"paper_bgcolor\": \"white\", \"plot_bgcolor\": \"#E5ECF6\", \"polar\": {\"angularaxis\": {\"gridcolor\": \"white\", \"linecolor\": \"white\", \"ticks\": \"\"}, \"bgcolor\": \"#E5ECF6\", \"radialaxis\": {\"gridcolor\": \"white\", \"linecolor\": \"white\", \"ticks\": \"\"}}, \"scene\": {\"xaxis\": {\"backgroundcolor\": \"#E5ECF6\", \"gridcolor\": \"white\", \"gridwidth\": 2, \"linecolor\": \"white\", \"showbackground\": true, \"ticks\": \"\", \"zerolinecolor\": \"white\"}, \"yaxis\": {\"backgroundcolor\": \"#E5ECF6\", \"gridcolor\": \"white\", \"gridwidth\": 2, \"linecolor\": \"white\", \"showbackground\": true, \"ticks\": \"\", \"zerolinecolor\": \"white\"}, \"zaxis\": {\"backgroundcolor\": \"#E5ECF6\", \"gridcolor\": \"white\", \"gridwidth\": 2, \"linecolor\": \"white\", \"showbackground\": true, \"ticks\": \"\", \"zerolinecolor\": \"white\"}}, \"shapedefaults\": {\"line\": {\"color\": \"#2a3f5f\"}}, \"ternary\": {\"aaxis\": {\"gridcolor\": \"white\", \"linecolor\": \"white\", \"ticks\": \"\"}, \"baxis\": {\"gridcolor\": \"white\", \"linecolor\": \"white\", \"ticks\": \"\"}, \"bgcolor\": \"#E5ECF6\", \"caxis\": {\"gridcolor\": \"white\", \"linecolor\": \"white\", \"ticks\": \"\"}}, \"title\": {\"x\": 0.05}, \"xaxis\": {\"automargin\": true, \"gridcolor\": \"white\", \"linecolor\": \"white\", \"ticks\": \"\", \"title\": {\"standoff\": 15}, \"zerolinecolor\": \"white\", \"zerolinewidth\": 2}, \"yaxis\": {\"automargin\": true, \"gridcolor\": \"white\", \"linecolor\": \"white\", \"ticks\": \"\", \"title\": {\"standoff\": 15}, \"zerolinecolor\": \"white\", \"zerolinewidth\": 2}}}, \"title\": {\"text\": \"Number of papers in the used data subset that do not miss an abstract or references.\"}, \"xaxis\": {\"anchor\": \"y\", \"domain\": [0.0, 1.0], \"title\": {\"text\": \"len\"}}, \"yaxis\": {\"anchor\": \"x\", \"categoryarray\": [\"with refs and abstract\", \"with references\", \"with abstract\", \"full subset\"], \"categoryorder\": \"array\", \"domain\": [0.0, 1.0], \"title\": {\"text\": \"type\"}}},\n",
       "                        {\"responsive\": true}\n",
       "                    ).then(function(){\n",
       "                            \n",
       "var gd = document.getElementById('cf36bd5a-752c-4a5d-99d2-5074774a6e23');\n",
       "var x = new MutationObserver(function (mutations, observer) {{\n",
       "        var display = window.getComputedStyle(gd).display;\n",
       "        if (!display || display === 'none') {{\n",
       "            console.log([gd, 'removed!']);\n",
       "            Plotly.purge(gd);\n",
       "            observer.disconnect();\n",
       "        }}\n",
       "}});\n",
       "\n",
       "// Listen for the removal of the full notebook cells\n",
       "var notebookContainer = gd.closest('#notebook-container');\n",
       "if (notebookContainer) {{\n",
       "    x.observe(notebookContainer, {childList: true});\n",
       "}}\n",
       "\n",
       "// Listen for the clearing of the current output cell\n",
       "var outputEl = gd.closest('.output');\n",
       "if (outputEl) {{\n",
       "    x.observe(outputEl, {childList: true});\n",
       "}}\n",
       "\n",
       "                        })\n",
       "                };\n",
       "                \n",
       "            </script>\n",
       "        </div>\n",
       "</body>\n",
       "</html>"
      ]
     },
     "metadata": {
      "tags": []
     },
     "output_type": "display_data"
    }
   ],
   "source": [
    "fig = px.bar(stats, x=\"len\", y=\"type\", color=\"type\", orientation=\"h\", \n",
    "             text=[\"300505 papers  \", \"251140 papers  \", \"221967 papers  \", \"205340 papers  \"],\n",
    "             title=\"Number of papers in the used data subset that do not miss an abstract or references.\")\n",
    "fig.layout.update(showlegend=False)\n",
    "fig.show()"
   ]
  },
  {
   "cell_type": "code",
   "execution_count": null,
   "metadata": {
    "colab": {},
    "colab_type": "code",
    "id": "XT2qWWhHVrN6"
   },
   "outputs": [],
   "source": [
    "authors = pd.read_csv(\"top_100_authors.csv\")"
   ]
  },
  {
   "cell_type": "code",
   "execution_count": null,
   "metadata": {
    "colab": {},
    "colab_type": "code",
    "id": "9jvP5MJebKh8"
   },
   "outputs": [],
   "source": [
    "authors.drop([\"Unnamed: 0\", \"Unnamed: 0.1\"], inplace=True, axis=1)"
   ]
  },
  {
   "cell_type": "code",
   "execution_count": null,
   "metadata": {
    "colab": {},
    "colab_type": "code",
    "id": "K3W9pEJXbLQW"
   },
   "outputs": [],
   "source": [
    "one_author = authors.sample()"
   ]
  },
  {
   "cell_type": "code",
   "execution_count": null,
   "metadata": {
    "colab": {},
    "colab_type": "code",
    "id": "rNQc5jgSbkg8"
   },
   "outputs": [],
   "source": [
    "def get_pub_ids_of_author_by_row(author_row, only_first_author=False):\n",
    "    one_pubs = ast.literal_eval(one_author.pubs.iloc[0])\n",
    "    if only_first_author:\n",
    "        return [v[\"i\"] for v in one_pubs if v['r'] == 0]\n",
    "    else:\n",
    "        return [v[\"i\"] for v in one_pubs]\n",
    "\n",
    "\n",
    "def get_pub_ids_of_author_by_id(author_id, authors_df=full_df, only_first_author=False):\n",
    "    one_pubs = ast.literal_eval(authors_df[authors_df.id == int(author_id)].pubs.iloc[0])\n",
    "    if only_first_author:\n",
    "        return [v[\"i\"] for v in one_pubs if v['r'] == 0]\n",
    "    else:\n",
    "        return [v[\"i\"] for v in one_pubs]"
   ]
  },
  {
   "cell_type": "code",
   "execution_count": null,
   "metadata": {
    "colab": {},
    "colab_type": "code",
    "id": "L8ePig3BdwEY"
   },
   "outputs": [],
   "source": [
    "ids = get_pub_ids_of_author_by_row(one_author)"
   ]
  },
  {
   "cell_type": "code",
   "execution_count": 26,
   "metadata": {
    "colab": {
     "base_uri": "https://localhost:8080/",
     "height": 35
    },
    "colab_type": "code",
    "id": "-sDqoFxgeZN1",
    "outputId": "97d4f260-b506-4dfa-cf09-dabdb9b00791"
   },
   "outputs": [
    {
     "data": {
      "text/plain": [
       "372"
      ]
     },
     "execution_count": 26,
     "metadata": {
      "tags": []
     },
     "output_type": "execute_result"
    }
   ],
   "source": [
    "sum([not full_df[full_df.id == int(id_)].title.empty for id_ in ids])"
   ]
  },
  {
   "cell_type": "code",
   "execution_count": 27,
   "metadata": {
    "colab": {
     "base_uri": "https://localhost:8080/",
     "height": 35
    },
    "colab_type": "code",
    "id": "6aA3u0H0rL5S",
    "outputId": "6832232b-5c1c-4df7-ed2e-d3f00b4a9352"
   },
   "outputs": [
    {
     "data": {
      "text/plain": [
       "418"
      ]
     },
     "execution_count": 27,
     "metadata": {
      "tags": []
     },
     "output_type": "execute_result"
    }
   ],
   "source": [
    "len(ids)"
   ]
  },
  {
   "cell_type": "code",
   "execution_count": null,
   "metadata": {
    "colab": {},
    "colab_type": "code",
    "id": "TFgiZktUsz15"
   },
   "outputs": [],
   "source": [
    "def reconstruct_abstract(row):\n",
    "    try:\n",
    "        ia = ast.literal_eval(row.indexed_abstract)[\"InvertedIndex\"]\n",
    "        greatest_index = max([v for sublist in ia.values() for v in sublist])\n",
    "        original = [0]*(greatest_index+1)\n",
    "        for key, value in ia.items():\n",
    "            for vi in value:\n",
    "                original[vi] = key\n",
    "        original = [o for o in original if type(o) == str]\n",
    "        return ' '.join(original)\n",
    "    except:\n",
    "        return ''"
   ]
  },
  {
   "cell_type": "code",
   "execution_count": null,
   "metadata": {
    "colab": {},
    "colab_type": "code",
    "id": "n3fYKTyQs5iy"
   },
   "outputs": [],
   "source": [
    "full_df[\"abstract\"] = full_df.apply(lambda x: reconstruct_abstract(x), axis=1)"
   ]
  },
  {
   "cell_type": "code",
   "execution_count": null,
   "metadata": {
    "colab": {},
    "colab_type": "code",
    "id": "AmMaKcxStdQs"
   },
   "outputs": [],
   "source": [
    "# full_df.to_csv(\"papers_set_with_restored_abstract.csv\")"
   ]
  },
  {
   "cell_type": "code",
   "execution_count": 35,
   "metadata": {
    "colab": {
     "base_uri": "https://localhost:8080/",
     "height": 35
    },
    "colab_type": "code",
    "id": "JUkxrnGvKVfc",
    "outputId": "cf23b0cd-8435-486a-85ff-a83c17e0eac7"
   },
   "outputs": [
    {
     "name": "stderr",
     "output_type": "stream",
     "text": [
      "100%|██████████| 459M/459M [00:48<00:00, 9.37MB/s]\n"
     ]
    }
   ],
   "source": [
    "embedder = SentenceTransformer('roberta-base-nli-stsb-mean-tokens')"
   ]
  },
  {
   "cell_type": "code",
   "execution_count": null,
   "metadata": {
    "colab": {},
    "colab_type": "code",
    "id": "7wYU7gX5Fuxt"
   },
   "outputs": [],
   "source": [
    "def get_average_sentences_embedding(sentences, model=embedder):\n",
    "    embeddings = model.encode(sentences)\n",
    "    return np.mean(embeddings, axis=0)\n",
    "\n",
    "def calculate_average_embedding_abstract_and_title(abstract, title, strategy=\"merge\", model=embedder):\n",
    "\n",
    "    title_embedding = model.encode(title)\n",
    "    \n",
    "    if strategy == \"merge\":\n",
    "        abstract_embeddings = model.encode(abstract)\n",
    "        merged = np.concatenate((title_embedding, abstract_embeddings), axis=0)\n",
    "        average = np.mean(merged, axis=0)\n",
    "    elif strategy == \"separate\":\n",
    "        average_abstract = get_average_sentences_embedding(abstract)\n",
    "        average = np.mean([average_abstract, title_embedding[0]], axis=0)\n",
    "    else:\n",
    "        print(\"Warning: wrong strategy is used. Use either 'merge' or 'separate'. Proceeding using the 'merge' strategy.\")\n",
    "        abstract_embeddings = model.encode(abstract)\n",
    "        merged = np.concatenate((title_embedding, abstract_embeddings), axis=0)\n",
    "        average = np.mean(merged, axis=0)\n",
    "        \n",
    "    return average"
   ]
  },
  {
   "cell_type": "code",
   "execution_count": null,
   "metadata": {
    "colab": {},
    "colab_type": "code",
    "id": "UzPggfjD0coY"
   },
   "outputs": [],
   "source": [
    "class Paper:\n",
    "    def __init__(self, paper_id, papers_df=full_df, all_ids=all_paper_ids):\n",
    "        self.paper_id = int(paper_id)\n",
    "        try:\n",
    "            self.row = papers_df[papers_df.id == self.paper_id]\n",
    "            self.abstract = self.row.abstract.iloc[0]\n",
    "            self.title = self.row.title.iloc[0]\n",
    "            self.all_ids = all_ids\n",
    "        except:\n",
    "            return None\n",
    "        self.data = papers_df\n",
    "        self.merged_bert_embedding = None\n",
    "        self.separate_bert_embedding = None\n",
    "        self.tfidf_embedding = None\n",
    "\n",
    "    def get_neighbours(self):\n",
    "        # Return only neighbours that are actually in our dataset.\n",
    "\n",
    "        refs = self.row.references.iloc[0]\n",
    "        refs_present_in_data = [r for r in ast.literal_eval(refs) if int(r) in self.all_ids]\n",
    "        return refs_present_in_data\n",
    "\n",
    "    def get_sbert_embedding(self, sbert_strategy=\"merge\"):\n",
    "        if self.abstract:\n",
    "            if self.title:\n",
    "                # ... get embedding based on abstract and title\n",
    "                emb = calculate_average_embedding_abstract_and_title(self.abstract,\n",
    "                                                                      self.title,\n",
    "                                                                      sbert_strategy)\n",
    "                if sbert_strategy == \"merge\":\n",
    "                    self.merged_bert_embedding = emb\n",
    "                else:\n",
    "                    self.separate_bert_embedding = emb\n",
    "                return emb\n",
    "            else:\n",
    "                # ... get embedding just based on abstract\n",
    "                # Feed preprocessed clean sentences into this. For now, just use split() on text. \n",
    "\n",
    "                emb = get_average_sentences_embedding(self.abstract.split())\n",
    "                if sbert_strategy == \"merge\":\n",
    "                    self.merged_bert_embedding = emb\n",
    "                else:\n",
    "                    self.separate_bert_embedding = emb\n",
    "                return emb\n",
    "        else:\n",
    "            if self.title:\n",
    "                # ... get embedding based on just title\n",
    "                emb = get_average_sentences_embedding([self.title])\n",
    "                if sbert_strategy == \"merge\":\n",
    "                    self.merged_bert_embedding = emb\n",
    "                else:\n",
    "                    self.separate_bert_embedding = emb\n",
    "                return emb\n",
    "            else:\n",
    "                # ... no embedding possible, ignore the paper\n",
    "                return None\n",
    "\n",
    "    def get_tfidf_embedding(self, tfidf_strategy=\"merge\"):\n",
    "        pass\n",
    "\n",
    "    def get_retrofitted_sbert_embedding(self, sbert_strategy=\"merge\"):\n",
    "        pass\n",
    "\n"
   ]
  },
  {
   "cell_type": "code",
   "execution_count": null,
   "metadata": {
    "colab": {},
    "colab_type": "code",
    "id": "NInFxqLw0jsA"
   },
   "outputs": [],
   "source": [
    "one_paper = Paper('1885181558')"
   ]
  },
  {
   "cell_type": "code",
   "execution_count": null,
   "metadata": {
    "colab": {},
    "colab_type": "code",
    "id": "fZ6tyadj-4Hl"
   },
   "outputs": [],
   "source": [
    "one_paper.get_neighbours();"
   ]
  },
  {
   "cell_type": "code",
   "execution_count": null,
   "metadata": {
    "colab": {},
    "colab_type": "code",
    "id": "B9Wp4BZ1_MuB"
   },
   "outputs": [],
   "source": [
    "one_paper.get_sbert_embedding(\"separate\");"
   ]
  },
  {
   "cell_type": "code",
   "execution_count": null,
   "metadata": {
    "colab": {},
    "colab_type": "code",
    "id": "1HRKJZSwMY4K"
   },
   "outputs": [],
   "source": []
  }
 ],
 "metadata": {
  "accelerator": "GPU",
  "colab": {
   "name": "small_set.ipynb",
   "provenance": []
  },
  "kernelspec": {
   "display_name": "Python 3",
   "language": "python",
   "name": "python3"
  },
  "language_info": {
   "codemirror_mode": {
    "name": "ipython",
    "version": 3
   },
   "file_extension": ".py",
   "mimetype": "text/x-python",
   "name": "python",
   "nbconvert_exporter": "python",
   "pygments_lexer": "ipython3",
   "version": "3.6.7"
  }
 },
 "nbformat": 4,
 "nbformat_minor": 2
}
