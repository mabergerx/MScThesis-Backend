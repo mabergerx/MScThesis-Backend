{
 "cells": [
  {
   "cell_type": "code",
   "execution_count": 4,
   "metadata": {},
   "outputs": [],
   "source": [
    "import pandas as pd\n",
    "import json"
   ]
  },
  {
   "cell_type": "code",
   "execution_count": 8,
   "metadata": {},
   "outputs": [],
   "source": [
    "def parse_one_line(line):\n",
    "    return json.loads(line)"
   ]
  },
  {
   "cell_type": "code",
   "execution_count": 9,
   "metadata": {},
   "outputs": [],
   "source": [
    "def prune_and_store(file_path):\n",
    "    with open(file_path, \"rb\") as bigfile:\n",
    "        lines = bigfile.readlines()\n",
    "        parsed = [parse_one_line(l) for l in lines]\n",
    "        proper_parsed = [p for p in parsed if \"references\" in p and \"abstract\" in p]\n",
    "        df = pd.DataFrame(proper_parsed)\n",
    "        df.dropna(subset=[\"authors\"], inplace=True)\n",
    "        df_final = df[[\"title\", \"year\", \"references\", \"abstract\", \"id\", \"authors\", \"doi\", \"fos\", \"keywords\"]]\n",
    "        df_final.to_pickle(f\"{file_path.replace('.txt', '.pkl')}\")\n",
    "        del df_final\n",
    "        del df\n",
    "        del proper_parsed\n",
    "        del parsed\n",
    "        del lines"
   ]
  },
  {
   "cell_type": "code",
   "execution_count": 25,
   "metadata": {},
   "outputs": [],
   "source": [
    "for i in range(140, 160):\n",
    "    filep = f\"seventh_paper_batch/mag_papers_{i}.txt\"\n",
    "    prune_and_store(filep)"
   ]
  },
  {
   "cell_type": "code",
   "execution_count": 27,
   "metadata": {},
   "outputs": [],
   "source": [
    "for i in range(160, 167):\n",
    "    filep = f\"eight_paper_batch/mag_papers_{i}.txt\"\n",
    "    prune_and_store(filep)"
   ]
  },
  {
   "cell_type": "code",
   "execution_count": 16,
   "metadata": {},
   "outputs": [
    {
     "name": "stdout",
     "output_type": "stream",
     "text": [
      "31\n",
      "32\n",
      "33\n",
      "34\n",
      "35\n",
      "36\n",
      "37\n",
      "38\n",
      "39\n"
     ]
    }
   ],
   "source": [
    "for i in range(31, 40):\n",
    "    print(i)"
   ]
  },
  {
   "cell_type": "code",
   "execution_count": null,
   "metadata": {},
   "outputs": [],
   "source": []
  }
 ],
 "metadata": {
  "kernelspec": {
   "display_name": "Python 3",
   "language": "python",
   "name": "python3"
  },
  "language_info": {
   "codemirror_mode": {
    "name": "ipython",
    "version": 3
   },
   "file_extension": ".py",
   "mimetype": "text/x-python",
   "name": "python",
   "nbconvert_exporter": "python",
   "pygments_lexer": "ipython3",
   "version": "3.6.7"
  }
 },
 "nbformat": 4,
 "nbformat_minor": 4
}
