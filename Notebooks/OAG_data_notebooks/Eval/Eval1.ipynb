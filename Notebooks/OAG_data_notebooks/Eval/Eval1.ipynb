{
 "cells": [
  {
   "cell_type": "code",
   "execution_count": 24,
   "metadata": {},
   "outputs": [],
   "source": [
    "import pandas as pd\n",
    "import numpy as np\n",
    "import math"
   ]
  },
  {
   "cell_type": "code",
   "execution_count": 31,
   "metadata": {},
   "outputs": [],
   "source": [
    "results = [\n",
    "    {'1954994128': {'rank': 2, 'relevancy': True},\n",
    " '2018589324': {'rank': 3, 'relevancy': True},\n",
    " '2027088710': {'rank': 0, 'relevancy': True},\n",
    " '2120281063': {'rank': 7, 'relevancy': True},\n",
    " '2130881427': {'rank': 5, 'relevancy': True},\n",
    " '2182961668': {'rank': 1, 'relevancy': True},\n",
    " '2325036826': {'rank': 4, 'relevancy': True},\n",
    " '2341666688': {'rank': 6, 'relevancy': True},\n",
    " '2589367414': {'rank': 8, 'relevancy': True},\n",
    " '466258520': {'rank': 9, 'relevancy': False}},\n",
    "    {'2102150147': {'rank': 3, 'relevancy': True},\n",
    " '2121430311': {'rank': 1, 'relevancy': True},\n",
    " '2130456104': {'rank': 4, 'relevancy': True},\n",
    " '2136794847': {'rank': 8, 'relevancy': True},\n",
    " '2144292550': {'rank': 7, 'relevancy': True},\n",
    " '2152966300': {'rank': 0, 'relevancy': True},\n",
    " '2153604853': {'rank': 5, 'relevancy': True},\n",
    " '2600424145': {'rank': 2, 'relevancy': True},\n",
    " '2656069216': {'rank': 6, 'relevancy': True},\n",
    " '74609370': {'rank': 9, 'relevancy': False}},\n",
    "    {'1151530292': {'rank': 3, 'relevancy': False},\n",
    " '2004366870': {'rank': 5, 'relevancy': True},\n",
    " '2130711152': {'rank': 4, 'relevancy': True},\n",
    " '2135488253': {'rank': 0, 'relevancy': True},\n",
    " '2616859289': {'rank': 2, 'relevancy': True},\n",
    " '374805745': {'rank': 7, 'relevancy': False},\n",
    " '56197593': {'rank': 6, 'relevancy': True},\n",
    " '798588419': {'rank': 1, 'relevancy': False}},\n",
    "    {'2026708028': {'rank': 0, 'relevancy': False},\n",
    " '2113084173': {'rank': 2, 'relevancy': True},\n",
    " '2137656347': {'rank': 5, 'relevancy': False},\n",
    " '2151819869': {'rank': 8, 'relevancy': False},\n",
    " '2251781635': {'rank': 6, 'relevancy': False},\n",
    " '2311840536': {'rank': 4, 'relevancy': True},\n",
    " '2345687710': {'rank': 1, 'relevancy': False},\n",
    " '2577876495': {'rank': 7, 'relevancy': False},\n",
    " '61728793': {'rank': 3, 'relevancy': True}}\n",
    "]"
   ]
  },
  {
   "cell_type": "code",
   "execution_count": null,
   "metadata": {},
   "outputs": [],
   "source": []
  },
  {
   "cell_type": "markdown",
   "metadata": {},
   "source": [
    "## $MRR = \\frac{1}{Q}\\sum\\limits_{i=1}^{|Q|}\\frac{1}{rank_i}$"
   ]
  },
  {
   "cell_type": "code",
   "execution_count": 64,
   "metadata": {},
   "outputs": [],
   "source": [
    "def mean_reciprocal_rank(results):\n",
    "    partial_ranks = []\n",
    "    \n",
    "    for result in results:\n",
    "        sortd = sorted(result.items(), key=lambda item: item[1]['rank'])\n",
    "\n",
    "        for s in sortd:\n",
    "            if s[1]['relevancy'] == True:\n",
    "                # We had to do rank from 1 on instead of 0 on because of the 1 / rank formula.\n",
    "                partial_ranks.append(1 / (s[1]['rank']+1))\n",
    "                break\n",
    "    \n",
    "    mrr = np.around(np.mean(partial_ranks), decimals=2)\n",
    "    \n",
    "    return mrr\n",
    "    "
   ]
  },
  {
   "cell_type": "code",
   "execution_count": 77,
   "metadata": {},
   "outputs": [],
   "source": [
    "def mean_average_precision(results):\n",
    "    \n",
    "    average_precision_scores = []\n",
    "    \n",
    "    for result in results:\n",
    "        sortd = sorted(result.items(), key=lambda item: item[1]['rank'])\n",
    "        \n",
    "        average_precison_partials_list = []\n",
    "        current_sublist_size = 0\n",
    "        relevant_found = 0\n",
    "        \n",
    "        for s in sortd:\n",
    "            if s[1]['relevancy'] == True:\n",
    "                current_sublist_size += 1\n",
    "                relevant_found += 1\n",
    "                average_precision_partial = relevant_found / current_sublist_size\n",
    "                average_precison_partials_list.append(average_precision_partial)\n",
    "            else:\n",
    "                current_sublist_size += 1\n",
    "\n",
    "        average_precision = np.sum(average_precison_partials_list) / len(sortd)\n",
    "        average_precision_scores.append(average_precision)\n",
    "    \n",
    "    mapr = np.around(np.mean(average_precision_scores), decimals=2)\n",
    "    \n",
    "    return mapr\n",
    "            "
   ]
  },
  {
   "cell_type": "code",
   "execution_count": 78,
   "metadata": {},
   "outputs": [
    {
     "data": {
      "text/plain": [
       "0.6"
      ]
     },
     "execution_count": 78,
     "metadata": {},
     "output_type": "execute_result"
    }
   ],
   "source": [
    "mean_average_precision(results)"
   ]
  },
  {
   "cell_type": "code",
   "execution_count": 92,
   "metadata": {},
   "outputs": [],
   "source": [
    "def mean_precision_at_n(results, n=5):\n",
    "    \n",
    "    average_precision_scores = []\n",
    "    \n",
    "    for result in results:\n",
    "        \n",
    "        sortd = sorted(result.items(), key=lambda item: item[1]['rank'])\n",
    "        \n",
    "        correct = 0\n",
    "        \n",
    "        for s in sortd[:n]:\n",
    "            if s[1]['relevancy'] == True:\n",
    "                correct += 1\n",
    "        \n",
    "        average_precision_scores.append(correct / n)\n",
    "    \n",
    "    mpan = np.around(np.mean(average_precision_scores), decimals=2)\n",
    "    \n",
    "    return mpan\n"
   ]
  },
  {
   "cell_type": "code",
   "execution_count": 95,
   "metadata": {},
   "outputs": [
    {
     "data": {
      "text/plain": [
       "0.65"
      ]
     },
     "execution_count": 95,
     "metadata": {},
     "output_type": "execute_result"
    }
   ],
   "source": [
    "mean_precision_at_n(results, 10)"
   ]
  },
  {
   "cell_type": "code",
   "execution_count": 11,
   "metadata": {},
   "outputs": [],
   "source": [
    "import pickle\n",
    "\n",
    "with open('../../Cloud/rankings.pickle', 'rb') as handle:\n",
    "    rankings = pickle.load(handle)\n",
    "    rankings = {k.lower(): v for k, v in rankings.items()}"
   ]
  },
  {
   "cell_type": "code",
   "execution_count": 38,
   "metadata": {},
   "outputs": [],
   "source": [
    "from collections import defaultdict"
   ]
  },
  {
   "cell_type": "code",
   "execution_count": 13,
   "metadata": {},
   "outputs": [],
   "source": [
    "ndcg_queries = [q.lower() for q in ['Interpolation', 'Wireless sensor network', 'Genetic algorithm', 'Cluster analysis', 'Fuzzy logic', 'Biometrics', \n",
    "                'Support vector machine', 'Deconvolution', 'Image segmentation', 'Fast Fourier transform', 'Sample size determination', \n",
    "                'Semantic similarity', 'Transfer of learning', 'Novelty detection', 'Knapsack problem', 'Linear algebra', 'Parallel algorithm', \n",
    "                'Computer architecture', 'Monte Carlo method', 'Dynamic programming', 'Automatic image annotation', 'Computational geometry', \n",
    "                'Search algorithm', 'Medical imaging', 'Combinatorial optimization', 'Middleware', 'Cloud computing', \n",
    "                'k-nearest neighbors algorithm', 'Big data', 'Eye tracking', 'Evolutionary algorithm', 'User interface', \n",
    "                \"Newton's method\", 'Wearable computer', 'Computational biology', 'Best-first search', 'Hierarchical clustering', \n",
    "                'Social network', 'Bayesian statistics', 'Knowledge extraction', 'World Wide Web', 'Multi-task learning', 'Speech processing', \n",
    "                'Gaussian random field', 'Hyperspectral imaging', 'Belief propagation', 'Semantic Web', 'Gibbs sampling', \n",
    "                'Dimensionality reduction', 'Latent Dirichlet allocation', 'Facial recognition system', 'Game theory', \n",
    "                'Machine translation', 'Kernel density estimation', 'Convex optimization', 'Web search query', 'Generative model', \n",
    "                'Query optimization', 'Activity recognition', 'Automatic summarization', 'Propagation of uncertainty', 'Topic model', \n",
    "                'Social web', 'Web service', 'Information privacy', 'Web 2.0', 'Learning to rank', 'Entity linking', 'Sentiment analysis', \n",
    "                'Clustering high-dimensional data', 'Relational database', 'Random forest', 'Batch processing', 'Anomaly detection', \n",
    "                'Image restoration', 'Security token', 'Wavelet transform', 'WordNet', 'Ensemble learning', 'Multi-agent system', \n",
    "                'Quantum information science', 'Continuous-time Markov chain', 'Video denoising', 'Color quantization', 'Logic programming', \n",
    "                'Constraint satisfaction', 'Mean field theory', 'Categorial grammar', 'Rule induction', 'Linear separability', 'Network theory', \n",
    "                'Open Knowledge Base Connectivity', 'Semantic grid', 'OWL-S', 'Uncertainty quantification', 'Ontology language', \n",
    "                'Semantic role labeling']]"
   ]
  },
  {
   "cell_type": "code",
   "execution_count": 46,
   "metadata": {},
   "outputs": [],
   "source": [
    "def create_author_rankings(query_rankings):\n",
    "    author_ranking = defaultdict(dict)\n",
    "    for query, value in query_rankings.items():\n",
    "        for v in value:\n",
    "            author = v['author']\n",
    "            label = v[\"label\"]\n",
    "            author_ranking[author][query] = label\n",
    "    return author_ranking"
   ]
  },
  {
   "cell_type": "code",
   "execution_count": 47,
   "metadata": {},
   "outputs": [],
   "source": [
    "author_rankings = create_author_rankings(rankings)"
   ]
  },
  {
   "cell_type": "code",
   "execution_count": 52,
   "metadata": {},
   "outputs": [],
   "source": [
    "with open('author_rankings_with_relevance_labels.pickle', 'wb') as handle:\n",
    "    pickle.dump(author_rankings, handle, protocol=pickle.HIGHEST_PROTOCOL)"
   ]
  },
  {
   "cell_type": "code",
   "execution_count": 51,
   "metadata": {},
   "outputs": [
    {
     "data": {
      "text/plain": [
       "{'gaussian random field': 1, 'quantum information science': 3}"
      ]
     },
     "execution_count": 51,
     "metadata": {},
     "output_type": "execute_result"
    }
   ],
   "source": [
    "author_rankings['2152361128']"
   ]
  },
  {
   "cell_type": "code",
   "execution_count": 14,
   "metadata": {},
   "outputs": [
    {
     "data": {
      "text/plain": [
       "[{'author': '1639338439', 'label': 3, 'weight': 3627},\n",
       " {'author': '2155150338', 'label': 3, 'weight': 2835},\n",
       " {'author': '2114421234', 'label': 3, 'weight': 2293},\n",
       " {'author': '2265313210', 'label': 3, 'weight': 1383},\n",
       " {'author': '2469105369', 'label': 3, 'weight': 1134},\n",
       " {'author': '2325221658', 'label': 3, 'weight': 1039},\n",
       " {'author': '1498996866', 'label': 3, 'weight': 954},\n",
       " {'author': '2810605424', 'label': 3, 'weight': 911},\n",
       " {'author': '2100120781', 'label': 3, 'weight': 845},\n",
       " {'author': '2676713218', 'label': 3, 'weight': 837},\n",
       " {'author': '2420235564', 'label': 3, 'weight': 821},\n",
       " {'author': '2089688319', 'label': 3, 'weight': 769},\n",
       " {'author': '2569856224', 'label': 3, 'weight': 723},\n",
       " {'author': '2120853311', 'label': 3, 'weight': 700},\n",
       " {'author': '677148088', 'label': 3, 'weight': 676},\n",
       " {'author': '2152361128', 'label': 3, 'weight': 656},\n",
       " {'author': '2615151663', 'label': 3, 'weight': 626},\n",
       " {'author': '917844952', 'label': 2, 'weight': 607},\n",
       " {'author': '48597468', 'label': 2, 'weight': 551},\n",
       " {'author': '1517450116', 'label': 2, 'weight': 524},\n",
       " {'author': '2147258895', 'label': 2, 'weight': 522},\n",
       " {'author': '1975073613', 'label': 2, 'weight': 517},\n",
       " {'author': '2778745049', 'label': 2, 'weight': 506},\n",
       " {'author': '368308055', 'label': 2, 'weight': 470},\n",
       " {'author': '2263819266', 'label': 2, 'weight': 439},\n",
       " {'author': '2101395307', 'label': 2, 'weight': 436},\n",
       " {'author': '1996983581', 'label': 2, 'weight': 427},\n",
       " {'author': '2147481374', 'label': 2, 'weight': 414},\n",
       " {'author': '2111434729', 'label': 2, 'weight': 406},\n",
       " {'author': '2651703544', 'label': 2, 'weight': 398},\n",
       " {'author': '2789804186', 'label': 2, 'weight': 396},\n",
       " {'author': '2157056412', 'label': 2, 'weight': 353},\n",
       " {'author': '2148053431', 'label': 2, 'weight': 351},\n",
       " {'author': '2307024348', 'label': 2, 'weight': 348},\n",
       " {'author': '2228043547', 'label': 2, 'weight': 337},\n",
       " {'author': '671746231', 'label': 1, 'weight': 326},\n",
       " {'author': '2807149161', 'label': 1, 'weight': 318},\n",
       " {'author': '2130453231', 'label': 1, 'weight': 307},\n",
       " {'author': '2087797858', 'label': 1, 'weight': 305},\n",
       " {'author': '179206253', 'label': 1, 'weight': 304},\n",
       " {'author': '2051733744', 'label': 1, 'weight': 303},\n",
       " {'author': '2138013299', 'label': 1, 'weight': 299},\n",
       " {'author': '2307715333', 'label': 1, 'weight': 295},\n",
       " {'author': '2301313607', 'label': 1, 'weight': 284},\n",
       " {'author': '2096418959', 'label': 1, 'weight': 281},\n",
       " {'author': '2139731090', 'label': 1, 'weight': 281},\n",
       " {'author': '2165667180', 'label': 1, 'weight': 278},\n",
       " {'author': '2297928425', 'label': 1, 'weight': 274},\n",
       " {'author': '165083141', 'label': 1, 'weight': 268},\n",
       " {'author': '193178368', 'label': 1, 'weight': 259},\n",
       " {'author': '2190425527', 'label': 1, 'weight': 251},\n",
       " {'author': '2041502760', 'label': 1, 'weight': 250},\n",
       " {'author': '2047038946', 'label': 1, 'weight': 236},\n",
       " {'author': '2052895689', 'label': 1, 'weight': 229},\n",
       " {'author': '2093759570', 'label': 1, 'weight': 227},\n",
       " {'author': '2171817192', 'label': 1, 'weight': 205},\n",
       " {'author': '8432206', 'label': 1, 'weight': 204},\n",
       " {'author': '2113957870', 'label': 1, 'weight': 204},\n",
       " {'author': '329127478', 'label': 1, 'weight': 198},\n",
       " {'author': '2112712442', 'label': 1, 'weight': 196},\n",
       " {'author': '2133328778', 'label': 1, 'weight': 196},\n",
       " {'author': '2056753750', 'label': 1, 'weight': 184},\n",
       " {'author': '125409450', 'label': 1, 'weight': 179},\n",
       " {'author': '2119823256', 'label': 1, 'weight': 174},\n",
       " {'author': '1225778819', 'label': 1, 'weight': 172},\n",
       " {'author': '2172233844', 'label': 1, 'weight': 167},\n",
       " {'author': '2118113652', 'label': 1, 'weight': 166},\n",
       " {'author': '183355381', 'label': 1, 'weight': 163},\n",
       " {'author': '2144415659', 'label': 1, 'weight': 159},\n",
       " {'author': '2396119815', 'label': 1, 'weight': 158},\n",
       " {'author': '1951458486', 'label': 1, 'weight': 158},\n",
       " {'author': '2029157414', 'label': 1, 'weight': 156},\n",
       " {'author': '196830957', 'label': 1, 'weight': 146},\n",
       " {'author': '1234323555', 'label': 1, 'weight': 145},\n",
       " {'author': '2133712020', 'label': 1, 'weight': 138},\n",
       " {'author': '2104552492', 'label': 1, 'weight': 134},\n",
       " {'author': '2122449690', 'label': 1, 'weight': 132},\n",
       " {'author': '2343277490', 'label': 1, 'weight': 131},\n",
       " {'author': '2165026729', 'label': 1, 'weight': 130},\n",
       " {'author': '1971215899', 'label': 1, 'weight': 127},\n",
       " {'author': '2129454193', 'label': 1, 'weight': 127},\n",
       " {'author': '682752941', 'label': 1, 'weight': 127},\n",
       " {'author': '1981943968', 'label': 1, 'weight': 127},\n",
       " {'author': '2158516682', 'label': 1, 'weight': 124},\n",
       " {'author': '2152077034', 'label': 1, 'weight': 124},\n",
       " {'author': '2014284122', 'label': 1, 'weight': 122},\n",
       " {'author': '2161797844', 'label': 1, 'weight': 119},\n",
       " {'author': '1956145032', 'label': 1, 'weight': 115},\n",
       " {'author': '1942589773', 'label': 1, 'weight': 113},\n",
       " {'author': '1841450864', 'label': 1, 'weight': 112},\n",
       " {'author': '2038532586', 'label': 1, 'weight': 108},\n",
       " {'author': '2065629303', 'label': 1, 'weight': 107},\n",
       " {'author': '2102932344', 'label': 1, 'weight': 106},\n",
       " {'author': '685035541', 'label': 1, 'weight': 105},\n",
       " {'author': '182074684', 'label': 1, 'weight': 102},\n",
       " {'author': '2013203072', 'label': 1, 'weight': 101},\n",
       " {'author': '2641008190', 'label': 1, 'weight': 100},\n",
       " {'author': '2600822570', 'label': 1, 'weight': 99},\n",
       " {'author': '1861517618', 'label': 1, 'weight': 98},\n",
       " {'author': '2141681404', 'label': 1, 'weight': 95},\n",
       " {'author': '1935834806', 'label': 1, 'weight': 94},\n",
       " {'author': '1885623171', 'label': 1, 'weight': 94},\n",
       " {'author': '2219945800', 'label': 1, 'weight': 93},\n",
       " {'author': '2111105847', 'label': 1, 'weight': 92},\n",
       " {'author': '2257900726', 'label': 1, 'weight': 90},\n",
       " {'author': '2054719128', 'label': 1, 'weight': 88},\n",
       " {'author': '108506045', 'label': 1, 'weight': 87},\n",
       " {'author': '1909798798', 'label': 1, 'weight': 85},\n",
       " {'author': '2169649541', 'label': 1, 'weight': 85},\n",
       " {'author': '2138035606', 'label': 1, 'weight': 85},\n",
       " {'author': '2043898183', 'label': 1, 'weight': 83},\n",
       " {'author': '599389352', 'label': 1, 'weight': 82},\n",
       " {'author': '2096229648', 'label': 1, 'weight': 82},\n",
       " {'author': '2029231588', 'label': 1, 'weight': 82},\n",
       " {'author': '2144592300', 'label': 1, 'weight': 82},\n",
       " {'author': '2148083837', 'label': 1, 'weight': 80},\n",
       " {'author': '2136537676', 'label': 1, 'weight': 79},\n",
       " {'author': '695789049', 'label': 1, 'weight': 77},\n",
       " {'author': '716990564', 'label': 1, 'weight': 77},\n",
       " {'author': '2127109880', 'label': 1, 'weight': 75},\n",
       " {'author': '2598487855', 'label': 1, 'weight': 74},\n",
       " {'author': '1978977884', 'label': 1, 'weight': 74},\n",
       " {'author': '2890179753', 'label': 1, 'weight': 74},\n",
       " {'author': '306730773', 'label': 1, 'weight': 71},\n",
       " {'author': '2420476190', 'label': 1, 'weight': 67},\n",
       " {'author': '617867451', 'label': 1, 'weight': 67},\n",
       " {'author': '2059696354', 'label': 1, 'weight': 67},\n",
       " {'author': '36581969', 'label': 1, 'weight': 66},\n",
       " {'author': '1914557616', 'label': 1, 'weight': 65},\n",
       " {'author': '2056681638', 'label': 1, 'weight': 64},\n",
       " {'author': '2111185999', 'label': 1, 'weight': 63},\n",
       " {'author': '2068596995', 'label': 1, 'weight': 62},\n",
       " {'author': '2251092674', 'label': 1, 'weight': 61},\n",
       " {'author': '2141830323', 'label': 1, 'weight': 60},\n",
       " {'author': '1256245359', 'label': 1, 'weight': 59},\n",
       " {'author': '2261297707', 'label': 1, 'weight': 58},\n",
       " {'author': '2054192980', 'label': 1, 'weight': 56},\n",
       " {'author': '2089533054', 'label': 1, 'weight': 54},\n",
       " {'author': '27033215', 'label': 1, 'weight': 53},\n",
       " {'author': '2128926737', 'label': 1, 'weight': 53},\n",
       " {'author': '2114794314', 'label': 1, 'weight': 52},\n",
       " {'author': '2124696920', 'label': 1, 'weight': 52},\n",
       " {'author': '2166165335', 'label': 1, 'weight': 49},\n",
       " {'author': '1259442811', 'label': 1, 'weight': 48},\n",
       " {'author': '2013865587', 'label': 1, 'weight': 47},\n",
       " {'author': '189494216', 'label': 1, 'weight': 47},\n",
       " {'author': '210095896', 'label': 1, 'weight': 47},\n",
       " {'author': '2307746935', 'label': 1, 'weight': 46},\n",
       " {'author': '722887898', 'label': 1, 'weight': 45},\n",
       " {'author': '1977349315', 'label': 1, 'weight': 45},\n",
       " {'author': '2778472634', 'label': 1, 'weight': 45},\n",
       " {'author': '46148421', 'label': 1, 'weight': 41},\n",
       " {'author': '40612409', 'label': 1, 'weight': 41},\n",
       " {'author': '2190605100', 'label': 1, 'weight': 41},\n",
       " {'author': '2008034980', 'label': 1, 'weight': 41},\n",
       " {'author': '840441384', 'label': 1, 'weight': 40},\n",
       " {'author': '1974725479', 'label': 1, 'weight': 40},\n",
       " {'author': '2809958391', 'label': 1, 'weight': 40},\n",
       " {'author': '1996400553', 'label': 1, 'weight': 39},\n",
       " {'author': '2615499088', 'label': 1, 'weight': 36},\n",
       " {'author': '2623494704', 'label': 1, 'weight': 35},\n",
       " {'author': '2036519380', 'label': 1, 'weight': 35},\n",
       " {'author': '2107927076', 'label': 1, 'weight': 35},\n",
       " {'author': '2154881235', 'label': 1, 'weight': 35},\n",
       " {'author': '2093636134', 'label': 1, 'weight': 35},\n",
       " {'author': '2570322478', 'label': 1, 'weight': 34},\n",
       " {'author': '2025978252', 'label': 1, 'weight': 34},\n",
       " {'author': '1963855353', 'label': 1, 'weight': 33},\n",
       " {'author': '1691380916', 'label': 1, 'weight': 31},\n",
       " {'author': '2596273782', 'label': 1, 'weight': 31},\n",
       " {'author': '730218936', 'label': 1, 'weight': 29},\n",
       " {'author': '1934456087', 'label': 1, 'weight': 29},\n",
       " {'author': '2142850404', 'label': 1, 'weight': 29},\n",
       " {'author': '2893042218', 'label': 1, 'weight': 29},\n",
       " {'author': '2274213919', 'label': 1, 'weight': 28},\n",
       " {'author': '1984627469', 'label': 1, 'weight': 27},\n",
       " {'author': '2892728490', 'label': 1, 'weight': 27},\n",
       " {'author': '2128911530', 'label': 1, 'weight': 26},\n",
       " {'author': '2115140831', 'label': 1, 'weight': 25},\n",
       " {'author': '2158554229', 'label': 1, 'weight': 25},\n",
       " {'author': '2035769004', 'label': 1, 'weight': 25},\n",
       " {'author': '2138291554', 'label': 1, 'weight': 24},\n",
       " {'author': '2036468391', 'label': 1, 'weight': 24},\n",
       " {'author': '2028681556', 'label': 1, 'weight': 24},\n",
       " {'author': '2116092980', 'label': 1, 'weight': 23},\n",
       " {'author': '2048918837', 'label': 1, 'weight': 23},\n",
       " {'author': '2760814594', 'label': 1, 'weight': 23},\n",
       " {'author': '2045151176', 'label': 1, 'weight': 22},\n",
       " {'author': '154923768', 'label': 1, 'weight': 20},\n",
       " {'author': '1571910986', 'label': 1, 'weight': 20},\n",
       " {'author': '2093448050', 'label': 1, 'weight': 19},\n",
       " {'author': '1908336426', 'label': 1, 'weight': 19},\n",
       " {'author': '2157666506', 'label': 1, 'weight': 19},\n",
       " {'author': '2142689629', 'label': 1, 'weight': 18},\n",
       " {'author': '2343374067', 'label': 1, 'weight': 18},\n",
       " {'author': '2077568534', 'label': 1, 'weight': 18},\n",
       " {'author': '2169022937', 'label': 1, 'weight': 17},\n",
       " {'author': '2075576330', 'label': 1, 'weight': 17},\n",
       " {'author': '2148659903', 'label': 1, 'weight': 17},\n",
       " {'author': '2159541818', 'label': 1, 'weight': 17},\n",
       " {'author': '90593849', 'label': 1, 'weight': 17},\n",
       " {'author': '2043738744', 'label': 1, 'weight': 17},\n",
       " {'author': '2008075873', 'label': 1, 'weight': 16},\n",
       " {'author': '1260078007', 'label': 1, 'weight': 16},\n",
       " {'author': '2646541923', 'label': 1, 'weight': 16},\n",
       " {'author': '2143987510', 'label': 1, 'weight': 15},\n",
       " {'author': '2137822816', 'label': 1, 'weight': 15},\n",
       " {'author': '1315286358', 'label': 1, 'weight': 15},\n",
       " {'author': '2135003558', 'label': 1, 'weight': 15},\n",
       " {'author': '812224083', 'label': 1, 'weight': 15},\n",
       " {'author': '2603021052', 'label': 1, 'weight': 15},\n",
       " {'author': '2163026013', 'label': 1, 'weight': 14},\n",
       " {'author': '2167957381', 'label': 1, 'weight': 14},\n",
       " {'author': '2292416661', 'label': 1, 'weight': 14},\n",
       " {'author': '2110560966', 'label': 1, 'weight': 13},\n",
       " {'author': '2185408536', 'label': 1, 'weight': 13},\n",
       " {'author': '2018850313', 'label': 1, 'weight': 13},\n",
       " {'author': '2073298952', 'label': 1, 'weight': 13},\n",
       " {'author': '2167306143', 'label': 1, 'weight': 13},\n",
       " {'author': '2033598989', 'label': 1, 'weight': 13},\n",
       " {'author': '2021943728', 'label': 1, 'weight': 13},\n",
       " {'author': '188633821', 'label': 1, 'weight': 13},\n",
       " {'author': '2232904012', 'label': 1, 'weight': 13},\n",
       " {'author': '2010563759', 'label': 1, 'weight': 12},\n",
       " {'author': '2112843352', 'label': 1, 'weight': 12},\n",
       " {'author': '66399341', 'label': 1, 'weight': 12},\n",
       " {'author': '2058430790', 'label': 1, 'weight': 12},\n",
       " {'author': '2214346551', 'label': 1, 'weight': 12},\n",
       " {'author': '2167707764', 'label': 1, 'weight': 12},\n",
       " {'author': '2222326457', 'label': 1, 'weight': 10},\n",
       " {'author': '1482100132', 'label': 1, 'weight': 10},\n",
       " {'author': '1999182239', 'label': 1, 'weight': 10},\n",
       " {'author': '2004973479', 'label': 1, 'weight': 10},\n",
       " {'author': '73153161', 'label': 1, 'weight': 10},\n",
       " {'author': '2670508348', 'label': 1, 'weight': 10},\n",
       " {'author': '2077625728', 'label': 1, 'weight': 10},\n",
       " {'author': '2043585040', 'label': 1, 'weight': 9},\n",
       " {'author': '2136726651', 'label': 1, 'weight': 9},\n",
       " {'author': '1661753625', 'label': 1, 'weight': 9},\n",
       " {'author': '323978313', 'label': 1, 'weight': 9},\n",
       " {'author': '2088178804', 'label': 1, 'weight': 8},\n",
       " {'author': '29300071', 'label': 1, 'weight': 8},\n",
       " {'author': '2020126974', 'label': 1, 'weight': 8},\n",
       " {'author': '2163026060', 'label': 1, 'weight': 8},\n",
       " {'author': '2200920458', 'label': 1, 'weight': 8},\n",
       " {'author': '553475523', 'label': 1, 'weight': 7},\n",
       " {'author': '2138939932', 'label': 1, 'weight': 7},\n",
       " {'author': '2145277740', 'label': 1, 'weight': 7},\n",
       " {'author': '2004732325', 'label': 1, 'weight': 7},\n",
       " {'author': '2058234366', 'label': 1, 'weight': 7},\n",
       " {'author': '2171087181', 'label': 1, 'weight': 7},\n",
       " {'author': '2518501797', 'label': 1, 'weight': 7},\n",
       " {'author': '2109910299', 'label': 1, 'weight': 6},\n",
       " {'author': '2133253165', 'label': 1, 'weight': 6},\n",
       " {'author': '186726041', 'label': 1, 'weight': 6},\n",
       " {'author': '2276785809', 'label': 1, 'weight': 6},\n",
       " {'author': '1622660537', 'label': 1, 'weight': 6},\n",
       " {'author': '1989825510', 'label': 1, 'weight': 6},\n",
       " {'author': '2114864751', 'label': 1, 'weight': 6},\n",
       " {'author': '2696308146', 'label': 1, 'weight': 6},\n",
       " {'author': '2120217825', 'label': 1, 'weight': 6},\n",
       " {'author': '2682364181', 'label': 1, 'weight': 5},\n",
       " {'author': '2149536220', 'label': 1, 'weight': 5},\n",
       " {'author': '2204331920', 'label': 1, 'weight': 5},\n",
       " {'author': '2280973442', 'label': 1, 'weight': 5},\n",
       " {'author': '2656396201', 'label': 1, 'weight': 5},\n",
       " {'author': '2235360923', 'label': 1, 'weight': 5},\n",
       " {'author': '1965416076', 'label': 1, 'weight': 5},\n",
       " {'author': '2340985166', 'label': 1, 'weight': 5},\n",
       " {'author': '2105027195', 'label': 1, 'weight': 5},\n",
       " {'author': '2011797041', 'label': 1, 'weight': 5},\n",
       " {'author': '2135641644', 'label': 1, 'weight': 5},\n",
       " {'author': '2339626150', 'label': 1, 'weight': 5},\n",
       " {'author': '2892471169', 'label': 1, 'weight': 5},\n",
       " {'author': '1124620512', 'label': 1, 'weight': 5},\n",
       " {'author': '224211078', 'label': 1, 'weight': 4},\n",
       " {'author': '1551779932', 'label': 1, 'weight': 4},\n",
       " {'author': '2140770973', 'label': 1, 'weight': 4},\n",
       " {'author': '2340460784', 'label': 1, 'weight': 4},\n",
       " {'author': '2281637263', 'label': 1, 'weight': 4},\n",
       " {'author': '2279286631', 'label': 1, 'weight': 4},\n",
       " {'author': '2534653616', 'label': 1, 'weight': 4},\n",
       " {'author': '2082233157', 'label': 1, 'weight': 3},\n",
       " {'author': '1267912761', 'label': 1, 'weight': 3},\n",
       " {'author': '2088166175', 'label': 1, 'weight': 3},\n",
       " {'author': '2162841727', 'label': 1, 'weight': 3},\n",
       " {'author': '2600684864', 'label': 1, 'weight': 3},\n",
       " {'author': '2330451', 'label': 1, 'weight': 3},\n",
       " {'author': '2171944827', 'label': 1, 'weight': 3},\n",
       " {'author': '2147096036', 'label': 1, 'weight': 3},\n",
       " {'author': '2046445069', 'label': 1, 'weight': 3},\n",
       " {'author': '2567212484', 'label': 1, 'weight': 3},\n",
       " {'author': '2280716608', 'label': 1, 'weight': 3},\n",
       " {'author': '1997265086', 'label': 1, 'weight': 3},\n",
       " {'author': '2589588625', 'label': 1, 'weight': 3},\n",
       " {'author': '2566201467', 'label': 1, 'weight': 3},\n",
       " {'author': '689772011', 'label': 1, 'weight': 2},\n",
       " {'author': '2259901366', 'label': 1, 'weight': 2},\n",
       " {'author': '2668464570', 'label': 1, 'weight': 2},\n",
       " {'author': '2344191592', 'label': 1, 'weight': 2},\n",
       " {'author': '2072849661', 'label': 1, 'weight': 2},\n",
       " {'author': '2128112774', 'label': 1, 'weight': 2},\n",
       " {'author': '1969115907', 'label': 1, 'weight': 2},\n",
       " {'author': '2182243253', 'label': 1, 'weight': 2},\n",
       " {'author': '2074098700', 'label': 1, 'weight': 2},\n",
       " {'author': '2495621359', 'label': 1, 'weight': 2},\n",
       " {'author': '2185620842', 'label': 1, 'weight': 2},\n",
       " {'author': '1964748400', 'label': 1, 'weight': 2},\n",
       " {'author': '2167192831', 'label': 1, 'weight': 2},\n",
       " {'author': '2617299098', 'label': 1, 'weight': 2},\n",
       " {'author': '2312865494', 'label': 1, 'weight': 2},\n",
       " {'author': '2036446121', 'label': 1, 'weight': 1},\n",
       " {'author': '2158012360', 'label': 1, 'weight': 1},\n",
       " {'author': '2246313951', 'label': 1, 'weight': 1},\n",
       " {'author': '2096668414', 'label': 1, 'weight': 1},\n",
       " {'author': '141507691', 'label': 1, 'weight': 1},\n",
       " {'author': '2051256779', 'label': 1, 'weight': 1},\n",
       " {'author': '1963684778', 'label': 1, 'weight': 1},\n",
       " {'author': '2465676129', 'label': 1, 'weight': 1},\n",
       " {'author': '2059211748', 'label': 1, 'weight': 1},\n",
       " {'author': '2038552831', 'label': 1, 'weight': 1},\n",
       " {'author': '2230056477', 'label': 1, 'weight': 1},\n",
       " {'author': '2161065209', 'label': 1, 'weight': 1},\n",
       " {'author': '2293790346', 'label': 1, 'weight': 1},\n",
       " {'author': '265943366', 'label': 1, 'weight': 1},\n",
       " {'author': '2025148882', 'label': 1, 'weight': 1},\n",
       " {'author': '1218862516', 'label': 1, 'weight': 1},\n",
       " {'author': '2129510089', 'label': 1, 'weight': 1},\n",
       " {'author': '2148089524', 'label': 1, 'weight': 1},\n",
       " {'author': '2124398765', 'label': 1, 'weight': 1},\n",
       " {'author': '276989726', 'label': 1, 'weight': 1},\n",
       " {'author': '2068669492', 'label': 1, 'weight': 1},\n",
       " {'author': '2797244098', 'label': 1, 'weight': 1},\n",
       " {'author': '1253166087', 'label': 1, 'weight': 1},\n",
       " {'author': '2020621672', 'label': 1, 'weight': 1},\n",
       " {'author': '733516151', 'label': 1, 'weight': 1},\n",
       " {'author': '2028914462', 'label': 1, 'weight': 1},\n",
       " {'author': '2311067965', 'label': 1, 'weight': 1},\n",
       " {'author': '2621701897', 'label': 1, 'weight': 1},\n",
       " {'author': '1747417316', 'label': 1, 'weight': 1},\n",
       " {'author': '2161618647', 'label': 1, 'weight': 1},\n",
       " {'author': '2107182554', 'label': 1, 'weight': 1},\n",
       " {'author': '2011746383', 'label': 1, 'weight': 1},\n",
       " {'author': '2310617037', 'label': 1, 'weight': 1},\n",
       " {'author': '2336130482', 'label': 1, 'weight': 1},\n",
       " {'author': '728018060', 'label': 1, 'weight': 1},\n",
       " {'author': '2805131189', 'label': 1, 'weight': 1},\n",
       " {'author': '2893490591', 'label': 1, 'weight': 1},\n",
       " {'author': '2134767308', 'label': 1, 'weight': 1},\n",
       " {'author': '2031903915', 'label': 1, 'weight': 1},\n",
       " {'author': '2861180060', 'label': 1, 'weight': 1},\n",
       " {'author': '2142579071', 'label': 1, 'weight': 1},\n",
       " {'author': '2494440625', 'label': 1, 'weight': 1},\n",
       " {'author': '2504466356', 'label': 1, 'weight': 1}]"
      ]
     },
     "execution_count": 14,
     "metadata": {},
     "output_type": "execute_result"
    }
   ],
   "source": [
    "rankings[\"quantum information science\"]"
   ]
  },
  {
   "cell_type": "code",
   "execution_count": 28,
   "metadata": {},
   "outputs": [],
   "source": [
    "def ideal_dcg(query, n=10):\n",
    "    ranking = rankings[query.lower()][:n]\n",
    "    idcg = sum([r[\"label\"]/math.log((i+1)+1) for i, r in enumerate(ranking)])\n",
    "    return idcg"
   ]
  },
  {
   "cell_type": "code",
   "execution_count": 70,
   "metadata": {},
   "outputs": [
    {
     "data": {
      "text/plain": [
       "19.664911575134393"
      ]
     },
     "execution_count": 70,
     "metadata": {},
     "output_type": "execute_result"
    }
   ],
   "source": [
    "ideal_dcg(\"quantum information science\", 10)"
   ]
  },
  {
   "cell_type": "code",
   "execution_count": null,
   "metadata": {},
   "outputs": [],
   "source": [
    "{'139622989': {'rank': 2, 'relevancy': False},\n",
    " '2021943728': {'rank': 4, 'relevancy': True},\n",
    " '2104552492': {'rank': 8, 'relevancy': True},\n",
    " '2148053431': {'rank': 1, 'relevancy': False},\n",
    " '2148083837': {'rank': 9, 'relevancy': False},\n",
    " '2152361128': {'rank': 7, 'relevancy': True},\n",
    " '2157056412': {'rank': 5, 'relevancy': True},\n",
    " '2420235564': {'rank': 0, 'relevancy': True},\n",
    " '2569856224': {'rank': 6, 'relevancy': True},\n",
    " '917844952': {'rank': 3, 'relevancy': False}}"
   ]
  },
  {
   "cell_type": "code",
   "execution_count": 36,
   "metadata": {},
   "outputs": [],
   "source": [
    "one_result =  [{'139622989': {'rank': 2, 'relevancy': False},\n",
    " '2021943728': {'rank': 4, 'relevancy': True},\n",
    " '2104552492': {'rank': 8, 'relevancy': True},\n",
    " '2148053431': {'rank': 1, 'relevancy': False},\n",
    " '2148083837': {'rank': 9, 'relevancy': False},\n",
    " '2152361128': {'rank': 7, 'relevancy': True},\n",
    " '2157056412': {'rank': 5, 'relevancy': True},\n",
    " '2420235564': {'rank': 0, 'relevancy': True},\n",
    " '2569856224': {'rank': 6, 'relevancy': True},\n",
    " '917844952': {'rank': 3, 'relevancy': False}}]"
   ]
  },
  {
   "cell_type": "code",
   "execution_count": 73,
   "metadata": {},
   "outputs": [],
   "source": [
    "def actual_dcg(result, query, n=10):\n",
    "    sortd = sorted(result[0].items(), key=lambda item: item[1]['rank'])[:n]\n",
    "    labels = []\n",
    "    for author_id, v in sortd:\n",
    "        if query.lower() in author_rankings[author_id]:\n",
    "            label = author_rankings[author_id][query.lower()]\n",
    "            labels.append(label)\n",
    "        else:\n",
    "            labels.append(0)\n",
    "            \n",
    "    dcg = sum([l/math.log((i+1)+1) for i, l in enumerate(labels)])\n",
    "    \n",
    "    return dcg"
   ]
  },
  {
   "cell_type": "code",
   "execution_count": 74,
   "metadata": {},
   "outputs": [
    {
     "data": {
      "text/plain": [
       "12.636521510487256"
      ]
     },
     "execution_count": 74,
     "metadata": {},
     "output_type": "execute_result"
    }
   ],
   "source": [
    "actual_dcg(one_result, \"quantum information science\", 10)"
   ]
  },
  {
   "cell_type": "code",
   "execution_count": 64,
   "metadata": {},
   "outputs": [],
   "source": [
    "def normalized_discounted_cumulative_gain(query, result, n=10):\n",
    "    query = query.lower()\n",
    "    idcg = ideal_dcg(query, n)\n",
    "    dcg = actual_dcg(result, query, n)\n",
    "    return dcg/idcg"
   ]
  },
  {
   "cell_type": "code",
   "execution_count": 85,
   "metadata": {},
   "outputs": [
    {
     "data": {
      "text/plain": [
       "0.6425923382470585"
      ]
     },
     "execution_count": 85,
     "metadata": {},
     "output_type": "execute_result"
    }
   ],
   "source": [
    "normalized_discounted_cumulative_gain(\"quantum information science\", one_result, 10)"
   ]
  },
  {
   "cell_type": "code",
   "execution_count": 86,
   "metadata": {},
   "outputs": [],
   "source": [
    "def average_normalized_discounted_cumulative_gain(queries, results, n=10):\n",
    "    scores = []\n",
    "    for q, r in zip(queries, results):\n",
    "        score = normalized_discounted_cumulative_gain(q, r, n)\n",
    "        scores.append(score)\n",
    "    return np.mean(scores)"
   ]
  },
  {
   "cell_type": "code",
   "execution_count": null,
   "metadata": {},
   "outputs": [],
   "source": []
  }
 ],
 "metadata": {
  "kernelspec": {
   "display_name": "Python 3",
   "language": "python",
   "name": "python3"
  },
  "language_info": {
   "codemirror_mode": {
    "name": "ipython",
    "version": 3
   },
   "file_extension": ".py",
   "mimetype": "text/x-python",
   "name": "python",
   "nbconvert_exporter": "python",
   "pygments_lexer": "ipython3",
   "version": "3.6.7"
  }
 },
 "nbformat": 4,
 "nbformat_minor": 2
}
