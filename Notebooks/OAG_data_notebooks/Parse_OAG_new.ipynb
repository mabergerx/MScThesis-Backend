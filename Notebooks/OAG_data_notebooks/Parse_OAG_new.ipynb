{
 "cells": [
  {
   "cell_type": "code",
   "execution_count": 73,
   "metadata": {},
   "outputs": [],
   "source": [
    "import pandas as pd\n",
    "import json\n",
    "import os"
   ]
  },
  {
   "cell_type": "code",
   "execution_count": 4,
   "metadata": {},
   "outputs": [],
   "source": [
    "def parse_one_line(line):\n",
    "    return json.loads(line)"
   ]
  },
  {
   "cell_type": "code",
   "execution_count": 9,
   "metadata": {},
   "outputs": [],
   "source": [
    "def prune_and_store(file_path):\n",
    "    with open(file_path, \"rb\") as bigfile:\n",
    "        lines = bigfile.readlines()\n",
    "        parsed = [parse_one_line(l) for l in lines]\n",
    "        proper_parsed = [p for p in parsed if \"references\" in p and \"abstract\" in p]\n",
    "        df = pd.DataFrame(proper_parsed)\n",
    "        df.dropna(subset=[\"authors\"], inplace=True)\n",
    "        df_final = df[[\"title\", \"year\", \"references\", \"abstract\", \"id\", \"authors\", \"doi\", \"fos\", \"keywords\"]]\n",
    "        df_final.to_pickle(f\"{file_path.replace('.txt', '.pkl')}\")\n",
    "        del df_final\n",
    "        del df\n",
    "        del proper_parsed\n",
    "        del parsed\n",
    "        del lines"
   ]
  },
  {
   "cell_type": "code",
   "execution_count": 25,
   "metadata": {},
   "outputs": [],
   "source": [
    "for i in range(140, 160):\n",
    "    filep = f\"seventh_paper_batch/mag_papers_{i}.txt\"\n",
    "    prune_and_store(filep)"
   ]
  },
  {
   "cell_type": "code",
   "execution_count": 27,
   "metadata": {},
   "outputs": [],
   "source": [
    "for i in range(160, 167):\n",
    "    filep = f\"eight_paper_batch/mag_papers_{i}.txt\"\n",
    "    prune_and_store(filep)"
   ]
  },
  {
   "cell_type": "code",
   "execution_count": 16,
   "metadata": {},
   "outputs": [
    {
     "name": "stdout",
     "output_type": "stream",
     "text": [
      "31\n",
      "32\n",
      "33\n",
      "34\n",
      "35\n",
      "36\n",
      "37\n",
      "38\n",
      "39\n"
     ]
    }
   ],
   "source": [
    "for i in range(31, 40):\n",
    "    print(i)"
   ]
  },
  {
   "cell_type": "code",
   "execution_count": 20,
   "metadata": {},
   "outputs": [],
   "source": [
    "def load_paper_pickle_batch(starting_index=0, end_index=5):\n",
    "    frames = [\n",
    "       dd.from_pandas(pd.read_pickle(f\"paper_pickles/pickles/mag_papers_{i}.pkl\"), npartitions=8) for i in range(starting_index, end_index+1)\n",
    "    ]\n",
    "    one_frame = dd.concat(frames, axis=0)\n",
    "    return one_frame\n",
    "#     for i in range(starting_index, end_index+1):\n",
    "#         single_df = pd.read_pickle(f\"paper_pickles/pickles/mag_papers_{i}.pkl\")\n",
    "        "
   ]
  },
  {
   "cell_type": "code",
   "execution_count": null,
   "metadata": {},
   "outputs": [],
   "source": []
  },
  {
   "cell_type": "code",
   "execution_count": 4,
   "metadata": {},
   "outputs": [],
   "source": [
    "def load_all_mag_papers():\n",
    "    start_i = 0\n",
    "    end_i = 40\n",
    "    batches = []\n",
    "    while end_i < 170:\n",
    "        print(f\"Started loading batch between {start_i} and {end_i}\")\n",
    "        try:\n",
    "            one_batch = load_paper_pickle_batch(start_i, end_i)\n",
    "            batches.append(one_batch)\n",
    "            del one_batch\n",
    "            print(f\"Done batch between {start_i} and {end_i}\")\n",
    "            start_i += 40\n",
    "            end_i += 40\n",
    "        except:\n",
    "            pass\n",
    "\n",
    "    return batches"
   ]
  },
  {
   "cell_type": "code",
   "execution_count": null,
   "metadata": {},
   "outputs": [
    {
     "name": "stdout",
     "output_type": "stream",
     "text": [
      "Started loading batch between 0 and 5\n",
      "Done batch between 0 and 5\n",
      "Started loading batch between 5 and 10\n",
      "Done batch between 5 and 10\n",
      "Started loading batch between 10 and 15\n",
      "Done batch between 10 and 15\n",
      "Started loading batch between 15 and 20\n",
      "Done batch between 15 and 20\n",
      "Started loading batch between 20 and 25\n",
      "Done batch between 20 and 25\n",
      "Started loading batch between 25 and 30\n",
      "Done batch between 25 and 30\n",
      "Started loading batch between 30 and 35\n",
      "Done batch between 30 and 35\n",
      "Started loading batch between 35 and 40\n",
      "Done batch between 35 and 40\n",
      "Started loading batch between 40 and 45\n",
      "Done batch between 40 and 45\n",
      "Started loading batch between 45 and 50\n",
      "Done batch between 45 and 50\n",
      "Started loading batch between 50 and 55\n"
     ]
    }
   ],
   "source": [
    "all_mag_paper_batches = load_all_mag_papers()"
   ]
  },
  {
   "cell_type": "code",
   "execution_count": 14,
   "metadata": {},
   "outputs": [],
   "source": [
    "# import sys"
   ]
  },
  {
   "cell_type": "code",
   "execution_count": 14,
   "metadata": {},
   "outputs": [],
   "source": [
    "# sys.getsizeof(p) * 0.000001"
   ]
  },
  {
   "cell_type": "code",
   "execution_count": null,
   "metadata": {},
   "outputs": [],
   "source": [
    "ddd = load_paper_pickle_batch(0, 40)"
   ]
  },
  {
   "cell_type": "code",
   "execution_count": null,
   "metadata": {},
   "outputs": [],
   "source": []
  },
  {
   "cell_type": "code",
   "execution_count": 1,
   "metadata": {},
   "outputs": [],
   "source": [
    "author_example = '{\"id\": \"53f852bbdabfae92b4121081\", \"name\": \"K. Gy\\u00f6ry\", \"h_index\": 4, \"n_pubs\": 18, \"tags\": [{\"w\": 1, \"t\": \"Integral Solution\"}, {\"w\": 1, \"t\": \"Interesting Object\"}, {\"w\": 1, \"t\": \"Exponential Diophantine Equations\"}, {\"w\": 1, \"t\": \"Central Projection\"}, {\"w\": 1, \"t\": \"Product Of Consecutive Integers\"}, {\"w\": 1, \"t\": \"Binomial Thue Equations\"}, {\"w\": 1, \"t\": \"Unit Ball\"}, {\"w\": 1, \"t\": \"Integral Decomposable Form Equation\"}, {\"w\": 1, \"t\": \"Spatial Distribution\"}, {\"w\": 1, \"t\": \"Norm Form Equation\"}, {\"w\": 1, \"t\": \"Large Class\"}, {\"w\": 1, \"t\": \"Night Sky\"}, {\"w\": 1, \"t\": \"Abelian Group Ring\"}], \"pubs\": [{\"i\": \"53e99c36b7602d97024e7230\", \"r\": 0}, {\"i\": \"53e9a23eb7602d9702b43794\", \"r\": 0}, {\"i\": \"53e9a570b7602d9702e974c0\", \"r\": 1}, {\"i\": \"53e9a63db7602d9702f68711\", \"r\": 1}, {\"i\": \"53e9a704b7602d970303921e\", \"r\": 1}, {\"i\": \"53e9a965b7602d97032bc1be\", \"r\": 2}, {\"i\": \"53e9a96cb7602d97032c2e53\", \"r\": 0}, {\"i\": \"53e9a99cb7602d97032f5acb\", \"r\": 0}, {\"i\": \"53e9abfeb7602d97035bdece\", \"r\": 0}, {\"i\": \"53e9b089b7602d9703af1c17\", \"r\": 1}, {\"i\": \"53e9b0abb7602d9703b1a7d2\", \"r\": 0}, {\"i\": \"53e9b41bb7602d9703f14480\", \"r\": 0}, {\"i\": \"53e9b512b7602d970404420e\", \"r\": 0}, {\"i\": \"53e9b6dcb7602d970426edfe\", \"r\": 0}, {\"i\": \"53e9ba28b7602d97046338e6\", \"r\": 2}, {\"i\": \"53e9bafbb7602d9704735fe2\", \"r\": 0}, {\"i\": \"53e9bc00b7602d97048601d9\", \"r\": 1}, {\"i\": \"53e9bd4bb7602d97049d934b\", \"r\": 1}], \"n_citation\": 59, \"orgs\": [\"University of Debrecen Hungary\"]}'"
   ]
  },
  {
   "cell_type": "code",
   "execution_count": 2,
   "metadata": {},
   "outputs": [],
   "source": [
    "author_example2 = '{\"id\": \"53f852bbdabfae92b4121081\", \"name\": \"K. Gyfkjry\", \"h_index\": 4, \"n_pubs\": 18, \"tags\": [{\"w\": 1, \"t\": \"Integral Solution\"}, {\"w\": 1, \"t\": \"Interesting Object\"}, {\"w\": 1, \"t\": \"Exponential Diophantine Equations\"}, {\"w\": 1, \"t\": \"Central Projection\"}, {\"w\": 1, \"t\": \"Product Of Consecutive Integers\"}, {\"w\": 1, \"t\": \"Binomial Thue Equations\"}, {\"w\": 1, \"t\": \"Unit Ball\"}, {\"w\": 1, \"t\": \"Integral Decomposable Form Equation\"}, {\"w\": 1, \"t\": \"Spatial Distribution\"}, {\"w\": 1, \"t\": \"Norm Form Equation\"}, {\"w\": 1, \"t\": \"Large Class\"}, {\"w\": 1, \"t\": \"Night Sky\"}, {\"w\": 1, \"t\": \"Abelian Group Ring\"}], \"pubs\": [{\"i\": \"53e99c36b7602d97024e7230\", \"r\": 0}, {\"i\": \"53e9a23eb7602d9702b43794\", \"r\": 0}, {\"i\": \"53e9a570b7602d9702e974c0\", \"r\": 1}, {\"i\": \"53e9a63db7602d9702f68711\", \"r\": 1}, {\"i\": \"53e9a704b7602d970303921e\", \"r\": 1}, {\"i\": \"53e9a965b7602d97032bc1be\", \"r\": 2}, {\"i\": \"53e9a96cb7602d97032c2e53\", \"r\": 0}, {\"i\": \"53e9a99cb7602d97032f5acb\", \"r\": 0}, {\"i\": \"53e9abfeb7602d97035bdece\", \"r\": 0}, {\"i\": \"53e9b089b7602d9703af1c17\", \"r\": 1}, {\"i\": \"53e9b0abb7602d9703b1a7d2\", \"r\": 0}, {\"i\": \"53e9b41bb7602d9703f14480\", \"r\": 0}, {\"i\": \"53e9b512b7602d970404420e\", \"r\": 0}, {\"i\": \"53e9b6dcb7602d970426edfe\", \"r\": 0}, {\"i\": \"53e9ba28b7602d97046338e6\", \"r\": 2}, {\"i\": \"53e9bafbb7602d9704735fe2\", \"r\": 0}, {\"i\": \"53e9bc00b7602d97048601d9\", \"r\": 1}, {\"i\": \"53e9bd4bb7602d97049d934b\", \"r\": 1}], \"n_citation\": 79, \"orgs\": [\"University of Debrecen Hungary\"]}'"
   ]
  },
  {
   "cell_type": "code",
   "execution_count": 7,
   "metadata": {},
   "outputs": [],
   "source": [
    "parsed = [parse_one_line(l) for l in [author_example, author_example2]]"
   ]
  },
  {
   "cell_type": "code",
   "execution_count": 8,
   "metadata": {},
   "outputs": [],
   "source": [
    "proper_parsed = [p for p in parsed if \"pubs\" in p and \"name\" in p and \"id\" in p]"
   ]
  },
  {
   "cell_type": "code",
   "execution_count": 9,
   "metadata": {},
   "outputs": [],
   "source": [
    "df = pd.DataFrame(proper_parsed)"
   ]
  },
  {
   "cell_type": "code",
   "execution_count": 13,
   "metadata": {},
   "outputs": [],
   "source": [
    "k = df.sort_values(by=[\"n_citation\"], ascending=False)[:2000]"
   ]
  },
  {
   "cell_type": "code",
   "execution_count": 11,
   "metadata": {},
   "outputs": [],
   "source": [
    "exdf = df[[\"h_index\", \"id\", \"name\", \"n_citation\", \"n_pubs\", \"pubs\", \"tags\"]]"
   ]
  },
  {
   "cell_type": "code",
   "execution_count": 6,
   "metadata": {},
   "outputs": [],
   "source": [
    "# sorted(list_of_authors, key = lambda i: i['n_pubs']) "
   ]
  },
  {
   "cell_type": "code",
   "execution_count": 9,
   "metadata": {},
   "outputs": [],
   "source": [
    "# get top 2k authors from all the mag authors --> from these authors\n",
    "# then, given these top 2k authors, aggregate all the paper ids from their pubs fields\n",
    "# filter the whole mag paper dataset first only for those papers + the papers that paper cites. Build a dataset that way."
   ]
  },
  {
   "cell_type": "code",
   "execution_count": 62,
   "metadata": {},
   "outputs": [],
   "source": [
    "# In the loading of the authors we could also just load the authors which have tags OR/AND authors that have more then 5 citations / publications."
   ]
  },
  {
   "cell_type": "code",
   "execution_count": 27,
   "metadata": {},
   "outputs": [],
   "source": [
    "# aggregation given the top2k authors\n",
    "def extract_all_relevant_paper_ids(top2k_author_df, only_top=False):\n",
    "    all_pubs = []\n",
    "    if not only_top:\n",
    "        for sublist in top2k_author_df.pubs:\n",
    "            for p in ast.literal_eval(sublist):\n",
    "                all_pubs.append(p[\"i\"])\n",
    "    else:\n",
    "        # OR we do only pubs from authors where they are the first author.\n",
    "        for sublist in top2k_author_df.pubs:\n",
    "            for p in ast.literal_eval(sublist):\n",
    "                if p[\"r\"] == 0:\n",
    "                    all_pubs.append(p[\"i\"])\n",
    "    \n",
    "    return set(all_pubs)\n",
    "\n",
    "# We have to filter the papers data by the top publications AND the publications that they cite (for retrofitting).\n"
   ]
  },
  {
   "cell_type": "code",
   "execution_count": 23,
   "metadata": {},
   "outputs": [],
   "source": [
    "# essentially, we only work on MAG dataset now."
   ]
  },
  {
   "cell_type": "code",
   "execution_count": 29,
   "metadata": {},
   "outputs": [],
   "source": [
    "import os, ast"
   ]
  },
  {
   "cell_type": "code",
   "execution_count": 30,
   "metadata": {},
   "outputs": [
    {
     "ename": "ValueError",
     "evalue": "malformed node or string: [{'i': '53e99c36b7602d97024e7230', 'r': 0}, {'i': '53e9a23eb7602d9702b43794', 'r': 0}, {'i': '53e9a570b7602d9702e974c0', 'r': 1}, {'i': '53e9a63db7602d9702f68711', 'r': 1}, {'i': '53e9a704b7602d970303921e', 'r': 1}, {'i': '53e9a965b7602d97032bc1be', 'r': 2}, {'i': '53e9a96cb7602d97032c2e53', 'r': 0}, {'i': '53e9a99cb7602d97032f5acb', 'r': 0}, {'i': '53e9abfeb7602d97035bdece', 'r': 0}, {'i': '53e9b089b7602d9703af1c17', 'r': 1}, {'i': '53e9b0abb7602d9703b1a7d2', 'r': 0}, {'i': '53e9b41bb7602d9703f14480', 'r': 0}, {'i': '53e9b512b7602d970404420e', 'r': 0}, {'i': '53e9b6dcb7602d970426edfe', 'r': 0}, {'i': '53e9ba28b7602d97046338e6', 'r': 2}, {'i': '53e9bafbb7602d9704735fe2', 'r': 0}, {'i': '53e9bc00b7602d97048601d9', 'r': 1}, {'i': '53e9bd4bb7602d97049d934b', 'r': 1}]",
     "output_type": "error",
     "traceback": [
      "\u001b[0;31m---------------------------------------------------------------------------\u001b[0m",
      "\u001b[0;31mValueError\u001b[0m                                Traceback (most recent call last)",
      "\u001b[0;32m<ipython-input-30-07b7932a3e82>\u001b[0m in \u001b[0;36m<module>\u001b[0;34m()\u001b[0m\n\u001b[0;32m----> 1\u001b[0;31m \u001b[0mextract_all_relevant_paper_ids\u001b[0m\u001b[0;34m(\u001b[0m\u001b[0mk\u001b[0m\u001b[0;34m,\u001b[0m \u001b[0;32mTrue\u001b[0m\u001b[0;34m)\u001b[0m\u001b[0;34m\u001b[0m\u001b[0;34m\u001b[0m\u001b[0m\n\u001b[0m",
      "\u001b[0;32m<ipython-input-27-627f0195e7f3>\u001b[0m in \u001b[0;36mextract_all_relevant_paper_ids\u001b[0;34m(top2k_author_df, only_top)\u001b[0m\n\u001b[1;32m      9\u001b[0m         \u001b[0;31m# OR we do only pubs from authors where they are the first author.\u001b[0m\u001b[0;34m\u001b[0m\u001b[0;34m\u001b[0m\u001b[0;34m\u001b[0m\u001b[0m\n\u001b[1;32m     10\u001b[0m         \u001b[0;32mfor\u001b[0m \u001b[0msublist\u001b[0m \u001b[0;32min\u001b[0m \u001b[0mtop2k_author_df\u001b[0m\u001b[0;34m.\u001b[0m\u001b[0mpubs\u001b[0m\u001b[0;34m:\u001b[0m\u001b[0;34m\u001b[0m\u001b[0;34m\u001b[0m\u001b[0m\n\u001b[0;32m---> 11\u001b[0;31m             \u001b[0;32mfor\u001b[0m \u001b[0mp\u001b[0m \u001b[0;32min\u001b[0m \u001b[0mast\u001b[0m\u001b[0;34m.\u001b[0m\u001b[0mliteral_eval\u001b[0m\u001b[0;34m(\u001b[0m\u001b[0msublist\u001b[0m\u001b[0;34m)\u001b[0m\u001b[0;34m:\u001b[0m\u001b[0;34m\u001b[0m\u001b[0;34m\u001b[0m\u001b[0m\n\u001b[0m\u001b[1;32m     12\u001b[0m                 \u001b[0;32mif\u001b[0m \u001b[0mp\u001b[0m\u001b[0;34m[\u001b[0m\u001b[0;34m\"r\"\u001b[0m\u001b[0;34m]\u001b[0m \u001b[0;34m==\u001b[0m \u001b[0;36m0\u001b[0m\u001b[0;34m:\u001b[0m\u001b[0;34m\u001b[0m\u001b[0;34m\u001b[0m\u001b[0m\n\u001b[1;32m     13\u001b[0m                     \u001b[0mall_pubs\u001b[0m\u001b[0;34m.\u001b[0m\u001b[0mappend\u001b[0m\u001b[0;34m(\u001b[0m\u001b[0mp\u001b[0m\u001b[0;34m[\u001b[0m\u001b[0;34m\"i\"\u001b[0m\u001b[0;34m]\u001b[0m\u001b[0;34m)\u001b[0m\u001b[0;34m\u001b[0m\u001b[0;34m\u001b[0m\u001b[0m\n",
      "\u001b[0;32m/Users/markberger/anaconda/lib/python3.6/ast.py\u001b[0m in \u001b[0;36mliteral_eval\u001b[0;34m(node_or_string)\u001b[0m\n\u001b[1;32m     83\u001b[0m                     \u001b[0;32mreturn\u001b[0m \u001b[0mleft\u001b[0m \u001b[0;34m-\u001b[0m \u001b[0mright\u001b[0m\u001b[0;34m\u001b[0m\u001b[0;34m\u001b[0m\u001b[0m\n\u001b[1;32m     84\u001b[0m         \u001b[0;32mraise\u001b[0m \u001b[0mValueError\u001b[0m\u001b[0;34m(\u001b[0m\u001b[0;34m'malformed node or string: '\u001b[0m \u001b[0;34m+\u001b[0m \u001b[0mrepr\u001b[0m\u001b[0;34m(\u001b[0m\u001b[0mnode\u001b[0m\u001b[0;34m)\u001b[0m\u001b[0;34m)\u001b[0m\u001b[0;34m\u001b[0m\u001b[0;34m\u001b[0m\u001b[0m\n\u001b[0;32m---> 85\u001b[0;31m     \u001b[0;32mreturn\u001b[0m \u001b[0m_convert\u001b[0m\u001b[0;34m(\u001b[0m\u001b[0mnode_or_string\u001b[0m\u001b[0;34m)\u001b[0m\u001b[0;34m\u001b[0m\u001b[0;34m\u001b[0m\u001b[0m\n\u001b[0m\u001b[1;32m     86\u001b[0m \u001b[0;34m\u001b[0m\u001b[0m\n\u001b[1;32m     87\u001b[0m \u001b[0;34m\u001b[0m\u001b[0m\n",
      "\u001b[0;32m/Users/markberger/anaconda/lib/python3.6/ast.py\u001b[0m in \u001b[0;36m_convert\u001b[0;34m(node)\u001b[0m\n\u001b[1;32m     82\u001b[0m                 \u001b[0;32melse\u001b[0m\u001b[0;34m:\u001b[0m\u001b[0;34m\u001b[0m\u001b[0;34m\u001b[0m\u001b[0m\n\u001b[1;32m     83\u001b[0m                     \u001b[0;32mreturn\u001b[0m \u001b[0mleft\u001b[0m \u001b[0;34m-\u001b[0m \u001b[0mright\u001b[0m\u001b[0;34m\u001b[0m\u001b[0;34m\u001b[0m\u001b[0m\n\u001b[0;32m---> 84\u001b[0;31m         \u001b[0;32mraise\u001b[0m \u001b[0mValueError\u001b[0m\u001b[0;34m(\u001b[0m\u001b[0;34m'malformed node or string: '\u001b[0m \u001b[0;34m+\u001b[0m \u001b[0mrepr\u001b[0m\u001b[0;34m(\u001b[0m\u001b[0mnode\u001b[0m\u001b[0;34m)\u001b[0m\u001b[0;34m)\u001b[0m\u001b[0;34m\u001b[0m\u001b[0;34m\u001b[0m\u001b[0m\n\u001b[0m\u001b[1;32m     85\u001b[0m     \u001b[0;32mreturn\u001b[0m \u001b[0m_convert\u001b[0m\u001b[0;34m(\u001b[0m\u001b[0mnode_or_string\u001b[0m\u001b[0;34m)\u001b[0m\u001b[0;34m\u001b[0m\u001b[0;34m\u001b[0m\u001b[0m\n\u001b[1;32m     86\u001b[0m \u001b[0;34m\u001b[0m\u001b[0m\n",
      "\u001b[0;31mValueError\u001b[0m: malformed node or string: [{'i': '53e99c36b7602d97024e7230', 'r': 0}, {'i': '53e9a23eb7602d9702b43794', 'r': 0}, {'i': '53e9a570b7602d9702e974c0', 'r': 1}, {'i': '53e9a63db7602d9702f68711', 'r': 1}, {'i': '53e9a704b7602d970303921e', 'r': 1}, {'i': '53e9a965b7602d97032bc1be', 'r': 2}, {'i': '53e9a96cb7602d97032c2e53', 'r': 0}, {'i': '53e9a99cb7602d97032f5acb', 'r': 0}, {'i': '53e9abfeb7602d97035bdece', 'r': 0}, {'i': '53e9b089b7602d9703af1c17', 'r': 1}, {'i': '53e9b0abb7602d9703b1a7d2', 'r': 0}, {'i': '53e9b41bb7602d9703f14480', 'r': 0}, {'i': '53e9b512b7602d970404420e', 'r': 0}, {'i': '53e9b6dcb7602d970426edfe', 'r': 0}, {'i': '53e9ba28b7602d97046338e6', 'r': 2}, {'i': '53e9bafbb7602d9704735fe2', 'r': 0}, {'i': '53e9bc00b7602d97048601d9', 'r': 1}, {'i': '53e9bd4bb7602d97049d934b', 'r': 1}]"
     ]
    }
   ],
   "source": [
    "extract_all_relevant_paper_ids(k, True)"
   ]
  },
  {
   "cell_type": "code",
   "execution_count": 26,
   "metadata": {},
   "outputs": [
    {
     "data": {
      "text/plain": [
       "1    [{'i': '53e99c36b7602d97024e7230', 'r': 0}, {'...\n",
       "0    [{'i': '53e99c36b7602d97024e7230', 'r': 0}, {'...\n",
       "Name: pubs, dtype: object"
      ]
     },
     "execution_count": 26,
     "metadata": {},
     "output_type": "execute_result"
    }
   ],
   "source": [
    "k.pubs"
   ]
  },
  {
   "cell_type": "code",
   "execution_count": 31,
   "metadata": {},
   "outputs": [],
   "source": [
    "id_set = {'2734969449', '2113366838', '2556747587', '1979701854', '2132992916', '2519755042', '2783338612', '2139195948', '2465161078', '2530906933', '1624696459', '1968250996', '2072546539', '2765873128', '2002627663', '2048647186', '2734658556', '2757179846', '1976895178', '2167902785', '2060229084', '2024814046', '2416160245', '2564558272', '567631738', '2037177259', '2808524416', '2258123948', '2134742113', '2039607452', '2116087886', '1992110513', '2159087408', '1990538732', '2010824065', '2121262376', '1999514332', '1592101651', '2102673684', '2785609376', '1655860314', '1614843501', '2596908265', '3444853', '2137973090', '2134448489', '2560689199', '1999277101', '2894288377', '2155779109', '2151049989', '167341795', '817767772', '2118748878', '2129455464', '2511694998', '1579641819', '2242045676', '2157459742', '1988852803', '2099635527', '2246300441', '2292288962', '2113467957', '2288619441', '2080497992', '2335010410', '2072405239', '2152663903', '2150457970', '2071485517', '2102252264', '1130948634', '2012593982', '2098920370', '2035279091', '2500687493', '1974373184', '2056800748', '1981681632', '2129328455', '2056770622', '2481126857', '2397218776', '2897274687', '1977395362', '2023600408', '1989197038'}"
   ]
  },
  {
   "cell_type": "code",
   "execution_count": 36,
   "metadata": {},
   "outputs": [],
   "source": [
    "json_string = '{\"Unnamed: 0\":{\"0\":0,\"1\":1},\"title\":{\"0\":\"EFL learners\\' use of online reading strategies and comprehension of texts: An exploratory study\",\"1\":\"Acne Urticata Polycythemica: Report of a Case\"},\"year\":{\"0\":2009,\"1\":1958},\"references\":{\"0\":\"[\\'0299a529-2c14-4b4d-8767-cbe46e0f364a\\', \\'0944c6dc-0875-452e-821a-636da2045b67\\', \\'0aa0ffd3-ce9b-4a53-9751-b958aebae940\\', \\'123014ca-20ef-4835-a733-2a1516871574\\', \\'1f96328c-2ef8-4862-88f1-8ec7267b5f3a\\', \\'21211985-3c32-4125-bce0-649a98fe3d98\\', \\'214bced0-4719-4841-b18e-b9f160905f15\\', \\'21d1db87-ec87-4694-8fa2-0f51bf4af988\\', \\'3372ec17-ccf6-479a-8db6-05751b6c1430\\', \\'3ac06386-baa2-4e19-847a-7eaf05197ab9\\', \\'455a9651-54e7-4692-88af-35d436ea7e0a\\', \\'4876dda4-803a-4886-8a8f-6b2a57369e72\\', \\'509e8f12-c190-46cf-990e-1d38d50a1120\\', \\'51e4bfe4-d62d-4e51-8fb6-dc305df23857\\', \\'5516349f-1513-403d-b816-ce07c798ebc1\\', \\'59bb8c62-1fb4-477e-b731-ccde521d9b28\\', \\'623828da-a1b3-443d-a80e-b05d87f4ccff\\', \\'6408c691-0236-40ed-b5bf-ee4fe359776f\\', \\'79043465-3757-42c5-ab68-16cc5246d1a8\\', \\'83716c19-605a-4bb8-ad8d-f1bb42b7454b\\', \\'84e85701-dfd6-439e-a253-c0d24567f658\\', \\'90076db3-8c50-4724-a618-c3bc830e86a1\\', \\'92b57454-2ba8-4981-97b1-1a29a65e8860\\', \\'aa665d64-7faa-405d-ade8-ccfaf8863fbb\\', \\'aab8f48d-49ff-40ad-9b33-0652059fcac0\\', \\'afc7da94-de77-4670-9a09-137772a653fb\\', \\'b4a71877-3d70-4078-aba4-a484d2756081\\', \\'c89e29e5-695c-4543-b25b-13a1c618a62a\\', \\'c99273ed-e262-4a87-85a4-153dea2a7a2b\\', \\'cb6c8c99-0acd-492b-9b69-30f90b8e6e8c\\', \\'cd6dc174-e902-4dcb-a561-cd53ab39c967\\', \\'d229ae02-4c4a-4396-8355-6b365f621447\\', \\'dca42d6f-8ae1-4e20-812b-cda008b7127f\\', \\'ec66681e-1fc4-4ac8-ba1f-3f29b868e452\\', \\'f02ce13f-0fed-40e6-b964-54323ee94c44\\', \\'fa87fa05-f2be-4963-b9e6-4b638196c148\\', \\'faacad92-4db8-4126-aec0-0c1326f5736b\\', \\'ffda715d-d7d2-4938-834e-56684ccdf91f\\']\",\"1\":\"[\\'0f60e5ad-8925-43cd-aa82-dfa53e9432f7\\', \\'11c4d56b-0bab-4d18-9a10-98bf0b180474\\', \\'94ccaf5e-6c60-4185-ad33-6e7eb3005f97\\', \\'c42fa377-3ef2-4a6d-8b05-7a4b7a750f3b\\']\"},\"abstract\":{\"0\":\"This study investigated EFL learners\\' online reading strategies and the effects of strategy use on comprehension. To fulfill the purposes of this study, a Web-based reading program, English Reading Online, was created. Thirty applied English majors, divided into a high group and a low group based on their proficiency levels, were asked to read four authentic online texts; two were appropriate to the students\\' level of proficiency, and two were more difficult. Results from data analysis showed that the use of support strategies dominated the strategy use and contributed to most of the comprehension gains, but an exclusive dependence on support strategies did not successfully predict the increase in scores on main ideas and details when the students were reading more challenging texts. On the whole, the use of global strategies significantly contributed to better comprehension, especially for low proficiency students.\",\"1\":\"The cutaneous manifestations most frequently associated with polycythemia vera are a purplish-red discoloration of the skin and mucous membranes and ecchymoses particularly over the lower extremities. Both of these manifestations are readily understandable on the basis of the increase in total red cell volume characteristic of this disease.  In addition to these commoner cutaneous manifestations, acne urticata has been described in association with polycythemia vera more frequently than any other eruption. The term acne urticata was first used by Kaposi 1 to designate a chronic, severely pruritic eruption characterized by the development of pale red elevated wheal-like papules, ranging from the size of a pea to that of a small coin, surmounted by a vesicle with turbid contents. The vesicle or pustule is rapidly excoriated, and the surface of the papule becomes crusted. Involution occurs, with the formation of a delicate scar and hyperpigmentation. The eruption\"},\"id\":{\"0\":\"000000b8-7f59-49ad-b9bc-e92aa858fc37\",\"1\":\"000000e3-dfe8-43ae-9fd5-a2ad9692d15d\"},\"authors\":{\"0\":\"[{\\'org\\': \\\\\"Department of Applied English, St. John\\'s University, 499, Tamkin Road, Section , Tamsui 251, Taiwan, ROC#TAB#\\\\\", \\'name\\': \\'Hsin-chou Huang\\'}, {\\'org\\': \\'Department of English, National Taiwan Normal University, 162, He-ping East Road, Section , Taipei 106, Taiwan, ROC#TAB#\\', \\'name\\': \\'Chiou-lan Chern\\'}, {\\'org\\': \\'Department of English, National Taiwan Normal University, 162, He-ping East Road, Section , Taipei 106, Taiwan, ROC#TAB#\\', \\'name\\': \\'Chih-cheng Lin\\'}]\",\"1\":\"[{\\'name\\': \\'Donald L. Baxter\\'}, {\\'name\\': \\'James H. Lockwood\\'}]\"},\"doi\":{\"0\":\"10.1016\\\\/j.compedu.2008.06.003\",\"1\":\"10.1001\\\\/archderm.1958.01560090039009\"},\"fos\":{\"0\":\"[\\'Natural language processing\\', \\'Social science\\', \\'Computer Science\\', \\'Multimedia\\', \\'Sociology\\', \\'Reciprocal teaching\\', \\'Data analysis\\', \\'Exploratory research\\', \\'Pedagogy\\']\",\"1\":\"[\\'Dermatology\\', \\'Medicine\\', \\'Pathology\\', \\'Surgery\\']\"},\"keywords\":{\"0\":\"[\\'reading programs\\', \\'reading strategies\\', \\'teaching learning strategies\\', \\'reading comprehension\\', \\'pedagogical issues\\', \\'data analysis\\', \\'online courses\\', \\'improving classroom teaching\\', \\'post secondary education\\', \\'exploratory study\\', \\'college english\\', \\'english second language\\', \\'majors students\\']\",\"1\":null}}'"
   ]
  },
  {
   "cell_type": "code",
   "execution_count": 38,
   "metadata": {},
   "outputs": [],
   "source": [
    "paperss = pd.read_json(json_string)"
   ]
  },
  {
   "cell_type": "code",
   "execution_count": 39,
   "metadata": {},
   "outputs": [
    {
     "data": {
      "text/html": [
       "<div>\n",
       "<style scoped>\n",
       "    .dataframe tbody tr th:only-of-type {\n",
       "        vertical-align: middle;\n",
       "    }\n",
       "\n",
       "    .dataframe tbody tr th {\n",
       "        vertical-align: top;\n",
       "    }\n",
       "\n",
       "    .dataframe thead th {\n",
       "        text-align: right;\n",
       "    }\n",
       "</style>\n",
       "<table border=\"1\" class=\"dataframe\">\n",
       "  <thead>\n",
       "    <tr style=\"text-align: right;\">\n",
       "      <th></th>\n",
       "      <th>Unnamed: 0</th>\n",
       "      <th>title</th>\n",
       "      <th>year</th>\n",
       "      <th>references</th>\n",
       "      <th>abstract</th>\n",
       "      <th>id</th>\n",
       "      <th>authors</th>\n",
       "      <th>doi</th>\n",
       "      <th>fos</th>\n",
       "      <th>keywords</th>\n",
       "    </tr>\n",
       "  </thead>\n",
       "  <tbody>\n",
       "    <tr>\n",
       "      <td>0</td>\n",
       "      <td>0</td>\n",
       "      <td>EFL learners' use of online reading strategies...</td>\n",
       "      <td>2009</td>\n",
       "      <td>['0299a529-2c14-4b4d-8767-cbe46e0f364a', '0944...</td>\n",
       "      <td>This study investigated EFL learners' online r...</td>\n",
       "      <td>000000b8-7f59-49ad-b9bc-e92aa858fc37</td>\n",
       "      <td>[{'org': \"Department of Applied English, St. J...</td>\n",
       "      <td>10.1016/j.compedu.2008.06.003</td>\n",
       "      <td>['Natural language processing', 'Social scienc...</td>\n",
       "      <td>['reading programs', 'reading strategies', 'te...</td>\n",
       "    </tr>\n",
       "    <tr>\n",
       "      <td>1</td>\n",
       "      <td>1</td>\n",
       "      <td>Acne Urticata Polycythemica: Report of a Case</td>\n",
       "      <td>1958</td>\n",
       "      <td>['0f60e5ad-8925-43cd-aa82-dfa53e9432f7', '11c4...</td>\n",
       "      <td>The cutaneous manifestations most frequently a...</td>\n",
       "      <td>000000e3-dfe8-43ae-9fd5-a2ad9692d15d</td>\n",
       "      <td>[{'name': 'Donald L. Baxter'}, {'name': 'James...</td>\n",
       "      <td>10.1001/archderm.1958.01560090039009</td>\n",
       "      <td>['Dermatology', 'Medicine', 'Pathology', 'Surg...</td>\n",
       "      <td>None</td>\n",
       "    </tr>\n",
       "  </tbody>\n",
       "</table>\n",
       "</div>"
      ],
      "text/plain": [
       "   Unnamed: 0                                              title  year  \\\n",
       "0           0  EFL learners' use of online reading strategies...  2009   \n",
       "1           1      Acne Urticata Polycythemica: Report of a Case  1958   \n",
       "\n",
       "                                          references  \\\n",
       "0  ['0299a529-2c14-4b4d-8767-cbe46e0f364a', '0944...   \n",
       "1  ['0f60e5ad-8925-43cd-aa82-dfa53e9432f7', '11c4...   \n",
       "\n",
       "                                            abstract  \\\n",
       "0  This study investigated EFL learners' online r...   \n",
       "1  The cutaneous manifestations most frequently a...   \n",
       "\n",
       "                                     id  \\\n",
       "0  000000b8-7f59-49ad-b9bc-e92aa858fc37   \n",
       "1  000000e3-dfe8-43ae-9fd5-a2ad9692d15d   \n",
       "\n",
       "                                             authors  \\\n",
       "0  [{'org': \"Department of Applied English, St. J...   \n",
       "1  [{'name': 'Donald L. Baxter'}, {'name': 'James...   \n",
       "\n",
       "                                    doi  \\\n",
       "0         10.1016/j.compedu.2008.06.003   \n",
       "1  10.1001/archderm.1958.01560090039009   \n",
       "\n",
       "                                                 fos  \\\n",
       "0  ['Natural language processing', 'Social scienc...   \n",
       "1  ['Dermatology', 'Medicine', 'Pathology', 'Surg...   \n",
       "\n",
       "                                            keywords  \n",
       "0  ['reading programs', 'reading strategies', 'te...  \n",
       "1                                               None  "
      ]
     },
     "execution_count": 39,
     "metadata": {},
     "output_type": "execute_result"
    }
   ],
   "source": [
    "paperss"
   ]
  },
  {
   "cell_type": "code",
   "execution_count": null,
   "metadata": {},
   "outputs": [],
   "source": []
  },
  {
   "cell_type": "code",
   "execution_count": 40,
   "metadata": {},
   "outputs": [],
   "source": [
    "# Linking code"
   ]
  },
  {
   "cell_type": "code",
   "execution_count": 41,
   "metadata": {},
   "outputs": [],
   "source": [
    "linking_data = [{\"mid\": \"2164199381\", \"aid\": \"53e99784b7602d9701f3e141\"},\n",
    "{\"mid\": \"2397607444\", \"aid\": \"56d85149dabfae2eee04e924\"}]"
   ]
  },
  {
   "cell_type": "code",
   "execution_count": 42,
   "metadata": {},
   "outputs": [],
   "source": [
    "links = pd.DataFrame(linking_data)"
   ]
  },
  {
   "cell_type": "code",
   "execution_count": 43,
   "metadata": {},
   "outputs": [
    {
     "data": {
      "text/html": [
       "<div>\n",
       "<style scoped>\n",
       "    .dataframe tbody tr th:only-of-type {\n",
       "        vertical-align: middle;\n",
       "    }\n",
       "\n",
       "    .dataframe tbody tr th {\n",
       "        vertical-align: top;\n",
       "    }\n",
       "\n",
       "    .dataframe thead th {\n",
       "        text-align: right;\n",
       "    }\n",
       "</style>\n",
       "<table border=\"1\" class=\"dataframe\">\n",
       "  <thead>\n",
       "    <tr style=\"text-align: right;\">\n",
       "      <th></th>\n",
       "      <th>mid</th>\n",
       "      <th>aid</th>\n",
       "    </tr>\n",
       "  </thead>\n",
       "  <tbody>\n",
       "    <tr>\n",
       "      <td>0</td>\n",
       "      <td>2164199381</td>\n",
       "      <td>53e99784b7602d9701f3e141</td>\n",
       "    </tr>\n",
       "    <tr>\n",
       "      <td>1</td>\n",
       "      <td>2397607444</td>\n",
       "      <td>56d85149dabfae2eee04e924</td>\n",
       "    </tr>\n",
       "  </tbody>\n",
       "</table>\n",
       "</div>"
      ],
      "text/plain": [
       "          mid                       aid\n",
       "0  2164199381  53e99784b7602d9701f3e141\n",
       "1  2397607444  56d85149dabfae2eee04e924"
      ]
     },
     "execution_count": 43,
     "metadata": {},
     "output_type": "execute_result"
    }
   ],
   "source": [
    "links"
   ]
  },
  {
   "cell_type": "code",
   "execution_count": 48,
   "metadata": {},
   "outputs": [],
   "source": [
    "def get_mid_from_aid(aid, linking_data=links_df):\n",
    "    return linking_data[linking_data.aid == aid].mid.iloc[0]"
   ]
  },
  {
   "cell_type": "code",
   "execution_count": 50,
   "metadata": {},
   "outputs": [],
   "source": [
    "def create_links_df(file_path):\n",
    "    with open(file_path, \"rb\") as bigfile:\n",
    "        lines = bigfile.readlines()\n",
    "        parsed = [parse_one_line(l) for l in lines]\n",
    "        df = pd.DataFrame(parsed)\n",
    "        df_final.to_csv(f\"{file_path.replace('.txt', '.pkl')}\")\n",
    "        del df_final\n",
    "        del df\n",
    "        del parsed\n",
    "        del lines"
   ]
  },
  {
   "cell_type": "code",
   "execution_count": null,
   "metadata": {},
   "outputs": [],
   "source": []
  },
  {
   "cell_type": "code",
   "execution_count": null,
   "metadata": {},
   "outputs": [],
   "source": []
  },
  {
   "cell_type": "markdown",
   "metadata": {},
   "source": [
    "### New (correct) OAG v2 paper data parse"
   ]
  },
  {
   "cell_type": "code",
   "execution_count": 53,
   "metadata": {},
   "outputs": [],
   "source": [
    "line_format = '{\"id\": \"100000002\", \"title\": \"Electron Spin Resonance Investigations of Oxygen-Centered Free Radicals in Biological Systems\", \"authors\": [{\"name\": \"Ronald P. Mason\", \"id\": \"2105522006\", \"org\": \"National Institute of Environmental Health Sciences\"}, {\"name\": \"Kim M. Morehouse\", \"id\": \"1885406747\", \"org\": \"National Institute of Environmental Health Sciences\"}], \"venue\": {\"raw\": \"Basic life sciences\", \"id\": \"2755686662\"}, \"year\": 1988, \"n_citation\": 7, \"page_start\": \"21\", \"page_end\": \"27\", \"doc_type\": \"Journal\", \"publisher\": \"Springer, Boston, MA\", \"volume\": \"49\", \"issue\": \"\", \"doi\": \"10.1007/978-1-4684-5568-7_3\", \"references\": [\"309187610\", \"621687377\", \"1570089337\", \"1573704697\", \"1974808158\", \"1988861241\", \"1992648148\", \"1993234579\", \"2003815800\", \"2008081488\", \"2013157983\", \"2034920028\", \"2038499748\", \"2040687325\", \"2050994988\", \"2055365561\", \"2056603482\", \"2085215055\", \"2270686920\", \"2309733666\", \"2326787751\", \"2401979417\", \"2599525179\"], \"indexed_abstract\": {\"IndexLength\": 92, \"InvertedIndex\": {\"Oxygen-centered\": [0], \"free\": [1, 66, 70, 81], \"radicals\": [2], \"have\": [3], \"been\": [4], \"detected\": [5], \"directly\": [6], \"with\": [7], \"ESR\": [8], \"in\": [9], \"a\": [10], \"variety\": [11], \"of\": [12, 22, 34, 40, 79], \"biological\": [13], \"processes\": [14], \"such\": [15], \"as\": [16], \"lipid\": [17], \"autoxidation,1\": [18], \"the\": [19, 32, 37, 51, 59, 76], \"enzymatic\": [20], \"formation\": [21, 30], \"superoxide\": [23], \"by\": [24, 31], \"xanthine\": [25], \"oxidase,2\": [26], \"and\": [27, 50, 53], \"hydroxyl\": [28], \"radical\": [29, 67], \"Y-irradiation\": [33], \"ice.3\": [35], \"Since\": [36], \"common\": [38], \"isotope\": [39], \"oxygen\": [41], \"is\": [42, 48, 88], \"spin-less,\": [43], \"no\": [44], \"nuclear\": [45], \"hyperfine\": [46, 56], \"interaction\": [47], \"possible,\": [49], \"g-value\": [52], \"any\": [54], \"hydrogen\": [55], \"coupling\": [57], \"provide\": [58], \"only\": [60], \"criteria\": [61], \"for\": [62], \"distinguishing\": [63], \"an\": [64], \"oxygen-centered\": [65, 80], \"from\": [68, 84], \"other\": [69], \"radicals.\": [71], \"The\": [72], \"greatest\": [73], \"limitation\": [74], \"on\": [75], \"direct\": [77], \"detection\": [78], \"radicals,\": [82], \"aside\": [83], \"their\": [85, 89], \"high\": [86], \"reactivity,\": [87], \"paramagnetic\": [90], \"properties.\": [91]}}, \"fos\": [{\"name\": \"Hydroxyl radical\", \"w\": 0.6086502}, {\"name\": \"Autoxidation\", \"w\": 0.5395433}, {\"name\": \"Oxygen\", \"w\": 0.473593056}, {\"name\": \"Hyperfine structure\", \"w\": 0.489165723}, {\"name\": \"Photochemistry\", \"w\": 0.4342269}, {\"name\": \"Nuclear magnetic resonance\", \"w\": 0.387757868}, {\"name\": \"Radical\", \"w\": 0.6105946}, {\"name\": \"Electron paramagnetic resonance\", \"w\": 0.539363146}, {\"name\": \"Superoxide\", \"w\": 0.613549}, {\"name\": \"Xanthine oxidase\", \"w\": 0.5216307}, {\"name\": \"Chemistry\", \"w\": 0.392243475}]}'"
   ]
  },
  {
   "cell_type": "code",
   "execution_count": 58,
   "metadata": {},
   "outputs": [],
   "source": [
    "def prune_one_line(line):\n",
    "    dct = parse_one_line(line)\n",
    "    if \"references\" in dct and \"indexed_abstract\" in dct and \"authors\" in dct:\n",
    "        relevant_keys = [\"authors\", \"fos\", \"id\", \"indexed_abstract\", \"n_citation\", \"references\", \"title\", \"year\"]\n",
    "        new_dct = {relevant_key: dct[relevant_key] for relevant_key in relevant_keys if relevant_key in dct}\n",
    "        return new_dct\n",
    "    else:\n",
    "        return {}"
   ]
  },
  {
   "cell_type": "code",
   "execution_count": 72,
   "metadata": {},
   "outputs": [],
   "source": [
    "def prune_and_store(file_path):\n",
    "    with open(file_path, \"rb\") as bigfile:\n",
    "        lines = bigfile.readlines()\n",
    "        parsed = [prune_one_line(l) for l in lines]\n",
    "        proper_parsed = [p for p in parsed if p != {}]\n",
    "        df = pd.DataFrame(proper_parsed)\n",
    "#         df.dropna(subset=[\"authors\"], inplace=True)\n",
    "#         df_final = df[[\"title\", \"year\", \"references\", \"abstract\", \"id\", \"authors\", \"doi\", \"fos\", \"keywords\"]]\n",
    "#         df_final.to_pickle(f\"{file_path.replace('.txt', '.pkl')}\")\n",
    "        del df_final\n",
    "        del df\n",
    "        del proper_parsed\n",
    "        del parsed\n",
    "        del lines"
   ]
  },
  {
   "cell_type": "code",
   "execution_count": 204,
   "metadata": {},
   "outputs": [],
   "source": [
    "def reconstruct_abstract(row):\n",
    "    ia = row.indexed_abstract[\"InvertedIndex\"]\n",
    "    greatest_index = max([v for sublist in ia.values() for v in sublist])\n",
    "    original = [0]*(greatest_index+1)\n",
    "    for key, value in ia.items():\n",
    "        for vi in value:\n",
    "            original[vi] = key\n",
    "    return ' '.join([o for o in original if o != 0])\n",
    "        "
   ]
  },
  {
   "cell_type": "code",
   "execution_count": 154,
   "metadata": {},
   "outputs": [],
   "source": [
    "df = pd.DataFrame([pol]*10000)[[\"authors\", \"fos\", \"id\", \"indexed_abstract\", \"references\", \"title\"]]"
   ]
  },
  {
   "cell_type": "code",
   "execution_count": 144,
   "metadata": {},
   "outputs": [
    {
     "data": {
      "text/plain": [
       "'Oxygen-centered free radicals have been detected directly with ESR in a variety of biological processes such as lipid autoxidation,1 the enzymatic formation of superoxide by xanthine oxidase,2 and hydroxyl radical formation by the Y-irradiation of ice.3 Since the common isotope of oxygen is spin-less, no nuclear hyperfine interaction is possible, and the g-value and any hydrogen hyperfine coupling provide the only criteria for distinguishing an oxygen-centered free radical from other free radicals. The greatest limitation on the direct detection of oxygen-centered free radicals, aside from their high reactivity, is their paramagnetic properties.'"
      ]
     },
     "execution_count": 144,
     "metadata": {},
     "output_type": "execute_result"
    }
   ],
   "source": [
    "reconstruct_abstract(df)"
   ]
  },
  {
   "cell_type": "code",
   "execution_count": 191,
   "metadata": {},
   "outputs": [
    {
     "data": {
      "text/plain": [
       "Index                   128\n",
       "authors              800000\n",
       "fos                 1760000\n",
       "id                   660000\n",
       "indexed_abstract    2240000\n",
       "references          2480000\n",
       "title               1500000\n",
       "abstract            7100000\n",
       "references_ints     2480000\n",
       "dtype: int64"
      ]
     },
     "execution_count": 191,
     "metadata": {},
     "output_type": "execute_result"
    }
   ],
   "source": [
    "df.memory_usage(deep=True)"
   ]
  },
  {
   "cell_type": "code",
   "execution_count": 192,
   "metadata": {},
   "outputs": [
    {
     "name": "stdout",
     "output_type": "stream",
     "text": [
      "<class 'pandas.core.frame.DataFrame'>\n",
      "RangeIndex: 10000 entries, 0 to 9999\n",
      "Columns: 8 entries, authors to references_ints\n",
      "dtypes: object(8)\n",
      "memory usage: 18.1 MB\n"
     ]
    }
   ],
   "source": [
    "df.info(verbose=False, memory_usage=\"deep\")"
   ]
  },
  {
   "cell_type": "code",
   "execution_count": 162,
   "metadata": {},
   "outputs": [],
   "source": [
    "df.fos = df.fos.apply(lambda x: [l[\"name\"] for l in x])"
   ]
  },
  {
   "cell_type": "code",
   "execution_count": 184,
   "metadata": {},
   "outputs": [],
   "source": [
    "df[\"abstract\"] = df.apply(lambda x: reconstruct_abstract(x), axis=1)"
   ]
  },
  {
   "cell_type": "code",
   "execution_count": 190,
   "metadata": {},
   "outputs": [],
   "source": [
    "df[\"references_ints\"] = df.references.apply(lambda x: [int(r) for r in x])"
   ]
  },
  {
   "cell_type": "code",
   "execution_count": null,
   "metadata": {},
   "outputs": [],
   "source": []
  },
  {
   "cell_type": "code",
   "execution_count": null,
   "metadata": {},
   "outputs": [],
   "source": []
  },
  {
   "cell_type": "code",
   "execution_count": null,
   "metadata": {},
   "outputs": [],
   "source": []
  },
  {
   "cell_type": "code",
   "execution_count": 193,
   "metadata": {},
   "outputs": [],
   "source": [
    "relevant_ids = {'2523234776', '1976635760', '2004614297', '1551913486', '2109965314', '2103715837', '2166544285', '2012752337', '2092807552', '2055788211', '1968540870', '1528770034', '1555718253', '2021057584', '2115101884', '2056526316', '2126094208', '2004800182', '1984914703', '2605609748', '2162295340', '2030779556', '2074494814', '2755116418', '2098905232', '2775116822', '1556740837', '2054974655', '2461999087', '2005307845', '2612719840', '2768699576', '2127145329', '2344115944', '1594588550', '2776187354', '2064349957', '2116945158', '2144779341', '2118708764', '2116944962', '1553598237', '2051555347', '2597001181', '2316856729', '1974126996', '2087722470', '2138011625', '1811025707', '2077351095', '1725212355', '2050503510', '2098392074', '2784144927', '2154697689', '2089914064', '2151186186', '1993952805', '2077316957', '2897496442', '2799960915', '2090124817', '1599280433', '2397391077', '1983410974', '2797213912', '2371042489', '2606588421', '2048755332', '2518818175', '2169465005', '2106848268', '2085886556', '1898954768', '1988547326', '2046183929', '2033298239', '258437856', '40292788', '2892400597', '2596313756', '2118858990', '2067095601', '2789237344', '2052165838', '2783177682', '2036681136', '2165856810', '2143077374', '176660163', '2330772472', '1983928592', '2020327911', '408948980', '2601251660', '2603537008', '2128531502', '2617372878', '1976377222', '2105803506', '2095216936', '2568789629', '2896138931', '2068435854', '2101383499', '2050662891', '2586749998', '2724806055', '1991461094', '2046675963', '1966322594', '2152442538'}"
   ]
  },
  {
   "cell_type": "code",
   "execution_count": 195,
   "metadata": {},
   "outputs": [],
   "source": [
    "all_ids = set()"
   ]
  },
  {
   "cell_type": "code",
   "execution_count": 196,
   "metadata": {},
   "outputs": [
    {
     "data": {
      "text/plain": [
       "set()"
      ]
     },
     "execution_count": 196,
     "metadata": {},
     "output_type": "execute_result"
    }
   ],
   "source": [
    "all_ids"
   ]
  },
  {
   "cell_type": "code",
   "execution_count": 197,
   "metadata": {},
   "outputs": [],
   "source": [
    "lijst1 = [1,3,4,5]\n",
    "lijst2 = [73,424,2,3]"
   ]
  },
  {
   "cell_type": "code",
   "execution_count": 198,
   "metadata": {},
   "outputs": [],
   "source": [
    "def process_one_list(lst):\n",
    "    all_ids.update(lst)"
   ]
  },
  {
   "cell_type": "code",
   "execution_count": 200,
   "metadata": {},
   "outputs": [
    {
     "data": {
      "text/plain": [
       "[None, None]"
      ]
     },
     "execution_count": 200,
     "metadata": {},
     "output_type": "execute_result"
    }
   ],
   "source": [
    "[process_one_list(l) for l in [lijst1, lijst2]]"
   ]
  },
  {
   "cell_type": "code",
   "execution_count": 202,
   "metadata": {},
   "outputs": [
    {
     "data": {
      "text/plain": [
       "{1, 2, 3, 4, 5, 73, 424}"
      ]
     },
     "execution_count": 202,
     "metadata": {},
     "output_type": "execute_result"
    }
   ],
   "source": [
    "all_ids"
   ]
  },
  {
   "cell_type": "code",
   "execution_count": 203,
   "metadata": {},
   "outputs": [
    {
     "data": {
      "text/plain": [
       "7"
      ]
     },
     "execution_count": 203,
     "metadata": {},
     "output_type": "execute_result"
    }
   ],
   "source": [
    "len(all_ids)"
   ]
  },
  {
   "cell_type": "code",
   "execution_count": null,
   "metadata": {},
   "outputs": [],
   "source": []
  }
 ],
 "metadata": {
  "kernelspec": {
   "display_name": "Python 3",
   "language": "python",
   "name": "python3"
  },
  "language_info": {
   "codemirror_mode": {
    "name": "ipython",
    "version": 3
   },
   "file_extension": ".py",
   "mimetype": "text/x-python",
   "name": "python",
   "nbconvert_exporter": "python",
   "pygments_lexer": "ipython3",
   "version": "3.6.7"
  }
 },
 "nbformat": 4,
 "nbformat_minor": 4
}
