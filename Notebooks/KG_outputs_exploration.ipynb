{
 "cells": [
  {
   "cell_type": "code",
   "execution_count": 4,
   "metadata": {},
   "outputs": [],
   "source": [
    "import pandas as pd\n",
    "import os\n",
    "import json\n",
    "from pprint import pprint"
   ]
  },
  {
   "cell_type": "code",
   "execution_count": 3,
   "metadata": {},
   "outputs": [],
   "source": [
    "KG_main_path = \"../KG_outputs/\""
   ]
  },
  {
   "cell_type": "code",
   "execution_count": 15,
   "metadata": {},
   "outputs": [],
   "source": [
    "def parse_json_file(file_path):\n",
    "    with open(file_path) as json_file:\n",
    "        data = json.load(json_file)\n",
    "        return data "
   ]
  },
  {
   "cell_type": "code",
   "execution_count": 16,
   "metadata": {},
   "outputs": [],
   "source": [
    "single_author = parse_json_file(f\"{KG_main_path}authors_33.json\")"
   ]
  },
  {
   "cell_type": "code",
   "execution_count": 17,
   "metadata": {},
   "outputs": [
    {
     "data": {
      "text/plain": [
       "{'affiliation': None,\n",
       " 'email_address': None,\n",
       " 'entity_type': 'PERSON',\n",
       " 'first_name': 'Duflos',\n",
       " 'full_name': 'Duflos Kadri',\n",
       " 'h_index': 0,\n",
       " 'initials': 'D',\n",
       " 'last_name': 'Kadri',\n",
       " 'location': None,\n",
       " 'number_of_cites': 0,\n",
       " 'ontology_ID': 'PE_3371538',\n",
       " 'social_media_account': None,\n",
       " 'type': 'instance',\n",
       " 'uid': 4384308}"
      ]
     },
     "execution_count": 17,
     "metadata": {},
     "output_type": "execute_result"
    }
   ],
   "source": [
    "single_author[67980]"
   ]
  },
  {
   "cell_type": "code",
   "execution_count": 18,
   "metadata": {},
   "outputs": [],
   "source": [
    "single_paper = parse_json_file(f\"{KG_main_path}papers_33.json\")"
   ]
  },
  {
   "cell_type": "code",
   "execution_count": 26,
   "metadata": {},
   "outputs": [
    {
     "data": {
      "text/plain": [
       "{'author_string': 'S A Sloman',\n",
       " 'content_type': 'Scientific paper',\n",
       " 'creation_date': None,\n",
       " 'date_last_revised': None,\n",
       " 'entity_type': 'CONTENT',\n",
       " 'full_text': None,\n",
       " 'have_full_paper': False,\n",
       " 'journal': 'Psychol. Bull.,',\n",
       " 'ontology_ID': 'CO_992802',\n",
       " 'our_copy': None,\n",
       " 'pages': '3--22',\n",
       " 'publication_year': '1996',\n",
       " 'source_ID': None,\n",
       " 'title': 'The empirical case for two systems of reasoning.”',\n",
       " 'type': 'instance',\n",
       " 'uid': 4295933,\n",
       " 'volume': '119'}"
      ]
     },
     "execution_count": 26,
     "metadata": {},
     "output_type": "execute_result"
    }
   ],
   "source": [
    "single_paper[87]"
   ]
  },
  {
   "cell_type": "code",
   "execution_count": 21,
   "metadata": {},
   "outputs": [],
   "source": [
    "single_relations = parse_json_file(f\"{KG_main_path}relations_33.json\")"
   ]
  },
  {
   "cell_type": "code",
   "execution_count": 22,
   "metadata": {},
   "outputs": [
    {
     "data": {
      "text/plain": [
       "{'authorOf': {'uid': 4296038}, 'uid': 4296085}"
      ]
     },
     "execution_count": 22,
     "metadata": {},
     "output_type": "execute_result"
    }
   ],
   "source": [
    "single_relations[400]"
   ]
  },
  {
   "cell_type": "code",
   "execution_count": null,
   "metadata": {},
   "outputs": [],
   "source": []
  }
 ],
 "metadata": {
  "kernelspec": {
   "display_name": "Python 3",
   "language": "python",
   "name": "python3"
  },
  "language_info": {
   "codemirror_mode": {
    "name": "ipython",
    "version": 3
   },
   "file_extension": ".py",
   "mimetype": "text/x-python",
   "name": "python",
   "nbconvert_exporter": "python",
   "pygments_lexer": "ipython3",
   "version": "3.6.7"
  }
 },
 "nbformat": 4,
 "nbformat_minor": 2
}
