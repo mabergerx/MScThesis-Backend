{
 "cells": [
  {
   "cell_type": "code",
   "execution_count": 2,
   "metadata": {},
   "outputs": [
    {
     "name": "stdout",
     "output_type": "stream",
     "text": [
      "Copying gs://noobs-ml/sem-search/top_100_authors.csv...\n",
      "/ [1/1 files][  3.9 MiB/  3.9 MiB] 100% Done                                    \n",
      "Operation completed over 1 objects/3.9 MiB.                                      \n"
     ]
    }
   ],
   "source": [
    "# ! gsutil -m cp gs://noobs-ml/sem-search/with_title_and_abstract_sentences_embeddings.csv .\n",
    "# ! gsutil -m cp gs://noobs-ml/sem-search/abstract_sentence_embeddings.npy .\n",
    "# ! gsutil -m cp gs://noobs-ml/sem-search/sentence_alignment.pickle .\n",
    "# ! gsutil -m cp separate_embeddings.npy gs://noobs-ml/sem-search/\n",
    "# ! gsutil -m cp retrofitted_separate_sbert_embeddings.npy gs://noobs-ml/sem-search/\n",
    "# ! gsutil -m cp retrofitted_merged_sbert_embeddings.npy gs://noobs-ml/sem-search/\n",
    "# ! gsutil -m cp data_all_sbert_embeddings_retro.pkl gs://noobs-ml/sem-search/\n",
    "! gsutil -m cp gs://noobs-ml/sem-search/top_100_authors.csv ."
   ]
  },
  {
   "cell_type": "code",
   "execution_count": 2,
   "metadata": {},
   "outputs": [],
   "source": [
    "import pandas as pd\n",
    "import ast\n",
    "import numpy as np\n",
    "import pickle\n",
    "from copy import deepcopy\n",
    "import math\n",
    "from time import time"
   ]
  },
  {
   "cell_type": "code",
   "execution_count": 283,
   "metadata": {},
   "outputs": [],
   "source": [
    "data = pd.read_csv(\"with_title_and_abstract_sentences_embeddings.csv\", usecols=[\"id\", \"title\", \"references\"])"
   ]
  },
  {
   "cell_type": "code",
   "execution_count": 9,
   "metadata": {},
   "outputs": [],
   "source": [
    "# ae = data.abstract_sentence_embeddings[0]"
   ]
  },
  {
   "cell_type": "code",
   "execution_count": 57,
   "metadata": {},
   "outputs": [],
   "source": [
    "# aes = \" \".join(ae.replace(\"\\n\", \"\").replace(\"array([ \", \"[\").replace('dtype', '').split())\n",
    "# aes = aes.replace(\", =float32)]\", \"]\")\n"
   ]
  },
  {
   "cell_type": "code",
   "execution_count": 87,
   "metadata": {},
   "outputs": [],
   "source": [
    "# aess = \" \".join(ae.replace(\"\\n\", \"\").replace(\"      dtype=float32),\", \"\").replace(\"array(\", \"\").replace(\",      dtype=float32)\", \"\").split())"
   ]
  },
  {
   "cell_type": "code",
   "execution_count": 90,
   "metadata": {},
   "outputs": [],
   "source": [
    "# s = '[0 1 2 3]'\n",
    "# a = np.fromstring(s[1:-1], dtype=np.int, sep=' ')\n",
    "# print(a) "
   ]
  },
  {
   "cell_type": "code",
   "execution_count": 88,
   "metadata": {},
   "outputs": [],
   "source": [
    "# np.fromstring(aes[2:-2], dtype=np.float32, sep=\", \")"
   ]
  },
  {
   "cell_type": "code",
   "execution_count": 89,
   "metadata": {},
   "outputs": [],
   "source": [
    "# aes[2:-2]"
   ]
  },
  {
   "cell_type": "code",
   "execution_count": 98,
   "metadata": {},
   "outputs": [],
   "source": [
    "# def create_literal_arrays(array_repr):\n",
    "#     corrected = \" \".join(ae.replace(\"\\n\", \"\").replace(\"      dtype=float32),\", \"\").replace(\"array(\", \"\").replace(\",      dtype=float32)\", \"\").split())\n",
    "#     return ast.literal_eval(corrected)"
   ]
  },
  {
   "cell_type": "code",
   "execution_count": null,
   "metadata": {},
   "outputs": [],
   "source": [
    "# data[\"abstract_sentence_embeddings\"] = data.abstract_sentence_embeddings.apply(lambda x: create_literal_arrays(x))"
   ]
  },
  {
   "cell_type": "code",
   "execution_count": null,
   "metadata": {},
   "outputs": [],
   "source": [
    "# 2"
   ]
  },
  {
   "cell_type": "code",
   "execution_count": 8,
   "metadata": {},
   "outputs": [],
   "source": [
    "# data.drop([\"Unnamed: 0\", \"abstract_sentence_embeddings\"], inplace=True, axis=1)"
   ]
  },
  {
   "cell_type": "code",
   "execution_count": 9,
   "metadata": {},
   "outputs": [],
   "source": [
    "# abstract_sentence_embeddings = np.load(\"abstract_sentence_embeddings.npy\")"
   ]
  },
  {
   "cell_type": "code",
   "execution_count": 12,
   "metadata": {},
   "outputs": [],
   "source": [
    "# with open('sentence_alignment.pickle', 'rb') as handle:\n",
    "#     alignment = pickle.load(handle)"
   ]
  },
  {
   "cell_type": "code",
   "execution_count": 4,
   "metadata": {},
   "outputs": [],
   "source": [
    "# reconstructed_batches = []\n",
    "# for k, v in alignment.items():\n",
    "#     start = v[\"start\"]\n",
    "#     end = v[\"end\"]\n",
    "#     one_batch = []\n",
    "#     for i in range(start, end):\n",
    "#         one_batch.append(abstract_sentence_embeddings[i])\n",
    "#     reconstructed_batches.append(one_batch)"
   ]
  },
  {
   "cell_type": "code",
   "execution_count": 5,
   "metadata": {},
   "outputs": [],
   "source": [
    "# len(reconstructed_batches)"
   ]
  },
  {
   "cell_type": "code",
   "execution_count": 6,
   "metadata": {},
   "outputs": [],
   "source": [
    "# reconstructed_batches_list = [[a.tolist() for a in sublist] for sublist in reconstructed_batches]"
   ]
  },
  {
   "cell_type": "code",
   "execution_count": 7,
   "metadata": {},
   "outputs": [],
   "source": [
    "batches = np.load(\"reconstructed_batches_list.npy\", allow_pickle=True)"
   ]
  },
  {
   "cell_type": "code",
   "execution_count": 10,
   "metadata": {},
   "outputs": [],
   "source": [
    "def calculate_average_abstract_embedding(emb_list):\n",
    "    return np.mean(emb_list, axis=0).tolist()"
   ]
  },
  {
   "cell_type": "code",
   "execution_count": 11,
   "metadata": {},
   "outputs": [
    {
     "name": "stderr",
     "output_type": "stream",
     "text": [
      "/opt/conda/lib/python3.7/site-packages/numpy/core/fromnumeric.py:3335: RuntimeWarning: Mean of empty slice.\n",
      "  out=out, **kwargs)\n",
      "/opt/conda/lib/python3.7/site-packages/numpy/core/_methods.py:161: RuntimeWarning: invalid value encountered in double_scalars\n",
      "  ret = ret.dtype.type(ret / rcount)\n"
     ]
    }
   ],
   "source": [
    "# all_average_embeddings = [calculate_average_abstract_embedding(el) for el in batches]"
   ]
  },
  {
   "cell_type": "code",
   "execution_count": 14,
   "metadata": {},
   "outputs": [],
   "source": [
    "# np.save(\"all_average_embeddings.npy\", all_average_embeddings)"
   ]
  },
  {
   "cell_type": "code",
   "execution_count": 4,
   "metadata": {},
   "outputs": [],
   "source": [
    "# average_embeddings = np.load(\"all_average_embeddings.npy\", allow_pickle=True)"
   ]
  },
  {
   "cell_type": "code",
   "execution_count": 3,
   "metadata": {},
   "outputs": [],
   "source": [
    "# title_embeddings = np.load(\"title_embeddings.npy\")"
   ]
  },
  {
   "cell_type": "code",
   "execution_count": 9,
   "metadata": {},
   "outputs": [
    {
     "data": {
      "text/plain": [
       "300505"
      ]
     },
     "execution_count": 9,
     "metadata": {},
     "output_type": "execute_result"
    }
   ],
   "source": [
    "len(title_embeddings)"
   ]
  },
  {
   "cell_type": "code",
   "execution_count": 17,
   "metadata": {},
   "outputs": [],
   "source": [
    "def calculate_average_embedding_abstract_and_title(abstract, title, strategy=\"merge\", model=embedder):\n",
    "\n",
    "    title_embedding = model.encode(title)\n",
    "    \n",
    "    if strategy == \"merge\":\n",
    "        abstract_embeddings = model.encode(abstract)\n",
    "        merged = np.concatenate((title_embedding, abstract_embeddings), axis=0)\n",
    "        average = np.mean(merged, axis=0)\n",
    "    elif strategy == \"separate\":\n",
    "        average_abstract = get_average_sentences_embedding(abstract)\n",
    "        average = np.mean([average_abstract, title_embedding[0]], axis=0)\n",
    "    else:\n",
    "        print(\"Warning: wrong strategy is used. Use either 'merge' or 'separate'. Proceeding using the 'merge' strategy.\")\n",
    "        abstract_embeddings = model.encode(abstract)\n",
    "        merged = np.concatenate((title_embedding, abstract_embeddings), axis=0)\n",
    "        average = np.mean(merged, axis=0)\n",
    "        \n",
    "    return average"
   ]
  },
  {
   "cell_type": "code",
   "execution_count": 2,
   "metadata": {},
   "outputs": [],
   "source": [
    "# merged_embeddings = []\n",
    "# for title, batch in zip(title_embeddings, batches):\n",
    "#     merged = batch.append(title.tolist())\n",
    "#     mean = np.mean(batch, axis=0)\n",
    "#     merged_embeddings.append(mean)"
   ]
  },
  {
   "cell_type": "code",
   "execution_count": 24,
   "metadata": {},
   "outputs": [],
   "source": [
    "merged_embeddings = np.load(\"merged_embeddings.npy\")"
   ]
  },
  {
   "cell_type": "code",
   "execution_count": 2,
   "metadata": {},
   "outputs": [
    {
     "data": {
      "text/plain": [
       "array([1, 2, 3, 5, 6, 7])"
      ]
     },
     "execution_count": 2,
     "metadata": {},
     "output_type": "execute_result"
    }
   ],
   "source": [
    "np.concatenate((np.array([1,2,3]), np.array([5,6,7])))"
   ]
  },
  {
   "cell_type": "code",
   "execution_count": 10,
   "metadata": {},
   "outputs": [],
   "source": [
    "separate_embeddings = []\n",
    "for title, avg in zip(title_embeddings, average_embeddings):\n",
    "    average = np.mean([avg, title], axis=0).tolist()\n",
    "    separate_embeddings.append(average)"
   ]
  },
  {
   "cell_type": "code",
   "execution_count": 14,
   "metadata": {},
   "outputs": [],
   "source": [
    "# np.save(\"separate_embeddings.npy\", separate_embeddings)"
   ]
  },
  {
   "cell_type": "code",
   "execution_count": null,
   "metadata": {},
   "outputs": [],
   "source": []
  },
  {
   "cell_type": "code",
   "execution_count": 290,
   "metadata": {},
   "outputs": [],
   "source": [
    "''' Retrofit word vectors to a lexicon '''\n",
    "def retrofit(wordVecs, lexicon, numIters):\n",
    "    newWordVecs = deepcopy(corpus)\n",
    "    wvVocab = set(newWordVecs.keys())\n",
    "    loopVocab = wvVocab.intersection(set(lexicon.keys()))\n",
    "    for it in range(numIters):\n",
    "    # loop through every node also in ontology (else just use data estimate)\n",
    "        for word in loopVocab:\n",
    "            if word in {2107594154}:\n",
    "                wordNeighbours = set(lexicon[word]).intersection(wvVocab)\n",
    "                numNeighbours = len(wordNeighbours)\n",
    "                #no neighbours, pass - use data estimate\n",
    "                if numNeighbours == 0:\n",
    "                    continue\n",
    "                # the weight of the data estimate is the number of neighbours\n",
    "                newVec = numNeighbours * wordVecs[word]\n",
    "                # loop over neighbours and add to new vector (currently with weight 1)\n",
    "                for ppWord in wordNeighbours:\n",
    "                    newVec += newWordVecs[ppWord]\n",
    "                newWordVecs[word] = newVec/(2*numNeighbours)\n",
    "            else:\n",
    "                wordNeighbours = set(lexicon[word]).intersection(wvVocab)\n",
    "                numNeighbours = len(wordNeighbours)\n",
    "                #no neighbours, pass - use data estimate\n",
    "                if numNeighbours == 0:\n",
    "                    continue\n",
    "                # the weight of the data estimate is the number of neighbours\n",
    "                newVec = numNeighbours * wordVecs[word]\n",
    "                # loop over neighbours and add to new vector (currently with weight 1)\n",
    "                for ppWord in wordNeighbours:\n",
    "                    newVec += newWordVecs[ppWord]\n",
    "                newWordVecs[word] = newVec/(2*numNeighbours)\n",
    "        print(\"END OF ITERATION\")\n",
    "    return newWordVecs"
   ]
  },
  {
   "cell_type": "code",
   "execution_count": 239,
   "metadata": {},
   "outputs": [],
   "source": [
    "empty_array = np.array([])"
   ]
  },
  {
   "cell_type": "code",
   "execution_count": 247,
   "metadata": {},
   "outputs": [],
   "source": [
    "faulty_ids = []\n",
    "for k, v in corpus.items():\n",
    "    if np.isnan(v[0]):\n",
    "        faulty_ids.append(k)"
   ]
  },
  {
   "cell_type": "code",
   "execution_count": 287,
   "metadata": {},
   "outputs": [],
   "source": [
    "data_no_faulty_ids = data.query(\"id not in @faulty_ids\")"
   ]
  },
  {
   "cell_type": "code",
   "execution_count": 289,
   "metadata": {},
   "outputs": [
    {
     "data": {
      "text/html": [
       "<div>\n",
       "<style scoped>\n",
       "    .dataframe tbody tr th:only-of-type {\n",
       "        vertical-align: middle;\n",
       "    }\n",
       "\n",
       "    .dataframe tbody tr th {\n",
       "        vertical-align: top;\n",
       "    }\n",
       "\n",
       "    .dataframe thead th {\n",
       "        text-align: right;\n",
       "    }\n",
       "</style>\n",
       "<table border=\"1\" class=\"dataframe\">\n",
       "  <thead>\n",
       "    <tr style=\"text-align: right;\">\n",
       "      <th></th>\n",
       "      <th>title</th>\n",
       "      <th>id</th>\n",
       "      <th>references</th>\n",
       "      <th>merged_sbert_embeddings</th>\n",
       "      <th>separate_sbert_embeddings</th>\n",
       "    </tr>\n",
       "  </thead>\n",
       "  <tbody>\n",
       "    <tr>\n",
       "      <th>0</th>\n",
       "      <td>Texture processing of extruded YBa2Cu3O6+x wir...</td>\n",
       "      <td>2046483935</td>\n",
       "      <td>['5326298', '1514024641', '1976557467', '19784...</td>\n",
       "      <td>[0.4932159246876836, 0.17480173707008362, -0.4...</td>\n",
       "      <td>[0.46044804171348613, 0.22540580729643503, -0....</td>\n",
       "    </tr>\n",
       "    <tr>\n",
       "      <th>1</th>\n",
       "      <td>MetaBar - a tool for consistent contextual dat...</td>\n",
       "      <td>2046485931</td>\n",
       "      <td>['1878193911', '1966380925', '1969538518', '19...</td>\n",
       "      <td>[0.08118600398302078, -0.6622746661305428, -0....</td>\n",
       "      <td>[0.22415918608506522, -0.8397057900826136, -0....</td>\n",
       "    </tr>\n",
       "    <tr>\n",
       "      <th>2</th>\n",
       "      <td>Erroneous efficiency reports harm organic sola...</td>\n",
       "      <td>2046488594</td>\n",
       "      <td>['1976071035', '1976716245', '1982320157', '19...</td>\n",
       "      <td>[-0.42702873051166534, 0.25434818118810654, -0...</td>\n",
       "      <td>[-0.42702873051166534, 0.25434818118810654, -0...</td>\n",
       "    </tr>\n",
       "    <tr>\n",
       "      <th>3</th>\n",
       "      <td>Cytokines Score a Knockout Harnessing Gene Tar...</td>\n",
       "      <td>2046488964</td>\n",
       "      <td>['47956823', '1602113709', '2002209097', '2006...</td>\n",
       "      <td>[0.3700085314026532, -0.12047294867583193, 0.0...</td>\n",
       "      <td>[0.31110948682180606, 0.12373845684730138, 0.0...</td>\n",
       "    </tr>\n",
       "    <tr>\n",
       "      <th>4</th>\n",
       "      <td>Hemodynamic Effects of Diuresis at Rest and Du...</td>\n",
       "      <td>2046489009</td>\n",
       "      <td>['138127152', '1615932296', '1968828189', '197...</td>\n",
       "      <td>[-0.1697837064663569, 0.2592622209340334, 0.50...</td>\n",
       "      <td>[-0.3549113192341544, 0.34182563254779036, 0.4...</td>\n",
       "    </tr>\n",
       "  </tbody>\n",
       "</table>\n",
       "</div>"
      ],
      "text/plain": [
       "                                               title          id  \\\n",
       "0  Texture processing of extruded YBa2Cu3O6+x wir...  2046483935   \n",
       "1  MetaBar - a tool for consistent contextual dat...  2046485931   \n",
       "2  Erroneous efficiency reports harm organic sola...  2046488594   \n",
       "3  Cytokines Score a Knockout Harnessing Gene Tar...  2046488964   \n",
       "4  Hemodynamic Effects of Diuresis at Rest and Du...  2046489009   \n",
       "\n",
       "                                          references  \\\n",
       "0  ['5326298', '1514024641', '1976557467', '19784...   \n",
       "1  ['1878193911', '1966380925', '1969538518', '19...   \n",
       "2  ['1976071035', '1976716245', '1982320157', '19...   \n",
       "3  ['47956823', '1602113709', '2002209097', '2006...   \n",
       "4  ['138127152', '1615932296', '1968828189', '197...   \n",
       "\n",
       "                             merged_sbert_embeddings  \\\n",
       "0  [0.4932159246876836, 0.17480173707008362, -0.4...   \n",
       "1  [0.08118600398302078, -0.6622746661305428, -0....   \n",
       "2  [-0.42702873051166534, 0.25434818118810654, -0...   \n",
       "3  [0.3700085314026532, -0.12047294867583193, 0.0...   \n",
       "4  [-0.1697837064663569, 0.2592622209340334, 0.50...   \n",
       "\n",
       "                           separate_sbert_embeddings  \n",
       "0  [0.46044804171348613, 0.22540580729643503, -0....  \n",
       "1  [0.22415918608506522, -0.8397057900826136, -0....  \n",
       "2  [-0.42702873051166534, 0.25434818118810654, -0...  \n",
       "3  [0.31110948682180606, 0.12373845684730138, 0.0...  \n",
       "4  [-0.3549113192341544, 0.34182563254779036, 0.4...  "
      ]
     },
     "execution_count": 289,
     "metadata": {},
     "output_type": "execute_result"
    }
   ],
   "source": [
    "data_no_faulty_ids.head()"
   ]
  },
  {
   "cell_type": "code",
   "execution_count": 252,
   "metadata": {},
   "outputs": [],
   "source": [
    "# data[data['id'].isin(faulty_ids)]"
   ]
  },
  {
   "cell_type": "code",
   "execution_count": 273,
   "metadata": {},
   "outputs": [],
   "source": [
    "# for ae in average_embeddings:\n",
    "#     try:\n",
    "#         if None in ae:\n",
    "#             print(ae)\n",
    "#     except:\n",
    "#         print(ae)"
   ]
  },
  {
   "cell_type": "code",
   "execution_count": 231,
   "metadata": {},
   "outputs": [],
   "source": [
    "# for i in range(8):\n",
    "#     for i in range(2):\n",
    "#         print(newCorpus[2096525273][:5])"
   ]
  },
  {
   "cell_type": "code",
   "execution_count": 284,
   "metadata": {},
   "outputs": [],
   "source": [
    "# data[\"merged_sbert_embeddings\"] = merged_embeddings"
   ]
  },
  {
   "cell_type": "code",
   "execution_count": 285,
   "metadata": {},
   "outputs": [],
   "source": [
    "# data[\"separate_sbert_embeddings\"] = separate_embeddings"
   ]
  },
  {
   "cell_type": "code",
   "execution_count": 126,
   "metadata": {},
   "outputs": [],
   "source": [
    "# merged_embeddings = [x.tolist() for x in merged_embeddings]"
   ]
  },
  {
   "cell_type": "code",
   "execution_count": 291,
   "metadata": {},
   "outputs": [],
   "source": [
    "def normalize_embedding(embedding):\n",
    "    embedding = np.array(embedding)\n",
    "    return embedding / math.sqrt((embedding**2).sum() + 1e-6)"
   ]
  },
  {
   "cell_type": "code",
   "execution_count": 334,
   "metadata": {},
   "outputs": [],
   "source": [
    "def build_lexicon_and_corpus(data):\n",
    "    lexicon = {}\n",
    "    corpus = {}\n",
    "    for pi, pref, pemb in zip(data.id, data.references, data.merged_sbert_embeddings):\n",
    "        lexicon[pi] = [int(i) for i in ast.literal_eval(pref)]\n",
    "        corpus[pi] = normalize_embedding(pemb)\n",
    "    return lexicon, corpus"
   ]
  },
  {
   "cell_type": "code",
   "execution_count": 335,
   "metadata": {},
   "outputs": [],
   "source": [
    "lexicon, corpus = build_lexicon_and_corpus(data_no_faulty_ids)"
   ]
  },
  {
   "cell_type": "code",
   "execution_count": 336,
   "metadata": {},
   "outputs": [
    {
     "name": "stdout",
     "output_type": "stream",
     "text": [
      "END OF ITERATION\n",
      "END OF ITERATION\n",
      "END OF ITERATION\n",
      "END OF ITERATION\n",
      "END OF ITERATION\n",
      "END OF ITERATION\n",
      "END OF ITERATION\n",
      "END OF ITERATION\n",
      "END OF ITERATION\n",
      "END OF ITERATION\n"
     ]
    },
    {
     "data": {
      "text/plain": [
       "108.88173651695251"
      ]
     },
     "execution_count": 336,
     "metadata": {},
     "output_type": "execute_result"
    }
   ],
   "source": [
    "start = time()\n",
    "retrofitted_merged = retrofit(corpus, lexicon, 10)\n",
    "time() - start"
   ]
  },
  {
   "cell_type": "code",
   "execution_count": 316,
   "metadata": {},
   "outputs": [],
   "source": [
    "# data_no_faulty_ids['references'] = data_no_faulty_ids['references'].apply(lambda d: d if d != \"None-placeholder\" else '[]')"
   ]
  },
  {
   "cell_type": "code",
   "execution_count": 305,
   "metadata": {},
   "outputs": [
    {
     "data": {
      "text/plain": [
       "array([ 0.03045467,  0.01490865, -0.02679888,  0.03669132,  0.04959443])"
      ]
     },
     "execution_count": 305,
     "metadata": {},
     "output_type": "execute_result"
    }
   ],
   "source": [
    "corpus[2046483935][:5]"
   ]
  },
  {
   "cell_type": "code",
   "execution_count": 306,
   "metadata": {},
   "outputs": [
    {
     "data": {
      "text/plain": [
       "array([ 0.02864495, -0.00012356, -0.01523238,  0.06767576,  0.03402121])"
      ]
     },
     "execution_count": 306,
     "metadata": {},
     "output_type": "execute_result"
    }
   ],
   "source": [
    "retrofitted[2046483935][:5]"
   ]
  },
  {
   "cell_type": "code",
   "execution_count": 342,
   "metadata": {},
   "outputs": [],
   "source": [
    "retro_list = [na.tolist() for na in retrofitted_merged.values()]"
   ]
  },
  {
   "cell_type": "code",
   "execution_count": 326,
   "metadata": {},
   "outputs": [],
   "source": [
    "# data_no_faulty_ids.reset_index(drop=True, inplace=True)"
   ]
  },
  {
   "cell_type": "code",
   "execution_count": 343,
   "metadata": {},
   "outputs": [],
   "source": [
    "np.save(\"retrofitted_merged_sbert_embeddings.npy\", retro_list)"
   ]
  },
  {
   "cell_type": "code",
   "execution_count": 1,
   "metadata": {},
   "outputs": [],
   "source": [
    "# np.load(\"retrofitted_merged_sbert_embeddings.npy\", allow_pickle=True)"
   ]
  },
  {
   "cell_type": "code",
   "execution_count": 344,
   "metadata": {},
   "outputs": [
    {
     "name": "stderr",
     "output_type": "stream",
     "text": [
      "/opt/conda/lib/python3.7/site-packages/ipykernel_launcher.py:1: SettingWithCopyWarning: \n",
      "A value is trying to be set on a copy of a slice from a DataFrame.\n",
      "Try using .loc[row_indexer,col_indexer] = value instead\n",
      "\n",
      "See the caveats in the documentation: https://pandas.pydata.org/pandas-docs/stable/user_guide/indexing.html#returning-a-view-versus-a-copy\n",
      "  \"\"\"Entry point for launching an IPython kernel.\n"
     ]
    }
   ],
   "source": [
    "data_no_faulty_ids[\"retrofitted_merged_bert_embeddings\"] = retro_list"
   ]
  },
  {
   "cell_type": "code",
   "execution_count": 348,
   "metadata": {},
   "outputs": [
    {
     "name": "stdout",
     "output_type": "stream",
     "text": [
      "<class 'pandas.core.frame.DataFrame'>\n",
      "RangeIndex: 300476 entries, 0 to 300475\n",
      "Data columns (total 7 columns):\n",
      " #   Column                                Non-Null Count   Dtype \n",
      "---  ------                                --------------   ----- \n",
      " 0   title                                 300476 non-null  object\n",
      " 1   id                                    300476 non-null  int64 \n",
      " 2   references                            300476 non-null  object\n",
      " 3   merged_sbert_embeddings               300476 non-null  object\n",
      " 4   separate_sbert_embeddings             300476 non-null  object\n",
      " 5   retrofitted_separate_bert_embeddings  300476 non-null  object\n",
      " 6   retrofitted_merged_bert_embeddings    300476 non-null  object\n",
      "dtypes: int64(1), object(6)\n",
      "memory usage: 7.1 GB\n"
     ]
    }
   ],
   "source": [
    "data_no_faulty_ids.info(memory_usage='deep')"
   ]
  },
  {
   "cell_type": "code",
   "execution_count": 349,
   "metadata": {},
   "outputs": [],
   "source": [
    "# data_no_faulty_ids.to_pickle(\"data_all_sbert_embeddings_retro.pkl\")"
   ]
  },
  {
   "cell_type": "code",
   "execution_count": 3,
   "metadata": {},
   "outputs": [],
   "source": [
    "data = pd.read_pickle(\"data_all_sbert_embeddings_retro.pkl\")"
   ]
  },
  {
   "cell_type": "code",
   "execution_count": 4,
   "metadata": {},
   "outputs": [
    {
     "data": {
      "text/html": [
       "<div>\n",
       "<style scoped>\n",
       "    .dataframe tbody tr th:only-of-type {\n",
       "        vertical-align: middle;\n",
       "    }\n",
       "\n",
       "    .dataframe tbody tr th {\n",
       "        vertical-align: top;\n",
       "    }\n",
       "\n",
       "    .dataframe thead th {\n",
       "        text-align: right;\n",
       "    }\n",
       "</style>\n",
       "<table border=\"1\" class=\"dataframe\">\n",
       "  <thead>\n",
       "    <tr style=\"text-align: right;\">\n",
       "      <th></th>\n",
       "      <th>title</th>\n",
       "      <th>id</th>\n",
       "      <th>references</th>\n",
       "      <th>merged_sbert_embeddings</th>\n",
       "      <th>separate_sbert_embeddings</th>\n",
       "      <th>retrofitted_separate_bert_embeddings</th>\n",
       "      <th>retrofitted_merged_bert_embeddings</th>\n",
       "    </tr>\n",
       "  </thead>\n",
       "  <tbody>\n",
       "    <tr>\n",
       "      <th>0</th>\n",
       "      <td>Texture processing of extruded YBa2Cu3O6+x wir...</td>\n",
       "      <td>2046483935</td>\n",
       "      <td>['5326298', '1514024641', '1976557467', '19784...</td>\n",
       "      <td>[0.4932159246876836, 0.17480173707008362, -0.4...</td>\n",
       "      <td>[0.46044804171348613, 0.22540580729643503, -0....</td>\n",
       "      <td>[0.02864494941749328, -0.0001235631464315181, ...</td>\n",
       "      <td>[0.03394347941226632, -0.0033981509988428873, ...</td>\n",
       "    </tr>\n",
       "    <tr>\n",
       "      <th>1</th>\n",
       "      <td>MetaBar - a tool for consistent contextual dat...</td>\n",
       "      <td>2046485931</td>\n",
       "      <td>['1878193911', '1966380925', '1969538518', '19...</td>\n",
       "      <td>[0.08118600398302078, -0.6622746661305428, -0....</td>\n",
       "      <td>[0.22415918608506522, -0.8397057900826136, -0....</td>\n",
       "      <td>[0.02131571279349928, -0.04861194215507768, -0...</td>\n",
       "      <td>[0.015715423519276094, -0.045007013150989386, ...</td>\n",
       "    </tr>\n",
       "    <tr>\n",
       "      <th>2</th>\n",
       "      <td>Erroneous efficiency reports harm organic sola...</td>\n",
       "      <td>2046488594</td>\n",
       "      <td>['1976071035', '1976716245', '1982320157', '19...</td>\n",
       "      <td>[-0.42702873051166534, 0.25434818118810654, -0...</td>\n",
       "      <td>[-0.42702873051166534, 0.25434818118810654, -0...</td>\n",
       "      <td>[-0.006884977758239316, -0.0001613655922653738...</td>\n",
       "      <td>[-0.006001515931925572, 0.00134417690433098, -...</td>\n",
       "    </tr>\n",
       "    <tr>\n",
       "      <th>3</th>\n",
       "      <td>Cytokines Score a Knockout Harnessing Gene Tar...</td>\n",
       "      <td>2046488964</td>\n",
       "      <td>['47956823', '1602113709', '2002209097', '2006...</td>\n",
       "      <td>[0.3700085314026532, -0.12047294867583193, 0.0...</td>\n",
       "      <td>[0.31110948682180606, 0.12373845684730138, 0.0...</td>\n",
       "      <td>[0.020333075987282605, -0.0019313877330480005,...</td>\n",
       "      <td>[0.023164855468410347, -0.012070801538104869, ...</td>\n",
       "    </tr>\n",
       "    <tr>\n",
       "      <th>4</th>\n",
       "      <td>Hemodynamic Effects of Diuresis at Rest and Du...</td>\n",
       "      <td>2046489009</td>\n",
       "      <td>['138127152', '1615932296', '1968828189', '197...</td>\n",
       "      <td>[-0.1697837064663569, 0.2592622209340334, 0.50...</td>\n",
       "      <td>[-0.3549113192341544, 0.34182563254779036, 0.4...</td>\n",
       "      <td>[-0.01309363138178083, 0.006973425965482617, 0...</td>\n",
       "      <td>[-0.0046112818600819085, 0.003386396169996765,...</td>\n",
       "    </tr>\n",
       "    <tr>\n",
       "      <th>...</th>\n",
       "      <td>...</td>\n",
       "      <td>...</td>\n",
       "      <td>...</td>\n",
       "      <td>...</td>\n",
       "      <td>...</td>\n",
       "      <td>...</td>\n",
       "      <td>...</td>\n",
       "    </tr>\n",
       "    <tr>\n",
       "      <th>300471</th>\n",
       "      <td>Effect of leukocyte antibodies and HLA matchin...</td>\n",
       "      <td>263475322</td>\n",
       "      <td>['1607709818', '1979719355', '2031909680', '20...</td>\n",
       "      <td>[0.22847693581134082, -0.3926648167893291, 0.1...</td>\n",
       "      <td>[0.18440959965320008, -0.5193975425668453, 0.2...</td>\n",
       "      <td>[0.013690730684530597, -0.03856052985778661, 0...</td>\n",
       "      <td>[0.019232013276423963, -0.03305250459027785, 0...</td>\n",
       "    </tr>\n",
       "    <tr>\n",
       "      <th>300472</th>\n",
       "      <td>Monitoring the fermentation process of black t...</td>\n",
       "      <td>263531807</td>\n",
       "      <td>['29179573', '1242867596', '1425730151', '1964...</td>\n",
       "      <td>[0.16274074547820622, -0.2287636717988385, 0.0...</td>\n",
       "      <td>[0.013922079466283321, -0.310257799224928, 0.2...</td>\n",
       "      <td>[-0.003433796225601209, -0.013865532388897123,...</td>\n",
       "      <td>[0.003758565373991596, -0.011532964138458668, ...</td>\n",
       "    </tr>\n",
       "    <tr>\n",
       "      <th>300473</th>\n",
       "      <td>Obesity in pregnancy: risks and outcome.</td>\n",
       "      <td>263532283</td>\n",
       "      <td>[]</td>\n",
       "      <td>[0.19157937914133072, -0.7784594297409058, 0.2...</td>\n",
       "      <td>[0.19157937914133072, -0.7784594297409058, 0.2...</td>\n",
       "      <td>[0.013164317473479905, -0.05349159768272034, 0...</td>\n",
       "      <td>[0.013164317473479905, -0.05349159768272034, 0...</td>\n",
       "    </tr>\n",
       "    <tr>\n",
       "      <th>300474</th>\n",
       "      <td>Imputing Missing Data for Gene Expression Arrays</td>\n",
       "      <td>263545290</td>\n",
       "      <td>['1279126693', '2096863518']</td>\n",
       "      <td>[0.1165076924694909, -0.7019703197810385, -0.1...</td>\n",
       "      <td>[0.23742571100592613, -0.7831216868944466, -0....</td>\n",
       "      <td>[0.019550520149182796, -0.049277177423291754, ...</td>\n",
       "      <td>[0.015412138760603175, -0.05006434374774354, -...</td>\n",
       "    </tr>\n",
       "    <tr>\n",
       "      <th>300475</th>\n",
       "      <td>Detection of Individual Gas Molecules by Graph...</td>\n",
       "      <td>263553050</td>\n",
       "      <td>[]</td>\n",
       "      <td>[0.433863028883934, -0.9318732023239136, -0.18...</td>\n",
       "      <td>[0.433863028883934, -0.9318732023239136, -0.18...</td>\n",
       "      <td>[0.02872653577595753, -0.06170032268957243, -0...</td>\n",
       "      <td>[0.02872653577595753, -0.06170032268957243, -0...</td>\n",
       "    </tr>\n",
       "  </tbody>\n",
       "</table>\n",
       "<p>300476 rows × 7 columns</p>\n",
       "</div>"
      ],
      "text/plain": [
       "                                                    title          id  \\\n",
       "0       Texture processing of extruded YBa2Cu3O6+x wir...  2046483935   \n",
       "1       MetaBar - a tool for consistent contextual dat...  2046485931   \n",
       "2       Erroneous efficiency reports harm organic sola...  2046488594   \n",
       "3       Cytokines Score a Knockout Harnessing Gene Tar...  2046488964   \n",
       "4       Hemodynamic Effects of Diuresis at Rest and Du...  2046489009   \n",
       "...                                                   ...         ...   \n",
       "300471  Effect of leukocyte antibodies and HLA matchin...   263475322   \n",
       "300472  Monitoring the fermentation process of black t...   263531807   \n",
       "300473           Obesity in pregnancy: risks and outcome.   263532283   \n",
       "300474   Imputing Missing Data for Gene Expression Arrays   263545290   \n",
       "300475  Detection of Individual Gas Molecules by Graph...   263553050   \n",
       "\n",
       "                                               references  \\\n",
       "0       ['5326298', '1514024641', '1976557467', '19784...   \n",
       "1       ['1878193911', '1966380925', '1969538518', '19...   \n",
       "2       ['1976071035', '1976716245', '1982320157', '19...   \n",
       "3       ['47956823', '1602113709', '2002209097', '2006...   \n",
       "4       ['138127152', '1615932296', '1968828189', '197...   \n",
       "...                                                   ...   \n",
       "300471  ['1607709818', '1979719355', '2031909680', '20...   \n",
       "300472  ['29179573', '1242867596', '1425730151', '1964...   \n",
       "300473                                                 []   \n",
       "300474                       ['1279126693', '2096863518']   \n",
       "300475                                                 []   \n",
       "\n",
       "                                  merged_sbert_embeddings  \\\n",
       "0       [0.4932159246876836, 0.17480173707008362, -0.4...   \n",
       "1       [0.08118600398302078, -0.6622746661305428, -0....   \n",
       "2       [-0.42702873051166534, 0.25434818118810654, -0...   \n",
       "3       [0.3700085314026532, -0.12047294867583193, 0.0...   \n",
       "4       [-0.1697837064663569, 0.2592622209340334, 0.50...   \n",
       "...                                                   ...   \n",
       "300471  [0.22847693581134082, -0.3926648167893291, 0.1...   \n",
       "300472  [0.16274074547820622, -0.2287636717988385, 0.0...   \n",
       "300473  [0.19157937914133072, -0.7784594297409058, 0.2...   \n",
       "300474  [0.1165076924694909, -0.7019703197810385, -0.1...   \n",
       "300475  [0.433863028883934, -0.9318732023239136, -0.18...   \n",
       "\n",
       "                                separate_sbert_embeddings  \\\n",
       "0       [0.46044804171348613, 0.22540580729643503, -0....   \n",
       "1       [0.22415918608506522, -0.8397057900826136, -0....   \n",
       "2       [-0.42702873051166534, 0.25434818118810654, -0...   \n",
       "3       [0.31110948682180606, 0.12373845684730138, 0.0...   \n",
       "4       [-0.3549113192341544, 0.34182563254779036, 0.4...   \n",
       "...                                                   ...   \n",
       "300471  [0.18440959965320008, -0.5193975425668453, 0.2...   \n",
       "300472  [0.013922079466283321, -0.310257799224928, 0.2...   \n",
       "300473  [0.19157937914133072, -0.7784594297409058, 0.2...   \n",
       "300474  [0.23742571100592613, -0.7831216868944466, -0....   \n",
       "300475  [0.433863028883934, -0.9318732023239136, -0.18...   \n",
       "\n",
       "                     retrofitted_separate_bert_embeddings  \\\n",
       "0       [0.02864494941749328, -0.0001235631464315181, ...   \n",
       "1       [0.02131571279349928, -0.04861194215507768, -0...   \n",
       "2       [-0.006884977758239316, -0.0001613655922653738...   \n",
       "3       [0.020333075987282605, -0.0019313877330480005,...   \n",
       "4       [-0.01309363138178083, 0.006973425965482617, 0...   \n",
       "...                                                   ...   \n",
       "300471  [0.013690730684530597, -0.03856052985778661, 0...   \n",
       "300472  [-0.003433796225601209, -0.013865532388897123,...   \n",
       "300473  [0.013164317473479905, -0.05349159768272034, 0...   \n",
       "300474  [0.019550520149182796, -0.049277177423291754, ...   \n",
       "300475  [0.02872653577595753, -0.06170032268957243, -0...   \n",
       "\n",
       "                       retrofitted_merged_bert_embeddings  \n",
       "0       [0.03394347941226632, -0.0033981509988428873, ...  \n",
       "1       [0.015715423519276094, -0.045007013150989386, ...  \n",
       "2       [-0.006001515931925572, 0.00134417690433098, -...  \n",
       "3       [0.023164855468410347, -0.012070801538104869, ...  \n",
       "4       [-0.0046112818600819085, 0.003386396169996765,...  \n",
       "...                                                   ...  \n",
       "300471  [0.019232013276423963, -0.03305250459027785, 0...  \n",
       "300472  [0.003758565373991596, -0.011532964138458668, ...  \n",
       "300473  [0.013164317473479905, -0.05349159768272034, 0...  \n",
       "300474  [0.015412138760603175, -0.05006434374774354, -...  \n",
       "300475  [0.02872653577595753, -0.06170032268957243, -0...  \n",
       "\n",
       "[300476 rows x 7 columns]"
      ]
     },
     "execution_count": 4,
     "metadata": {},
     "output_type": "execute_result"
    }
   ],
   "source": [
    "data"
   ]
  },
  {
   "cell_type": "code",
   "execution_count": null,
   "metadata": {},
   "outputs": [],
   "source": []
  }
 ],
 "metadata": {
  "environment": {
   "name": "pytorch-gpu.1-4.m46",
   "type": "gcloud",
   "uri": "gcr.io/deeplearning-platform-release/pytorch-gpu.1-4:m46"
  },
  "kernelspec": {
   "display_name": "Python 3",
   "language": "python",
   "name": "python3"
  },
  "language_info": {
   "codemirror_mode": {
    "name": "ipython",
    "version": 3
   },
   "file_extension": ".py",
   "mimetype": "text/x-python",
   "name": "python",
   "nbconvert_exporter": "python",
   "pygments_lexer": "ipython3",
   "version": "3.6.7"
  }
 },
 "nbformat": 4,
 "nbformat_minor": 4
}
