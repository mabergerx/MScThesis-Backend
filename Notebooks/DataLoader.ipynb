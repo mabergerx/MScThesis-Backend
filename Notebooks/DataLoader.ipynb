{
 "cells": [
  {
   "cell_type": "code",
   "execution_count": 11,
   "metadata": {},
   "outputs": [],
   "source": [
    "import numpy as np\n",
    "import os\n",
    "import glob\n",
    "import json\n",
    "import pandas as pd\n",
    "from pprint import pprint"
   ]
  },
  {
   "cell_type": "code",
   "execution_count": 2,
   "metadata": {},
   "outputs": [],
   "source": [
    "main_path = \"../zetaobjects_v1/\""
   ]
  },
  {
   "cell_type": "code",
   "execution_count": 3,
   "metadata": {},
   "outputs": [],
   "source": [
    "def load_paper(paper_id, papers_df):\n",
    "    return papers_df[papers_df[\"za_id\"] == paper_id]"
   ]
  },
  {
   "cell_type": "code",
   "execution_count": 4,
   "metadata": {},
   "outputs": [],
   "source": [
    "def load_chunk_papers(chunk_path):\n",
    "    sub_chunks = [f\"{chunk_path}/{el}\" for el in os.listdir(chunk_path)]\n",
    "    return sub_chunks"
   ]
  },
  {
   "cell_type": "code",
   "execution_count": 5,
   "metadata": {},
   "outputs": [],
   "source": [
    "def load_subchunk_info(subchunk_path):\n",
    "    info_path = f\"{subchunk_path}/main\"\n",
    "    try:\n",
    "        with open(info_path, 'r') as j:\n",
    "            paper_info = json.loads(j.read())\n",
    "            return paper_info\n",
    "    except FileNotFoundError:\n",
    "        return {}"
   ]
  },
  {
   "cell_type": "code",
   "execution_count": 13,
   "metadata": {},
   "outputs": [],
   "source": [
    "def load_subchunk_representations(subchunk_path):\n",
    "    try:\n",
    "        sentences_path = glob.glob( f\"{subchunk_path}/representations/text_sentences*\")[0]\n",
    "    except IndexError:\n",
    "        sentences_path = \"None\"\n",
    "        \n",
    "    try:\n",
    "        embedding_path = glob.glob( f\"{subchunk_path}/representations/document_embedding*\")[0]\n",
    "        with open(embedding_path, 'r') as j:\n",
    "            embedding_dir = \"../\"+json.loads(j.read())[\"value\"][\"pointer\"][6:]\n",
    "    except IndexError:\n",
    "        embedding_dir = \"None\"\n",
    "        \n",
    "    try:\n",
    "        sbert_merged_embedding_path = f\"{subchunk_path}/representations/sbert_embedding_merged\"\n",
    "        with open(sbert_merged_embedding_path, 'r') as j:\n",
    "            sbert_merged_embedding_dir = \"../\"+json.loads(j.read())[\"value\"][\"pointer\"][6:]\n",
    "    except IndexError:\n",
    "        sbert_merged_embedding_dir = \"None\"\n",
    "        \n",
    "    try:\n",
    "        sbert_separate_embedding_path = f\"{subchunk_path}/representations/sbert_embedding_separate\"\n",
    "        with open(sbert_separate_embedding_path, 'r') as j:\n",
    "            sbert_separate_embedding_dir = \"../\"+json.loads(j.read())[\"value\"][\"pointer\"][6:]\n",
    "    except IndexError:\n",
    "        sbert_separate_embedding_dir = \"None\"\n",
    "    \n",
    "    try:\n",
    "        tfidf_merged_embedding_path = f\"{subchunk_path}/representations/tfidf_vector_merged\"\n",
    "        with open(tfidf_merged_embedding_path, 'r') as j:\n",
    "            tfidf_merged_embedding_dir = \"../\"+json.loads(j.read())[\"value\"][\"pointer\"][6:]\n",
    "    except IndexError:\n",
    "        tfidf_merged_embedding_dir = \"None\"\n",
    "        \n",
    "    try:\n",
    "        tfidf_separate_embedding_path = f\"{subchunk_path}/representations/tfidf_vector_separate\"\n",
    "        with open(tfidf_separate_embedding_path, 'r') as j:\n",
    "            tfidf_separate_embedding_dir = \"../\"+json.loads(j.read())[\"value\"][\"pointer\"][6:]\n",
    "    except IndexError:\n",
    "        tfidf_separate_embedding_dir = \"None\"\n",
    "    \n",
    "    return {\"fulltext_sentences_dir\": sentences_path,\n",
    "           \"za_scibert_embedding_dir\": embedding_dir,\n",
    "           \"mb_sbert_embedding_merged_dir\": sbert_merged_embedding_dir,\n",
    "           \"mb_sbert_embedding_separate_dir\": sbert_separate_embedding_dir,\n",
    "           \"mb_tfidf_embedding_merged_dir\": tfidf_merged_embedding_dir,\n",
    "           \"mb_tfidf_embedding_separate_dir\": tfidf_separate_embedding_dir}"
   ]
  },
  {
   "cell_type": "code",
   "execution_count": 14,
   "metadata": {},
   "outputs": [],
   "source": [
    "def load_sentences(sentences_path):\n",
    "    with open(sentences_path, 'r') as j:\n",
    "        sentences = json.loads(j.read())[\"value\"]\n",
    "        # MORE PREPROCESSING!\n",
    "    return sentences"
   ]
  },
  {
   "cell_type": "code",
   "execution_count": 17,
   "metadata": {},
   "outputs": [],
   "source": [
    "def load_all_paper_data(main_path=main_path):\n",
    "    all_chunks = os.listdir(main_path)\n",
    "    all_subchunks = [el for sublist in [load_chunk_papers(f\"{main_path}{chunk}\") for chunk in all_chunks if chunk not in [\"embeddings\",\n",
    "                                                                                                                          \"sbert_embedings_abstract_title_merged\", \n",
    "                                                                                                                          \"sbert_embedings_abstract_title_separate\",\n",
    "                                                                                                                          \"tfidf_vector_abstract_title_merged\",\n",
    "                                                                                                                          \"tfidf_vector_abstract_title_separate\"]] for el in sublist]\n",
    "    all_papers_info = []\n",
    "    \n",
    "    def try_retrieve(source, value1, value2=None):\n",
    "        if value2:\n",
    "            try:\n",
    "                return info[value1][value2]\n",
    "            except KeyError:\n",
    "                return \"None\"\n",
    "        else:\n",
    "            try:\n",
    "                return info[value1]\n",
    "            except KeyError:\n",
    "                return \"None\"\n",
    "    \n",
    "    for subchunk in all_subchunks:\n",
    "        info = load_subchunk_info(subchunk)\n",
    "        representations = load_subchunk_representations(subchunk)\n",
    "        paper_data = {\n",
    "            \"title\": try_retrieve(info, \"metadata\", \"DCMI.title\"),\n",
    "            \"abstract\": try_retrieve(info, \"metadata\", \"DCMI.abstract\"),\n",
    "            \"date\": try_retrieve(info, \"metadata\", \"DCMI.created\"),\n",
    "            \"authors\": try_retrieve(info, \"metadata\", \"DCMI.creator\"),\n",
    "            \"format\": try_retrieve(info, \"metadata\", \"DCMI.format\"),\n",
    "            \"subjects\": try_retrieve(info, \"metadata\", \"DCMI.subject\"),\n",
    "            \"za_id\": try_retrieve(info, \"guid\"),\n",
    "            \"uri\": try_retrieve(info, \"uri\"),\n",
    "            \"full_sentences_path\": representations[\"fulltext_sentences_dir\"],\n",
    "            \"full_scibert_embedding_path\": representations[\"za_scibert_embedding_dir\"],\n",
    "            \"full_sbert_embedings_abstract_title_merged_path\": representations[\"mb_sbert_embedding_merged_dir\"],\n",
    "            \"full_sbert_embedings_abstract_title_separate_path\": representations[\"mb_sbert_embedding_separate_dir\"],\n",
    "            \"tfidf_embeddings_abstract_title_merged_path\": representations[\"mb_tfidf_embedding_merged_dir\"],\n",
    "            \"tfidf_embeddings_abstract_title_separate_path\": representations[\"mb_tfidf_embedding_separate_dir\"],\n",
    "        }\n",
    "        all_papers_info.append(paper_data)\n",
    "    \n",
    "    papers_df = pd.DataFrame(all_papers_info)\n",
    "    \n",
    "    return papers_df"
   ]
  },
  {
   "cell_type": "code",
   "execution_count": 26,
   "metadata": {},
   "outputs": [],
   "source": [
    "all_papers = load_all_paper_data()"
   ]
  },
  {
   "cell_type": "code",
   "execution_count": 28,
   "metadata": {},
   "outputs": [
    {
     "data": {
      "text/plain": [
       "468"
      ]
     },
     "execution_count": 28,
     "metadata": {},
     "output_type": "execute_result"
    }
   ],
   "source": [
    "len(all_papers)"
   ]
  },
  {
   "cell_type": "code",
   "execution_count": 48,
   "metadata": {},
   "outputs": [
    {
     "data": {
      "text/plain": [
       "'../zetaobjects_v1/sbert_embedings_abstract_title_merged/2484/2484d98c96ce21595ff0e664e0ac5e993b17ac71/embedding.npy'"
      ]
     },
     "execution_count": 48,
     "metadata": {},
     "output_type": "execute_result"
    }
   ],
   "source": [
    "all_papers.iloc[328].full_sbert_embedings_abstract_title_merged_path      "
   ]
  },
  {
   "cell_type": "code",
   "execution_count": 50,
   "metadata": {},
   "outputs": [],
   "source": [
    "# all_papers.to_pickle(\"../Pickles/all_papers_with_added_sbert_embeddings.pkl\")"
   ]
  },
  {
   "cell_type": "code",
   "execution_count": 16,
   "metadata": {},
   "outputs": [],
   "source": [
    "a = np.random.lognormal(sigma=1.05, size=vec1.shape)"
   ]
  },
  {
   "cell_type": "code",
   "execution_count": 17,
   "metadata": {},
   "outputs": [],
   "source": [
    "import scipy.spatial"
   ]
  },
  {
   "cell_type": "code",
   "execution_count": 18,
   "metadata": {},
   "outputs": [],
   "source": [
    "# This is a handy function! ALso accepts lists of vectors\n",
    "distances = 1 - scipy.spatial.distance.cdist([vec1], [vec2], \"cosine\")[0]"
   ]
  },
  {
   "cell_type": "code",
   "execution_count": 19,
   "metadata": {},
   "outputs": [
    {
     "data": {
      "text/plain": [
       "array([0.9564087])"
      ]
     },
     "execution_count": 19,
     "metadata": {},
     "output_type": "execute_result"
    }
   ],
   "source": [
    "distances"
   ]
  },
  {
   "cell_type": "code",
   "execution_count": null,
   "metadata": {},
   "outputs": [],
   "source": []
  },
  {
   "cell_type": "code",
   "execution_count": null,
   "metadata": {},
   "outputs": [],
   "source": []
  },
  {
   "cell_type": "markdown",
   "metadata": {},
   "source": [
    "# Functions for loading the embedding and corresponding abstract / title for the visualisation purpose."
   ]
  },
  {
   "cell_type": "markdown",
   "metadata": {},
   "source": [
    "### We want both functions that just load a single paper given the path AND we would want to have a way to load all papers of a first author, to also visualize papers within author."
   ]
  },
  {
   "cell_type": "code",
   "execution_count": 30,
   "metadata": {},
   "outputs": [],
   "source": [
    "all_papers = pd.read_pickle(\"../Pickles/all_papers_with_tfidf.pkl\")"
   ]
  },
  {
   "cell_type": "code",
   "execution_count": 37,
   "metadata": {},
   "outputs": [
    {
     "data": {
      "text/plain": [
       "Index(['title', 'abstract', 'date', 'authors', 'format', 'subjects', 'za_id',\n",
       "       'uri', 'full_sentences_path', 'full_scibert_embedding_path',\n",
       "       'full_sbert_embedings_abstract_title_merged_path',\n",
       "       'full_sbert_embedings_abstract_title_separate_path', 'abstract_sents',\n",
       "       'abstract_and_title_sents', 'first_author',\n",
       "       'tfidf_embeddings_abstract_title_merged_path',\n",
       "       'tfidf_embeddings_abstract_title_separate_path'],\n",
       "      dtype='object')"
      ]
     },
     "execution_count": 37,
     "metadata": {},
     "output_type": "execute_result"
    }
   ],
   "source": [
    "all_papers.columns"
   ]
  },
  {
   "cell_type": "code",
   "execution_count": 31,
   "metadata": {},
   "outputs": [],
   "source": [
    "def load_za_paper_embedding(embedding_path):\n",
    "#     Sometimes, the path looks like this: '../zetaobjects_v1/sbert_embedings_abstract_title_merged/None/None/embedding.npy'. Fix this before.\n",
    "    try:\n",
    "        return np.load(embedding_path)\n",
    "    except FileNotFoundError:\n",
    "        return None"
   ]
  },
  {
   "cell_type": "code",
   "execution_count": 73,
   "metadata": {},
   "outputs": [],
   "source": [
    "vec1 = load_za_paper_embedding(all_papers.iloc[350].tfidf_embeddings_abstract_title_merged_path)\n",
    "vec2 = load_za_paper_embedding(all_papers.iloc[54].tfidf_embeddings_abstract_title_merged_path)"
   ]
  },
  {
   "cell_type": "code",
   "execution_count": 75,
   "metadata": {},
   "outputs": [],
   "source": [
    "# vecs = np.matrix([vec1, vec2])\n",
    "# corr_matrix = ((vecs * vecs.T).A)\n",
    "# corr_matrix"
   ]
  },
  {
   "cell_type": "code",
   "execution_count": 39,
   "metadata": {},
   "outputs": [],
   "source": [
    "def load_for_main_author(author, data):\n",
    "    pass"
   ]
  },
  {
   "cell_type": "code",
   "execution_count": 76,
   "metadata": {},
   "outputs": [],
   "source": [
    "all_merged_paper_vectors_for_tsne = [(row.subjects, row.title, row.abstract, load_za_paper_embedding(row.tfidf_embeddings_abstract_title_merged_path)) for index, row in all_papers.iterrows()]"
   ]
  },
  {
   "cell_type": "code",
   "execution_count": 77,
   "metadata": {},
   "outputs": [],
   "source": [
    "all_merged_paper_vectors_for_tsne_df = pd.DataFrame(all_merged_paper_vectors_for_tsne, columns=[\"subjects\", \"title\", \"abstract\", \"features\"])"
   ]
  },
  {
   "cell_type": "code",
   "execution_count": 78,
   "metadata": {},
   "outputs": [],
   "source": [
    "all_merged_paper_vectors_for_tsne_df.dropna(inplace=True)"
   ]
  },
  {
   "cell_type": "code",
   "execution_count": 79,
   "metadata": {},
   "outputs": [],
   "source": [
    "all_merged_paper_vectors_for_tsne_df_features = pd.DataFrame(all_merged_paper_vectors_for_tsne_df[\"features\"].values.tolist())"
   ]
  },
  {
   "cell_type": "code",
   "execution_count": 90,
   "metadata": {},
   "outputs": [],
   "source": [
    "all_merged_paper_vectors_for_tsne_df_features.to_csv(\"../Viz/Data/subset_features_tfidf_merged.csv\", sep=\"\\t\", index=False)"
   ]
  },
  {
   "cell_type": "code",
   "execution_count": 17,
   "metadata": {},
   "outputs": [],
   "source": [
    "# pd.DataFrame([\" | \".join(value) for value in all_merged_paper_vectors_for_tsne_df[0].values.tolist()] , columns=[\"title\", \"abstract\"]).to_csv(\"subset_subject_title_abstract_sbert_merged.csv\", sep=\"\\t\", index=False)"
   ]
  },
  {
   "cell_type": "code",
   "execution_count": 20,
   "metadata": {},
   "outputs": [],
   "source": [
    "# all_merged_paper_vectors_for_tsne_df[\"subjects\"] = [\" | \".join(value) for value in all_merged_paper_vectors_for_tsne_df[\"subjects\"].values.tolist()]"
   ]
  },
  {
   "cell_type": "code",
   "execution_count": 91,
   "metadata": {},
   "outputs": [],
   "source": [
    "all_merged_paper_vectors_for_tsne_df[[\"title\"]].to_csv(\"../Viz/Data/subset_title_tfidf_merged.csv\", sep=\"\\t\", index=False)"
   ]
  },
  {
   "cell_type": "code",
   "execution_count": 86,
   "metadata": {},
   "outputs": [],
   "source": [
    "# all_merged_paper_vectors_for_tsne_df[[\"features\"]].to_csv(\"../Viz/Data/subset_features_tfidf_merged.csv\", sep=\"\\t\", index=False)"
   ]
  },
  {
   "cell_type": "code",
   "execution_count": 88,
   "metadata": {},
   "outputs": [
    {
     "data": {
      "text/plain": [
       "454"
      ]
     },
     "execution_count": 88,
     "metadata": {},
     "output_type": "execute_result"
    }
   ],
   "source": [
    "len(all_merged_paper_vectors_for_tsne_df[[\"abstract\"]])"
   ]
  },
  {
   "cell_type": "code",
   "execution_count": 102,
   "metadata": {},
   "outputs": [
    {
     "data": {
      "text/html": [
       "<div>\n",
       "<style scoped>\n",
       "    .dataframe tbody tr th:only-of-type {\n",
       "        vertical-align: middle;\n",
       "    }\n",
       "\n",
       "    .dataframe tbody tr th {\n",
       "        vertical-align: top;\n",
       "    }\n",
       "\n",
       "    .dataframe thead th {\n",
       "        text-align: right;\n",
       "    }\n",
       "</style>\n",
       "<table border=\"1\" class=\"dataframe\">\n",
       "  <thead>\n",
       "    <tr style=\"text-align: right;\">\n",
       "      <th></th>\n",
       "      <th>title</th>\n",
       "      <th>abstract</th>\n",
       "      <th>date</th>\n",
       "      <th>authors</th>\n",
       "      <th>format</th>\n",
       "      <th>subjects</th>\n",
       "      <th>za_id</th>\n",
       "      <th>uri</th>\n",
       "      <th>full_sentences_path</th>\n",
       "      <th>full_scibert_embedding_path</th>\n",
       "      <th>full_sbert_embedings_abstract_title_merged_path</th>\n",
       "      <th>full_sbert_embedings_abstract_title_separate_path</th>\n",
       "      <th>abstract_sents</th>\n",
       "      <th>abstract_and_title_sents</th>\n",
       "      <th>first_author</th>\n",
       "      <th>tfidf_embeddings_abstract_title_merged_path</th>\n",
       "      <th>tfidf_embeddings_abstract_title_separate_path</th>\n",
       "    </tr>\n",
       "  </thead>\n",
       "  <tbody>\n",
       "    <tr>\n",
       "      <td>0</td>\n",
       "      <td>Exploiting Uncertainty of Loss Landscape for S...</td>\n",
       "      <td>We introduce novel variants of momentum by i...</td>\n",
       "      <td>2019-05-30T00:00:00+00:00</td>\n",
       "      <td>[{'first_name': 'Vineeth S.', 'last_name': 'Bh...</td>\n",
       "      <td>scientific paper</td>\n",
       "      <td>[cs.LG, math.OC, stat.ML]</td>\n",
       "      <td>24cf70e19fb2a3aebf0ee008ec2f47a86ca5a219</td>\n",
       "      <td>https://arxiv.org/abs/1905.13200</td>\n",
       "      <td>../zetaobjects_v1/24cf/24cf70e19fb2a3aebf0ee00...</td>\n",
       "      <td>../zetaobjects_v1/embeddings/24cf/24cf70e19fb2...</td>\n",
       "      <td>../zetaobjects_v1/sbert_embedings_abstract_tit...</td>\n",
       "      <td>../zetaobjects_v1/sbert_embedings_abstract_tit...</td>\n",
       "      <td>[We introduce novel variants of momentum by in...</td>\n",
       "      <td>[Exploiting Uncertainty of Loss Landscape for ...</td>\n",
       "      <td>{'first_name': 'Vineeth S.', 'last_name': 'Bha...</td>\n",
       "      <td>../zetaobjects_v1/tfidf_vector_abstract_title_...</td>\n",
       "      <td>../zetaobjects_v1/tfidf_vector_abstract_title_...</td>\n",
       "    </tr>\n",
       "    <tr>\n",
       "      <td>1</td>\n",
       "      <td>Understanding Semantics from Speech Through Pr...</td>\n",
       "      <td>End-to-end Spoken Language Understanding (SL...</td>\n",
       "      <td>2019-09-24T00:00:00+00:00</td>\n",
       "      <td>[{'first_name': 'Pengwei', 'last_name': 'Wang'...</td>\n",
       "      <td>scientific paper</td>\n",
       "      <td>[eess.AS, cs.CL, cs.LG]</td>\n",
       "      <td>24c61c200a3b0438770dc7209b7b4ed25c5636d2</td>\n",
       "      <td>https://arxiv.org/abs/1909.10924</td>\n",
       "      <td>../zetaobjects_v1/24c6/24c61c200a3b0438770dc72...</td>\n",
       "      <td>../zetaobjects_v1/embeddings/24c6/24c61c200a3b...</td>\n",
       "      <td>../zetaobjects_v1/sbert_embedings_abstract_tit...</td>\n",
       "      <td>../zetaobjects_v1/sbert_embedings_abstract_tit...</td>\n",
       "      <td>[End-to-end Spoken Language Understanding (SLU...</td>\n",
       "      <td>[Understanding Semantics from Speech Through P...</td>\n",
       "      <td>{'first_name': 'Pengwei', 'last_name': 'Wang',...</td>\n",
       "      <td>../zetaobjects_v1/tfidf_vector_abstract_title_...</td>\n",
       "      <td>../zetaobjects_v1/tfidf_vector_abstract_title_...</td>\n",
       "    </tr>\n",
       "    <tr>\n",
       "      <td>2</td>\n",
       "      <td>Baselines and a datasheet for the Cerema AWP d...</td>\n",
       "      <td>This paper presents the recently published C...</td>\n",
       "      <td>2018-06-11T00:00:00+00:00</td>\n",
       "      <td>[{'first_name': 'Ismaïla', 'last_name': 'Seck'...</td>\n",
       "      <td>scientific paper</td>\n",
       "      <td>[cs.LG, stat.ML]</td>\n",
       "      <td>2492af87a95d96e1d6a7080765438e63c27bc7a3</td>\n",
       "      <td>https://arxiv.org/abs/1806.04016</td>\n",
       "      <td>../zetaobjects_v1/2492/2492af87a95d96e1d6a7080...</td>\n",
       "      <td>../zetaobjects_v1/embeddings/2492/2492af87a95d...</td>\n",
       "      <td>../zetaobjects_v1/sbert_embedings_abstract_tit...</td>\n",
       "      <td>../zetaobjects_v1/sbert_embedings_abstract_tit...</td>\n",
       "      <td>[This paper presents the recently published Ce...</td>\n",
       "      <td>[Baselines and a datasheet for the Cerema AWP ...</td>\n",
       "      <td>{'first_name': 'Ismaïla', 'last_name': 'Seck',...</td>\n",
       "      <td>../zetaobjects_v1/tfidf_vector_abstract_title_...</td>\n",
       "      <td>../zetaobjects_v1/tfidf_vector_abstract_title_...</td>\n",
       "    </tr>\n",
       "    <tr>\n",
       "      <td>3</td>\n",
       "      <td>On the Use of Sparse Filtering for Covariate S...</td>\n",
       "      <td>In this paper we formally analyse the use of...</td>\n",
       "      <td>2016-07-22T00:00:00+00:00</td>\n",
       "      <td>[{'first_name': 'Fabio Massimo', 'last_name': ...</td>\n",
       "      <td>scientific paper</td>\n",
       "      <td>[cs.LG, stat.ML]</td>\n",
       "      <td>24b9fdcca34f3737aca7e5c37e9afab0570b577f</td>\n",
       "      <td>https://arxiv.org/abs/1607.06781</td>\n",
       "      <td>../zetaobjects_v1/24b9/24b9fdcca34f3737aca7e5c...</td>\n",
       "      <td>../zetaobjects_v1/embeddings/24b9/24b9fdcca34f...</td>\n",
       "      <td>../zetaobjects_v1/sbert_embedings_abstract_tit...</td>\n",
       "      <td>../zetaobjects_v1/sbert_embedings_abstract_tit...</td>\n",
       "      <td>[In this paper we formally analyse the use of ...</td>\n",
       "      <td>[On the Use of Sparse Filtering for Covariate ...</td>\n",
       "      <td>{'first_name': 'Fabio Massimo', 'last_name': '...</td>\n",
       "      <td>../zetaobjects_v1/tfidf_vector_abstract_title_...</td>\n",
       "      <td>../zetaobjects_v1/tfidf_vector_abstract_title_...</td>\n",
       "    </tr>\n",
       "    <tr>\n",
       "      <td>4</td>\n",
       "      <td>Finding Bottlenecks: Predicting Student Attrit...</td>\n",
       "      <td>With pressure to increase graduation rates a...</td>\n",
       "      <td>2017-05-07T00:00:00+00:00</td>\n",
       "      <td>[{'first_name': 'Seyed', 'last_name': 'Sajjadi...</td>\n",
       "      <td>scientific paper</td>\n",
       "      <td>[stat.ML, cs.AI, cs.CY, cs.LG, stat.AP]</td>\n",
       "      <td>24b9dcb7d725224375e61dcb10f19032b59e4dfd</td>\n",
       "      <td>https://arxiv.org/abs/1705.02687</td>\n",
       "      <td>../zetaobjects_v1/24b9/24b9dcb7d725224375e61dc...</td>\n",
       "      <td>../zetaobjects_v1/embeddings/24b9/24b9dcb7d725...</td>\n",
       "      <td>../zetaobjects_v1/sbert_embedings_abstract_tit...</td>\n",
       "      <td>../zetaobjects_v1/sbert_embedings_abstract_tit...</td>\n",
       "      <td>[With pressure to increase graduation rates an...</td>\n",
       "      <td>[Finding Bottlenecks: Predicting Student Attri...</td>\n",
       "      <td>{'first_name': 'Seyed', 'last_name': 'Sajjadi'...</td>\n",
       "      <td>../zetaobjects_v1/tfidf_vector_abstract_title_...</td>\n",
       "      <td>../zetaobjects_v1/tfidf_vector_abstract_title_...</td>\n",
       "    </tr>\n",
       "    <tr>\n",
       "      <td>...</td>\n",
       "      <td>...</td>\n",
       "      <td>...</td>\n",
       "      <td>...</td>\n",
       "      <td>...</td>\n",
       "      <td>...</td>\n",
       "      <td>...</td>\n",
       "      <td>...</td>\n",
       "      <td>...</td>\n",
       "      <td>...</td>\n",
       "      <td>...</td>\n",
       "      <td>...</td>\n",
       "      <td>...</td>\n",
       "      <td>...</td>\n",
       "      <td>...</td>\n",
       "      <td>...</td>\n",
       "      <td>...</td>\n",
       "      <td>...</td>\n",
       "    </tr>\n",
       "    <tr>\n",
       "      <td>450</td>\n",
       "      <td>Systematic and multifactor risk models revisited</td>\n",
       "      <td>Systematic and multifactor risk models are r...</td>\n",
       "      <td>2013-12-18T00:00:00+00:00</td>\n",
       "      <td>[{'first_name': 'Michel', 'last_name': 'Fliess...</td>\n",
       "      <td>scientific paper</td>\n",
       "      <td>[q-fin.RM, cs.CE, math.LO, q-fin.CP, stat.ML]</td>\n",
       "      <td>240f9c095d834a05dcdba5b47e134f078110cf54</td>\n",
       "      <td>https://arxiv.org/abs/1312.5271</td>\n",
       "      <td>../zetaobjects_v1/240f/240f9c095d834a05dcdba5b...</td>\n",
       "      <td>../zetaobjects_v1/embeddings/240f/240f9c095d83...</td>\n",
       "      <td>../zetaobjects_v1/sbert_embedings_abstract_tit...</td>\n",
       "      <td>../zetaobjects_v1/sbert_embedings_abstract_tit...</td>\n",
       "      <td>[Systematic and multifactor risk models are re...</td>\n",
       "      <td>[Systematic and multifactor risk models revisi...</td>\n",
       "      <td>{'first_name': 'Michel', 'last_name': 'Fliess'...</td>\n",
       "      <td>../zetaobjects_v1/tfidf_vector_abstract_title_...</td>\n",
       "      <td>../zetaobjects_v1/tfidf_vector_abstract_title_...</td>\n",
       "    </tr>\n",
       "    <tr>\n",
       "      <td>451</td>\n",
       "      <td>When are Overcomplete Topic Models Identifiabl...</td>\n",
       "      <td>Overcomplete latent representations have bee...</td>\n",
       "      <td>2013-08-13T00:00:00+00:00</td>\n",
       "      <td>[{'first_name': 'Animashree', 'last_name': 'An...</td>\n",
       "      <td>scientific paper</td>\n",
       "      <td>[cs.LG, cs.IR, math.NA, math.ST, stat.ML, stat...</td>\n",
       "      <td>240fcff8d68ddcafef9430ec470e9ed77b83a029</td>\n",
       "      <td>https://arxiv.org/abs/1308.2853</td>\n",
       "      <td>../zetaobjects_v1/240f/240fcff8d68ddcafef9430e...</td>\n",
       "      <td>../zetaobjects_v1/embeddings/240f/240fcff8d68d...</td>\n",
       "      <td>../zetaobjects_v1/sbert_embedings_abstract_tit...</td>\n",
       "      <td>../zetaobjects_v1/sbert_embedings_abstract_tit...</td>\n",
       "      <td>[Overcomplete latent representations have been...</td>\n",
       "      <td>[When are Overcomplete Topic Models Identifiab...</td>\n",
       "      <td>{'first_name': 'Animashree', 'last_name': 'Ana...</td>\n",
       "      <td>../zetaobjects_v1/tfidf_vector_abstract_title_...</td>\n",
       "      <td>../zetaobjects_v1/tfidf_vector_abstract_title_...</td>\n",
       "    </tr>\n",
       "    <tr>\n",
       "      <td>452</td>\n",
       "      <td>Memorizing All for Implicit Discourse Relation...</td>\n",
       "      <td>Implicit discourse relation recognition is a...</td>\n",
       "      <td>2019-08-29T00:00:00+00:00</td>\n",
       "      <td>[{'first_name': 'Hongxiao', 'last_name': 'Bai'...</td>\n",
       "      <td>scientific paper</td>\n",
       "      <td>[cs.CL, cs.AI, cs.LG]</td>\n",
       "      <td>249472a243eaab19789f2c63c5485a7c36632b1a</td>\n",
       "      <td>https://arxiv.org/abs/1908.11317</td>\n",
       "      <td>../zetaobjects_v1/2494/249472a243eaab19789f2c6...</td>\n",
       "      <td>../zetaobjects_v1/embeddings/2494/249472a243ea...</td>\n",
       "      <td>../zetaobjects_v1/sbert_embedings_abstract_tit...</td>\n",
       "      <td>../zetaobjects_v1/sbert_embedings_abstract_tit...</td>\n",
       "      <td>[Implicit discourse relation recognition is a ...</td>\n",
       "      <td>[Memorizing All for Implicit Discourse Relatio...</td>\n",
       "      <td>{'first_name': 'Hongxiao', 'last_name': 'Bai',...</td>\n",
       "      <td>../zetaobjects_v1/tfidf_vector_abstract_title_...</td>\n",
       "      <td>../zetaobjects_v1/tfidf_vector_abstract_title_...</td>\n",
       "    </tr>\n",
       "    <tr>\n",
       "      <td>453</td>\n",
       "      <td>Learning Robust Subspace Clustering</td>\n",
       "      <td>We propose a low-rank transformation-learnin...</td>\n",
       "      <td>2013-08-01T00:00:00+00:00</td>\n",
       "      <td>[{'first_name': 'Qiang', 'last_name': 'Qiu', '...</td>\n",
       "      <td>scientific paper</td>\n",
       "      <td>[cs.CV]</td>\n",
       "      <td>2431065b6b52d8b9b9887448515c4b23ccd7d799</td>\n",
       "      <td>https://arxiv.org/abs/1308.0273</td>\n",
       "      <td>../zetaobjects_v1/2431/2431065b6b52d8b9b988744...</td>\n",
       "      <td>../zetaobjects_v1/embeddings/2431/2431065b6b52...</td>\n",
       "      <td>../zetaobjects_v1/sbert_embedings_abstract_tit...</td>\n",
       "      <td>../zetaobjects_v1/sbert_embedings_abstract_tit...</td>\n",
       "      <td>[We propose a low-rank transformation-learning...</td>\n",
       "      <td>[Learning Robust Subspace Clustering, We propo...</td>\n",
       "      <td>{'first_name': 'Qiang', 'last_name': 'Qiu', 'f...</td>\n",
       "      <td>../zetaobjects_v1/tfidf_vector_abstract_title_...</td>\n",
       "      <td>../zetaobjects_v1/tfidf_vector_abstract_title_...</td>\n",
       "    </tr>\n",
       "    <tr>\n",
       "      <td>454</td>\n",
       "      <td>Learning Scheduling Algorithms for Data Proces...</td>\n",
       "      <td>Efficiently scheduling data processing jobs ...</td>\n",
       "      <td>2018-10-03T00:00:00+00:00</td>\n",
       "      <td>[{'first_name': 'Hongzi', 'last_name': 'Mao', ...</td>\n",
       "      <td>scientific paper</td>\n",
       "      <td>[cs.LG, stat.ML]</td>\n",
       "      <td>24a7977cdcff0738dfa311cba630db09ef0b3556</td>\n",
       "      <td>https://arxiv.org/abs/1810.01963</td>\n",
       "      <td>../zetaobjects_v1/24a7/24a7977cdcff0738dfa311c...</td>\n",
       "      <td>../zetaobjects_v1/embeddings/24a7/24a7977cdcff...</td>\n",
       "      <td>../zetaobjects_v1/sbert_embedings_abstract_tit...</td>\n",
       "      <td>../zetaobjects_v1/sbert_embedings_abstract_tit...</td>\n",
       "      <td>[Efficiently scheduling data processing jobs o...</td>\n",
       "      <td>[Learning Scheduling Algorithms for Data Proce...</td>\n",
       "      <td>{'first_name': 'Hongzi', 'last_name': 'Mao', '...</td>\n",
       "      <td>../zetaobjects_v1/tfidf_vector_abstract_title_...</td>\n",
       "      <td>../zetaobjects_v1/tfidf_vector_abstract_title_...</td>\n",
       "    </tr>\n",
       "  </tbody>\n",
       "</table>\n",
       "<p>455 rows × 17 columns</p>\n",
       "</div>"
      ],
      "text/plain": [
       "                                                 title  \\\n",
       "0    Exploiting Uncertainty of Loss Landscape for S...   \n",
       "1    Understanding Semantics from Speech Through Pr...   \n",
       "2    Baselines and a datasheet for the Cerema AWP d...   \n",
       "3    On the Use of Sparse Filtering for Covariate S...   \n",
       "4    Finding Bottlenecks: Predicting Student Attrit...   \n",
       "..                                                 ...   \n",
       "450   Systematic and multifactor risk models revisited   \n",
       "451  When are Overcomplete Topic Models Identifiabl...   \n",
       "452  Memorizing All for Implicit Discourse Relation...   \n",
       "453                Learning Robust Subspace Clustering   \n",
       "454  Learning Scheduling Algorithms for Data Proces...   \n",
       "\n",
       "                                              abstract  \\\n",
       "0      We introduce novel variants of momentum by i...   \n",
       "1      End-to-end Spoken Language Understanding (SL...   \n",
       "2      This paper presents the recently published C...   \n",
       "3      In this paper we formally analyse the use of...   \n",
       "4      With pressure to increase graduation rates a...   \n",
       "..                                                 ...   \n",
       "450    Systematic and multifactor risk models are r...   \n",
       "451    Overcomplete latent representations have bee...   \n",
       "452    Implicit discourse relation recognition is a...   \n",
       "453    We propose a low-rank transformation-learnin...   \n",
       "454    Efficiently scheduling data processing jobs ...   \n",
       "\n",
       "                          date  \\\n",
       "0    2019-05-30T00:00:00+00:00   \n",
       "1    2019-09-24T00:00:00+00:00   \n",
       "2    2018-06-11T00:00:00+00:00   \n",
       "3    2016-07-22T00:00:00+00:00   \n",
       "4    2017-05-07T00:00:00+00:00   \n",
       "..                         ...   \n",
       "450  2013-12-18T00:00:00+00:00   \n",
       "451  2013-08-13T00:00:00+00:00   \n",
       "452  2019-08-29T00:00:00+00:00   \n",
       "453  2013-08-01T00:00:00+00:00   \n",
       "454  2018-10-03T00:00:00+00:00   \n",
       "\n",
       "                                               authors            format  \\\n",
       "0    [{'first_name': 'Vineeth S.', 'last_name': 'Bh...  scientific paper   \n",
       "1    [{'first_name': 'Pengwei', 'last_name': 'Wang'...  scientific paper   \n",
       "2    [{'first_name': 'Ismaïla', 'last_name': 'Seck'...  scientific paper   \n",
       "3    [{'first_name': 'Fabio Massimo', 'last_name': ...  scientific paper   \n",
       "4    [{'first_name': 'Seyed', 'last_name': 'Sajjadi...  scientific paper   \n",
       "..                                                 ...               ...   \n",
       "450  [{'first_name': 'Michel', 'last_name': 'Fliess...  scientific paper   \n",
       "451  [{'first_name': 'Animashree', 'last_name': 'An...  scientific paper   \n",
       "452  [{'first_name': 'Hongxiao', 'last_name': 'Bai'...  scientific paper   \n",
       "453  [{'first_name': 'Qiang', 'last_name': 'Qiu', '...  scientific paper   \n",
       "454  [{'first_name': 'Hongzi', 'last_name': 'Mao', ...  scientific paper   \n",
       "\n",
       "                                              subjects  \\\n",
       "0                            [cs.LG, math.OC, stat.ML]   \n",
       "1                              [eess.AS, cs.CL, cs.LG]   \n",
       "2                                     [cs.LG, stat.ML]   \n",
       "3                                     [cs.LG, stat.ML]   \n",
       "4              [stat.ML, cs.AI, cs.CY, cs.LG, stat.AP]   \n",
       "..                                                 ...   \n",
       "450      [q-fin.RM, cs.CE, math.LO, q-fin.CP, stat.ML]   \n",
       "451  [cs.LG, cs.IR, math.NA, math.ST, stat.ML, stat...   \n",
       "452                              [cs.CL, cs.AI, cs.LG]   \n",
       "453                                            [cs.CV]   \n",
       "454                                   [cs.LG, stat.ML]   \n",
       "\n",
       "                                        za_id  \\\n",
       "0    24cf70e19fb2a3aebf0ee008ec2f47a86ca5a219   \n",
       "1    24c61c200a3b0438770dc7209b7b4ed25c5636d2   \n",
       "2    2492af87a95d96e1d6a7080765438e63c27bc7a3   \n",
       "3    24b9fdcca34f3737aca7e5c37e9afab0570b577f   \n",
       "4    24b9dcb7d725224375e61dcb10f19032b59e4dfd   \n",
       "..                                        ...   \n",
       "450  240f9c095d834a05dcdba5b47e134f078110cf54   \n",
       "451  240fcff8d68ddcafef9430ec470e9ed77b83a029   \n",
       "452  249472a243eaab19789f2c63c5485a7c36632b1a   \n",
       "453  2431065b6b52d8b9b9887448515c4b23ccd7d799   \n",
       "454  24a7977cdcff0738dfa311cba630db09ef0b3556   \n",
       "\n",
       "                                  uri  \\\n",
       "0    https://arxiv.org/abs/1905.13200   \n",
       "1    https://arxiv.org/abs/1909.10924   \n",
       "2    https://arxiv.org/abs/1806.04016   \n",
       "3    https://arxiv.org/abs/1607.06781   \n",
       "4    https://arxiv.org/abs/1705.02687   \n",
       "..                                ...   \n",
       "450   https://arxiv.org/abs/1312.5271   \n",
       "451   https://arxiv.org/abs/1308.2853   \n",
       "452  https://arxiv.org/abs/1908.11317   \n",
       "453   https://arxiv.org/abs/1308.0273   \n",
       "454  https://arxiv.org/abs/1810.01963   \n",
       "\n",
       "                                   full_sentences_path  \\\n",
       "0    ../zetaobjects_v1/24cf/24cf70e19fb2a3aebf0ee00...   \n",
       "1    ../zetaobjects_v1/24c6/24c61c200a3b0438770dc72...   \n",
       "2    ../zetaobjects_v1/2492/2492af87a95d96e1d6a7080...   \n",
       "3    ../zetaobjects_v1/24b9/24b9fdcca34f3737aca7e5c...   \n",
       "4    ../zetaobjects_v1/24b9/24b9dcb7d725224375e61dc...   \n",
       "..                                                 ...   \n",
       "450  ../zetaobjects_v1/240f/240f9c095d834a05dcdba5b...   \n",
       "451  ../zetaobjects_v1/240f/240fcff8d68ddcafef9430e...   \n",
       "452  ../zetaobjects_v1/2494/249472a243eaab19789f2c6...   \n",
       "453  ../zetaobjects_v1/2431/2431065b6b52d8b9b988744...   \n",
       "454  ../zetaobjects_v1/24a7/24a7977cdcff0738dfa311c...   \n",
       "\n",
       "                           full_scibert_embedding_path  \\\n",
       "0    ../zetaobjects_v1/embeddings/24cf/24cf70e19fb2...   \n",
       "1    ../zetaobjects_v1/embeddings/24c6/24c61c200a3b...   \n",
       "2    ../zetaobjects_v1/embeddings/2492/2492af87a95d...   \n",
       "3    ../zetaobjects_v1/embeddings/24b9/24b9fdcca34f...   \n",
       "4    ../zetaobjects_v1/embeddings/24b9/24b9dcb7d725...   \n",
       "..                                                 ...   \n",
       "450  ../zetaobjects_v1/embeddings/240f/240f9c095d83...   \n",
       "451  ../zetaobjects_v1/embeddings/240f/240fcff8d68d...   \n",
       "452  ../zetaobjects_v1/embeddings/2494/249472a243ea...   \n",
       "453  ../zetaobjects_v1/embeddings/2431/2431065b6b52...   \n",
       "454  ../zetaobjects_v1/embeddings/24a7/24a7977cdcff...   \n",
       "\n",
       "       full_sbert_embedings_abstract_title_merged_path  \\\n",
       "0    ../zetaobjects_v1/sbert_embedings_abstract_tit...   \n",
       "1    ../zetaobjects_v1/sbert_embedings_abstract_tit...   \n",
       "2    ../zetaobjects_v1/sbert_embedings_abstract_tit...   \n",
       "3    ../zetaobjects_v1/sbert_embedings_abstract_tit...   \n",
       "4    ../zetaobjects_v1/sbert_embedings_abstract_tit...   \n",
       "..                                                 ...   \n",
       "450  ../zetaobjects_v1/sbert_embedings_abstract_tit...   \n",
       "451  ../zetaobjects_v1/sbert_embedings_abstract_tit...   \n",
       "452  ../zetaobjects_v1/sbert_embedings_abstract_tit...   \n",
       "453  ../zetaobjects_v1/sbert_embedings_abstract_tit...   \n",
       "454  ../zetaobjects_v1/sbert_embedings_abstract_tit...   \n",
       "\n",
       "     full_sbert_embedings_abstract_title_separate_path  \\\n",
       "0    ../zetaobjects_v1/sbert_embedings_abstract_tit...   \n",
       "1    ../zetaobjects_v1/sbert_embedings_abstract_tit...   \n",
       "2    ../zetaobjects_v1/sbert_embedings_abstract_tit...   \n",
       "3    ../zetaobjects_v1/sbert_embedings_abstract_tit...   \n",
       "4    ../zetaobjects_v1/sbert_embedings_abstract_tit...   \n",
       "..                                                 ...   \n",
       "450  ../zetaobjects_v1/sbert_embedings_abstract_tit...   \n",
       "451  ../zetaobjects_v1/sbert_embedings_abstract_tit...   \n",
       "452  ../zetaobjects_v1/sbert_embedings_abstract_tit...   \n",
       "453  ../zetaobjects_v1/sbert_embedings_abstract_tit...   \n",
       "454  ../zetaobjects_v1/sbert_embedings_abstract_tit...   \n",
       "\n",
       "                                        abstract_sents  \\\n",
       "0    [We introduce novel variants of momentum by in...   \n",
       "1    [End-to-end Spoken Language Understanding (SLU...   \n",
       "2    [This paper presents the recently published Ce...   \n",
       "3    [In this paper we formally analyse the use of ...   \n",
       "4    [With pressure to increase graduation rates an...   \n",
       "..                                                 ...   \n",
       "450  [Systematic and multifactor risk models are re...   \n",
       "451  [Overcomplete latent representations have been...   \n",
       "452  [Implicit discourse relation recognition is a ...   \n",
       "453  [We propose a low-rank transformation-learning...   \n",
       "454  [Efficiently scheduling data processing jobs o...   \n",
       "\n",
       "                              abstract_and_title_sents  \\\n",
       "0    [Exploiting Uncertainty of Loss Landscape for ...   \n",
       "1    [Understanding Semantics from Speech Through P...   \n",
       "2    [Baselines and a datasheet for the Cerema AWP ...   \n",
       "3    [On the Use of Sparse Filtering for Covariate ...   \n",
       "4    [Finding Bottlenecks: Predicting Student Attri...   \n",
       "..                                                 ...   \n",
       "450  [Systematic and multifactor risk models revisi...   \n",
       "451  [When are Overcomplete Topic Models Identifiab...   \n",
       "452  [Memorizing All for Implicit Discourse Relatio...   \n",
       "453  [Learning Robust Subspace Clustering, We propo...   \n",
       "454  [Learning Scheduling Algorithms for Data Proce...   \n",
       "\n",
       "                                          first_author  \\\n",
       "0    {'first_name': 'Vineeth S.', 'last_name': 'Bha...   \n",
       "1    {'first_name': 'Pengwei', 'last_name': 'Wang',...   \n",
       "2    {'first_name': 'Ismaïla', 'last_name': 'Seck',...   \n",
       "3    {'first_name': 'Fabio Massimo', 'last_name': '...   \n",
       "4    {'first_name': 'Seyed', 'last_name': 'Sajjadi'...   \n",
       "..                                                 ...   \n",
       "450  {'first_name': 'Michel', 'last_name': 'Fliess'...   \n",
       "451  {'first_name': 'Animashree', 'last_name': 'Ana...   \n",
       "452  {'first_name': 'Hongxiao', 'last_name': 'Bai',...   \n",
       "453  {'first_name': 'Qiang', 'last_name': 'Qiu', 'f...   \n",
       "454  {'first_name': 'Hongzi', 'last_name': 'Mao', '...   \n",
       "\n",
       "           tfidf_embeddings_abstract_title_merged_path  \\\n",
       "0    ../zetaobjects_v1/tfidf_vector_abstract_title_...   \n",
       "1    ../zetaobjects_v1/tfidf_vector_abstract_title_...   \n",
       "2    ../zetaobjects_v1/tfidf_vector_abstract_title_...   \n",
       "3    ../zetaobjects_v1/tfidf_vector_abstract_title_...   \n",
       "4    ../zetaobjects_v1/tfidf_vector_abstract_title_...   \n",
       "..                                                 ...   \n",
       "450  ../zetaobjects_v1/tfidf_vector_abstract_title_...   \n",
       "451  ../zetaobjects_v1/tfidf_vector_abstract_title_...   \n",
       "452  ../zetaobjects_v1/tfidf_vector_abstract_title_...   \n",
       "453  ../zetaobjects_v1/tfidf_vector_abstract_title_...   \n",
       "454  ../zetaobjects_v1/tfidf_vector_abstract_title_...   \n",
       "\n",
       "         tfidf_embeddings_abstract_title_separate_path  \n",
       "0    ../zetaobjects_v1/tfidf_vector_abstract_title_...  \n",
       "1    ../zetaobjects_v1/tfidf_vector_abstract_title_...  \n",
       "2    ../zetaobjects_v1/tfidf_vector_abstract_title_...  \n",
       "3    ../zetaobjects_v1/tfidf_vector_abstract_title_...  \n",
       "4    ../zetaobjects_v1/tfidf_vector_abstract_title_...  \n",
       "..                                                 ...  \n",
       "450  ../zetaobjects_v1/tfidf_vector_abstract_title_...  \n",
       "451  ../zetaobjects_v1/tfidf_vector_abstract_title_...  \n",
       "452  ../zetaobjects_v1/tfidf_vector_abstract_title_...  \n",
       "453  ../zetaobjects_v1/tfidf_vector_abstract_title_...  \n",
       "454  ../zetaobjects_v1/tfidf_vector_abstract_title_...  \n",
       "\n",
       "[455 rows x 17 columns]"
      ]
     },
     "execution_count": 102,
     "metadata": {},
     "output_type": "execute_result"
    }
   ],
   "source": [
    "all_papers"
   ]
  },
  {
   "cell_type": "code",
   "execution_count": null,
   "metadata": {},
   "outputs": [],
   "source": []
  }
 ],
 "metadata": {
  "kernelspec": {
   "display_name": "Python 3",
   "language": "python",
   "name": "python3"
  },
  "language_info": {
   "codemirror_mode": {
    "name": "ipython",
    "version": 3
   },
   "file_extension": ".py",
   "mimetype": "text/x-python",
   "name": "python",
   "nbconvert_exporter": "python",
   "pygments_lexer": "ipython3",
   "version": "3.6.7"
  }
 },
 "nbformat": 4,
 "nbformat_minor": 4
}
